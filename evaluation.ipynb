{
 "cells": [
  {
   "cell_type": "markdown",
   "id": "00bd6376-ecd5-417c-a171-7dab4d83bcf1",
   "metadata": {},
   "source": [
    "# 6.8610  PROJECT"
   ]
  },
  {
   "cell_type": "markdown",
   "id": "c55c8fd1-ac41-4d6b-a093-d2521f337837",
   "metadata": {},
   "source": [
    "## Install and import libraries"
   ]
  },
  {
   "cell_type": "code",
   "execution_count": null,
   "id": "e69c3a0d-afdb-483d-9b58-506857a470e3",
   "metadata": {},
   "outputs": [],
   "source": [
    "!pip install datasets\n",
    "!pip install transformers[torch]\n",
    "!pip install tokenizers\n",
    "!pip install huggingface_hub\n",
    "!pip install tqdm\n",
    "!pip install matplotlib"
   ]
  },
  {
   "cell_type": "code",
   "execution_count": 2,
   "id": "673e826c-17f9-45cf-b600-a0a41d8a33e3",
   "metadata": {},
   "outputs": [
    {
     "name": "stderr",
     "output_type": "stream",
     "text": [
      "c:\\Users\\yezix\\AppData\\Local\\Programs\\Python\\Python311\\Lib\\site-packages\\tqdm\\auto.py:21: TqdmWarning: IProgress not found. Please update jupyter and ipywidgets. See https://ipywidgets.readthedocs.io/en/stable/user_install.html\n",
      "  from .autonotebook import tqdm as notebook_tqdm\n"
     ]
    }
   ],
   "source": [
    "import numpy as np\n",
    "from datasets import Dataset, load_dataset\n",
    "from transformers import T5Tokenizer, T5ForConditionalGeneration\n",
    "from transformers import AutoTokenizer, AutoModelForSeq2SeqLM\n",
    "from torch.optim import AdamW\n",
    "from torch.utils.data import DataLoader, TensorDataset\n",
    "import os\n",
    "import json\n",
    "import torch\n",
    "from tqdm import tqdm\n",
    "import gc\n",
    "import matplotlib.pyplot as plt"
   ]
  },
  {
   "cell_type": "code",
   "execution_count": 3,
   "id": "9ee7e01e",
   "metadata": {},
   "outputs": [
    {
     "name": "stdout",
     "output_type": "stream",
     "text": [
      "cuda\n"
     ]
    }
   ],
   "source": [
    "device = \"cuda\" if torch.cuda.is_available() else \"cpu\"\n",
    "print(device)"
   ]
  },
  {
   "cell_type": "markdown",
   "id": "83a64e28-68b5-489d-97b4-139cbb60c837",
   "metadata": {},
   "source": [
    "## Helpers"
   ]
  },
  {
   "cell_type": "markdown",
   "id": "9e233ba8",
   "metadata": {},
   "source": [
    "### Prepare Dataset\n",
    "Helper functions for loading models, tokenizers, and datasets, and preprocessing data."
   ]
  },
  {
   "cell_type": "code",
   "execution_count": 4,
   "id": "ffeaaefd",
   "metadata": {},
   "outputs": [],
   "source": [
    "def get_latest_checkpoint(checkpoint_dir):\n",
    "    \"\"\"\n",
    "    Get the directory containing the latest checkpoint of a pre-trainied model.\n",
    "    \n",
    "    Parameters:\n",
    "    - checkpoint_dir (str): Directory containing all checkpoints for the model.\n",
    "\n",
    "    Returns:\n",
    "    str: Directory containing the latest checkpoint.\n",
    "    \"\"\"\n",
    "    # List all directories in the results folder\n",
    "    all_checkpoints = [d for d in os.listdir(checkpoint_dir) if os.path.isdir(os.path.join(checkpoint_dir, d))]\n",
    "    # Extract the checkpoint numbers\n",
    "    checkpoint_numbers = [int(d.split(\"-\")[1]) for d in all_checkpoints if d.startswith(\"checkpoint-\")]\n",
    "    # Find the folder name of the latest checkpoint\n",
    "    latest_checkpoint_folder = f\"{checkpoint_dir}/checkpoint-{max(checkpoint_numbers)}\"\n",
    "    \n",
    "    return latest_checkpoint_folder"
   ]
  },
  {
   "cell_type": "code",
   "execution_count": 5,
   "id": "c900f6ad",
   "metadata": {},
   "outputs": [],
   "source": [
    "def load_tokenizer(checkpoint_dir):\n",
    "    \"\"\"\n",
    "    Load the tokenizer of a checkpoint.\n",
    "    \n",
    "    Parameters:\n",
    "    - checkpoint_dir (str): Directory containing the checkpoint to be loaded.\n",
    "\n",
    "    Returns:\n",
    "    transformers.AutoTokenizer: Tokenizer of the specified checkpoint.\n",
    "    \"\"\"\n",
    "    checkpoint = get_latest_checkpoint(checkpoint_dir)\n",
    "    tokenizer = AutoTokenizer.from_pretrained(checkpoint)\n",
    "    return tokenizer"
   ]
  },
  {
   "cell_type": "code",
   "execution_count": 6,
   "id": "310476e8",
   "metadata": {},
   "outputs": [],
   "source": [
    "def load_datasets(dataset_dir):\n",
    "    \"\"\"\n",
    "    Load entity tracking evaluation datasets.\n",
    "    \n",
    "    Parameters:\n",
    "    - dataset_dir (str): Directory containing the entity tracking datasets.\n",
    "\n",
    "    Returns:\n",
    "    - tuple (datasets.Dataset, datasets.Dataset):\n",
    "        - dataset_train: Training dataset containing two-shot prompting examples.\n",
    "        - dataset_test: Testing dataset.\n",
    "    \"\"\"\n",
    "    dataset_train_path = f\"{dataset_dir}/train.jsonl\"\n",
    "    #dataset_test_path = f\"{dataset_dir}/test.jsonl\"\n",
    "    dataset_test_path = f\"{dataset_dir}/test_small.jsonl\"\n",
    "    dataset_train = load_dataset('json', data_files=dataset_train_path)['train']\n",
    "    dataset_test = load_dataset('json', data_files=dataset_test_path)['train']\n",
    "    return dataset_train, dataset_test"
   ]
  },
  {
   "cell_type": "code",
   "execution_count": 7,
   "id": "10a4105d",
   "metadata": {},
   "outputs": [],
   "source": [
    "PROMPT = \"\"\"\n",
    "Given the description after \"Description:\", complete the last sentence with a true statement about the contents\n",
    "of the specified box according to the description.\n",
    "Description: \n",
    "\"\"\"\n",
    "\n",
    "def tokenize_dataset(dataset, tokenizer):\n",
    "    \"\"\"\n",
    "    Prepend the specified prompt to questions and tokenize the input dataset.\n",
    "\n",
    "    Parameters:\n",
    "    - dataset (datasets.Dataset): Dataset to be tokenized.\n",
    "    - tokenizer (transformers.AutoTokenizer): Tokenizer to be used.\n",
    "\n",
    "    Returns:\n",
    "    torch.utils.data.TensorDataset: Tokenized dataset containing input_ids, attention_masks, and labels.\n",
    "    \"\"\"\n",
    "    input_ids = []\n",
    "    attention_masks = []\n",
    "    labels = []\n",
    "\n",
    "    for entry in tqdm(dataset):\n",
    "        # tokenize problem\n",
    "        input_data = PROMPT + entry['sentence_masked'][:-15] + \":\"\n",
    "        input_encoding = tokenizer(input_data, truncation=True, padding='max_length', max_length=512, return_attention_mask = True, return_tensors = 'pt')\n",
    "        input_ids.append(input_encoding['input_ids'])\n",
    "        attention_masks.append(input_encoding['attention_mask'])\n",
    "         # tokenize answer\n",
    "        target = entry['masked_content'][13:]\n",
    "        target_encoding = tokenizer(target, truncation=True, padding='max_length', max_length=512, return_attention_mask = True, return_tensors = 'pt')\n",
    "        target_input_ids = target_encoding['input_ids']\n",
    "        target_input_ids[target_input_ids == tokenizer.pad_token_id] = -100\n",
    "        labels.append(target_input_ids)\n",
    "\n",
    "    input_ids = torch.cat(input_ids, dim=0)\n",
    "    attention_masks = torch.cat(attention_masks, dim=0)\n",
    "    labels = torch.cat(labels, dim=0)\n",
    "    tokenized_data = TensorDataset(input_ids, attention_masks, labels)\n",
    "    return tokenized_data"
   ]
  },
  {
   "cell_type": "code",
   "execution_count": 8,
   "id": "e7e690ca",
   "metadata": {},
   "outputs": [],
   "source": [
    "BATCH_SIZE = 4\n",
    "\n",
    "def make_dataloader(tokenized_dataset):\n",
    "    \"\"\"\n",
    "    Create a dataloader for the given dataset.\n",
    "\n",
    "    Parameters:\n",
    "    - tokenized_dataset (torch.utils.data.TensorDataset): Tokenized dataset containing input_ids, attention_masks, and labels.\n",
    "\n",
    "    Returns:\n",
    "    torch.utils.data.DataLoader: DataLoader configured with the provided tokenized dataset.\n",
    "    \"\"\"\n",
    "    dataloader = DataLoader(tokenized_dataset, batch_size=BATCH_SIZE, shuffle=False)\n",
    "    return dataloader"
   ]
  },
  {
   "cell_type": "markdown",
   "id": "f3c60ce3",
   "metadata": {},
   "source": [
    "### Two-Shot Training\n",
    "Helper functions for training a model with two examples."
   ]
  },
  {
   "cell_type": "code",
   "execution_count": 9,
   "id": "f3cb1634",
   "metadata": {},
   "outputs": [],
   "source": [
    "def load_model(checkpoint_dir):\n",
    "    \"\"\"\n",
    "    Load a pre-trained language model from the latest checkpoint in the specified directory.\n",
    "\n",
    "    Parameters:\n",
    "    - checkpoint_dir (str): Directory containing checkpoints of the model.\n",
    "\n",
    "    Returns:\n",
    "    transformers.AutoModelForSeq2SeqLM: Loaded sequence-to-sequence language model.\n",
    "    \"\"\"\n",
    "    checkpoint = get_latest_checkpoint(checkpoint_dir)\n",
    "    model = AutoModelForSeq2SeqLM.from_pretrained(checkpoint).to(device)\n",
    "    return model"
   ]
  },
  {
   "cell_type": "code",
   "execution_count": 10,
   "id": "95a2de95",
   "metadata": {},
   "outputs": [],
   "source": [
    "def train_model(model, train_loader):\n",
    "    \"\"\"\n",
    "    Train the provided model using the specified DataLoader.\n",
    "    The function uses the AdamW optimizer with a learning rate of 1e-4 and epsilon of 1e-8. Training is performed for 5 epochs.\n",
    "\n",
    "    Parameters:\n",
    "    - model (transformers.AutoModelForSeq2SeqLM): The sequence-to-sequence language model to be trained.\n",
    "    - train_loader (torch.utils.data.DataLoader): DataLoader providing batches of tokenized training data.\n",
    "\n",
    "    Returns:\n",
    "    None\n",
    "    \"\"\"\n",
    "    optimizer = AdamW(model.parameters(), lr = 1e-4, eps = 1e-8)\n",
    "\n",
    "    for _ in tqdm(range(5)):\n",
    "\n",
    "        total_train_loss = 0\n",
    "        model.train()\n",
    "\n",
    "        for batch in tqdm(train_loader):\n",
    "\n",
    "          input_ids = batch[0].to(device)\n",
    "          input_mask = batch[1].to(device)\n",
    "          labels = batch[2].to(device)\n",
    "          \n",
    "          model.zero_grad()\n",
    "          outputs = model(input_ids, attention_mask=input_mask, labels=labels)\n",
    "          loss = outputs.loss\n",
    "          total_train_loss += loss\n",
    "          loss.backward()\n",
    "          torch.nn.utils.clip_grad_norm_(model.parameters(), 1.0)\n",
    "          optimizer.step()\n",
    "    \n",
    "    print(f\"Total train loss: {total_train_loss}.\")"
   ]
  },
  {
   "cell_type": "markdown",
   "id": "d436eae9",
   "metadata": {},
   "source": [
    "### Generate Predictions\n",
    "Helper functions for generating predictions using a model."
   ]
  },
  {
   "cell_type": "code",
   "execution_count": 11,
   "id": "75e560d5",
   "metadata": {},
   "outputs": [],
   "source": [
    "def make_prediction_all(model, tokenizer, dataloader):\n",
    "    \"\"\"\n",
    "    Generate predictions for data in the provided DataLoader using the provided model.\n",
    "\n",
    "    Parameters:\n",
    "    - model (transformers.AutoModelForSeq2SeqLM): The sequence-to-sequence language model used for generating predictions.\n",
    "    - tokenizer (transformers.AutoTokenizer): The tokenizer used for decoding generated sequences.\n",
    "    - dataloader (torch.utils.data.DataLoader): DataLoader providing batches of tokenized input data for prediction.\n",
    "\n",
    "    Returns:\n",
    "    list: A list containing the generated prediction sequences.\n",
    "    \"\"\"\n",
    "    model_predictions = []\n",
    "\n",
    "    for batch in tqdm(dataloader):\n",
    "\n",
    "        # Generate sequences for the batch\n",
    "        input_ids = batch[0].to(device)\n",
    "        input_mask = batch[1].to(device)\n",
    "        sequence_ids = model.generate(input_ids, attention_mask=input_mask)\n",
    "        sequences = tokenizer.batch_decode(sequence_ids, skip_special_tokens=True)\n",
    "\n",
    "        # Accumulate generated sequences\n",
    "        model_predictions.extend(sequences)\n",
    "\n",
    "    return model_predictions"
   ]
  },
  {
   "cell_type": "code",
   "execution_count": 12,
   "id": "3c739942",
   "metadata": {},
   "outputs": [],
   "source": [
    "def add_prediction_to_data(model_preds, model_name, lr, dataset):\n",
    "    \"\"\"\n",
    "    Add provided model predictions to the provided dataset as a new prediction column .\n",
    "\n",
    "    Parameters:\n",
    "    - model_preds (list): List of model predictions to be added.\n",
    "    - model_name (str): Name of the model used for predictions.\n",
    "    - lr (str or float): Learning rate associated with the provided model.\n",
    "    - dataset (datasets.Dataset): The dataset to which the predictions will be added.\n",
    "\n",
    "    Returns:\n",
    "    datasets.Dataset: The input dataset with an additional column containing the model predictions.\n",
    "    \"\"\"\n",
    "    dataset = dataset.add_column(f\"model_{model_name}_{lr}_pred\", model_preds)\n",
    "    return dataset"
   ]
  },
  {
   "cell_type": "markdown",
   "id": "961fe87b",
   "metadata": {},
   "source": [
    "## Evaluation Loop\n",
    "Load models and data, process data, and generate and save predictions."
   ]
  },
  {
   "cell_type": "code",
   "execution_count": 13,
   "id": "b35bc934",
   "metadata": {},
   "outputs": [],
   "source": [
    "dataset_train, dataset_test = load_datasets(\"./eval/current_use\")"
   ]
  },
  {
   "cell_type": "code",
   "execution_count": 14,
   "id": "9a8043ea",
   "metadata": {},
   "outputs": [],
   "source": [
    "# from scratch\n",
    "dataset_test_all = Dataset.from_dict({\n",
    "    # problem and solution\n",
    "    'sentence_masked': dataset_test['sentence_masked'],\n",
    "    'masked_content': dataset_test['masked_content'],\n",
    "    # metadata\n",
    "    'sample_id': dataset_test['sample_id'],\n",
    "    'numops': dataset_test['numops'],\n",
    "    })"
   ]
  },
  {
   "cell_type": "code",
   "execution_count": 35,
   "id": "7b994e1b",
   "metadata": {},
   "outputs": [],
   "source": [
    "# add to existing\n",
    "# dataset_test_all = load_dataset('json', data_files=\"./results/eval/preds/preds_twoshot_small.jsonl\")['train']"
   ]
  },
  {
   "cell_type": "code",
   "execution_count": 36,
   "id": "a1b03e3d",
   "metadata": {},
   "outputs": [],
   "source": [
    "def evaluate_model(model_name=\"base\", lr=\"3e-4\", zeroshot=True):\n",
    "    \"\"\"\n",
    "    Evaluate a sequence-to-sequence language model's performance.\n",
    "\n",
    "    Parameters:\n",
    "    - model_name (str): Name of the pre-trained model to evaluate (default is \"base\").\n",
    "    - lr (str or float): Learning rate associated with the model (default is \"3e-4\").\n",
    "    - zeroshot (bool): Flag indicating whether to perform zero-shot evaluation (default is True).\n",
    "\n",
    "    Returns:\n",
    "    list: A list containing the generated predictions based on the specified model and evaluation settings.\n",
    "    \"\"\"\n",
    "    # prepare datasets\n",
    "    tokenizer = load_tokenizer(f\"./results/{model_name}/{lr}/\")\n",
    "    tokenized_dataset_train = tokenize_dataset(dataset_train, tokenizer)\n",
    "    tokenized_dataset_test = tokenize_dataset(dataset_test, tokenizer)\n",
    "    train_loader = make_dataloader(tokenized_dataset_train)\n",
    "    test_loader = make_dataloader(tokenized_dataset_test)\n",
    "\n",
    "    # load and potentially train model\n",
    "    model = load_model(f\"./results/{model_name}/{lr}/\")\n",
    "    if not zeroshot:\n",
    "        train_model(model, train_loader)\n",
    "\n",
    "    # make predictions\n",
    "    model_preds = make_prediction_all(model, tokenizer, test_loader)\n",
    "    if zeroshot:\n",
    "        dataset_test.to_json(f\"./results/eval/preds/preds_{model_name}_{lr}_zeroshot.jsonl\", orient=\"records\")\n",
    "    else:\n",
    "        dataset_test.to_json(f\"./results/eval/preds/preds_{model_name}_{lr}_twoshot.jsonl\", orient=\"records\")\n",
    "    \n",
    "    # garbage collection\n",
    "    del model, tokenizer, tokenized_dataset_train, tokenized_dataset_test, train_loader, test_loader\n",
    "    gc.collect()\n",
    "    torch.cuda.empty_cache()\n",
    "\n",
    "    return model_preds"
   ]
  },
  {
   "cell_type": "code",
   "execution_count": 17,
   "id": "eb2abccd",
   "metadata": {},
   "outputs": [],
   "source": [
    "# main\n",
    "model_names = [\"general\", \"code\", \"math\", \"general_code\", \"general_math\"]\n",
    "lrs = [\"3e-3\", \"3e-4\", \"3e-5\"]"
   ]
  },
  {
   "cell_type": "code",
   "execution_count": null,
   "id": "5818dc6d",
   "metadata": {},
   "outputs": [],
   "source": [
    "for model_name in model_names:\n",
    "    for lr in lrs:\n",
    "        preds = evaluate_model(model_name=model_name, lr=lr, zeroshot=False)\n",
    "        dataset_test_all = add_prediction_to_data(preds, model_name, lr, dataset_test_all)"
   ]
  },
  {
   "cell_type": "code",
   "execution_count": 39,
   "id": "9a993847",
   "metadata": {},
   "outputs": [],
   "source": [
    "# extension\n",
    "model_names_extension = [\"small_general\", \"small_code\", \"small_math\", \"prompt_code\", \"prompt_math\"]\n",
    "lrs_extension = [\"3e-4\", \"3e-5\"]"
   ]
  },
  {
   "cell_type": "code",
   "execution_count": null,
   "id": "54a4f55f",
   "metadata": {},
   "outputs": [],
   "source": [
    "for model_name in model_names_extension:\n",
    "    for lr in lrs_extension:\n",
    "        preds = evaluate_model(model_name=model_name, lr=lr, zeroshot=False)\n",
    "        dataset_test_all = add_prediction_to_data(preds, model_name, lr, dataset_test_all)"
   ]
  },
  {
   "cell_type": "code",
   "execution_count": 41,
   "id": "8c5e3054",
   "metadata": {},
   "outputs": [
    {
     "data": {
      "text/plain": [
       "{'sentence_masked': ['Box 0 contains the boat and the shoe and the television, Box 1 contains the camera and the car and the plane, Box 2 contains the cake, Box 3 contains the fan, Box 4 contains the cross and the file and the note, Box 5 contains the chemical, Box 6 contains nothing. Move the cake from Box 2 to Box 6. Put the dish and the stone into Box 5. Move the television from Box 0 to Box 6. Put the drink into Box 2. Move the chemical and the stone from Box 5 to Box 2. Box 0 contains <extra_id_0> .',\n",
       "  'Box 0 contains the boat and the shoe and the television, Box 1 contains the camera and the car and the plane, Box 2 contains the cake, Box 3 contains the fan, Box 4 contains the cross and the file and the note, Box 5 contains the chemical, Box 6 contains nothing. Move the cake from Box 2 to Box 6. Put the dish and the stone into Box 5. Move the television from Box 0 to Box 6. Put the drink into Box 2. Move the chemical and the stone from Box 5 to Box 2. Box 1 contains <extra_id_0> .',\n",
       "  'Box 0 contains the boat and the shoe and the television, Box 1 contains the camera and the car and the plane, Box 2 contains the cake, Box 3 contains the fan, Box 4 contains the cross and the file and the note, Box 5 contains the chemical, Box 6 contains nothing. Move the cake from Box 2 to Box 6. Put the dish and the stone into Box 5. Move the television from Box 0 to Box 6. Put the drink into Box 2. Move the chemical and the stone from Box 5 to Box 2. Box 2 contains <extra_id_0> .',\n",
       "  'Box 0 contains the boat and the shoe and the television, Box 1 contains the camera and the car and the plane, Box 2 contains the cake, Box 3 contains the fan, Box 4 contains the cross and the file and the note, Box 5 contains the chemical, Box 6 contains nothing. Move the cake from Box 2 to Box 6. Put the dish and the stone into Box 5. Move the television from Box 0 to Box 6. Put the drink into Box 2. Move the chemical and the stone from Box 5 to Box 2. Box 3 contains <extra_id_0> .',\n",
       "  'Box 0 contains the boat and the shoe and the television, Box 1 contains the camera and the car and the plane, Box 2 contains the cake, Box 3 contains the fan, Box 4 contains the cross and the file and the note, Box 5 contains the chemical, Box 6 contains nothing. Move the cake from Box 2 to Box 6. Put the dish and the stone into Box 5. Move the television from Box 0 to Box 6. Put the drink into Box 2. Move the chemical and the stone from Box 5 to Box 2. Box 4 contains <extra_id_0> .',\n",
       "  'Box 0 contains the boat and the shoe and the television, Box 1 contains the camera and the car and the plane, Box 2 contains the cake, Box 3 contains the fan, Box 4 contains the cross and the file and the note, Box 5 contains the chemical, Box 6 contains nothing. Move the cake from Box 2 to Box 6. Put the dish and the stone into Box 5. Move the television from Box 0 to Box 6. Put the drink into Box 2. Move the chemical and the stone from Box 5 to Box 2. Box 5 contains <extra_id_0> .',\n",
       "  'Box 0 contains the boat and the shoe and the television, Box 1 contains the camera and the car and the plane, Box 2 contains the cake, Box 3 contains the fan, Box 4 contains the cross and the file and the note, Box 5 contains the chemical, Box 6 contains nothing. Move the cake from Box 2 to Box 6. Put the dish and the stone into Box 5. Move the television from Box 0 to Box 6. Put the drink into Box 2. Move the chemical and the stone from Box 5 to Box 2. Box 6 contains <extra_id_0> .'],\n",
       " 'masked_content': ['<extra_id_0> the boat and the shoe',\n",
       "  '<extra_id_0> the camera and the car and the plane',\n",
       "  '<extra_id_0> the chemical and the drink and the stone',\n",
       "  '<extra_id_0> the fan',\n",
       "  '<extra_id_0> the cross and the file and the note',\n",
       "  '<extra_id_0> the dish',\n",
       "  '<extra_id_0> the cake and the television'],\n",
       " 'sample_id': [0, 0, 0, 0, 0, 0, 0],\n",
       " 'numops': [1, 0, 3, 0, 0, 2, 2],\n",
       " 'model_general_3e-3_pred': ['the a genie',\n",
       "  'the a sling',\n",
       "  'the a sliver',\n",
       "  'the sleigh bells',\n",
       "  'the sleigh',\n",
       "  'the a sling',\n",
       "  'the a sphinx'],\n",
       " 'model_general_3e-4_pred': ['the cake',\n",
       "  'the camera and the car and the plane',\n",
       "  'the cake',\n",
       "  'the cake',\n",
       "  'the cross and the file and the note',\n",
       "  'the chemical',\n",
       "  'the drink'],\n",
       " 'model_general_3e-5_pred': ['the boat and the shoe and the television',\n",
       "  'the camera and the shoe and the plane',\n",
       "  'the cake',\n",
       "  'the drink',\n",
       "  'the cross and the file and the note',\n",
       "  'the chemical',\n",
       "  'the dish'],\n",
       " 'model_code_3e-3_pred': ['python def chr(ch): ch.is',\n",
       "  'python def num_dup_the_pi(',\n",
       "  'python def cross_the_car(car): if',\n",
       "  'python def num_of_the_substring(s',\n",
       "  'python def find_pairs(s: str) ',\n",
       "  'python def k_colcols(col1: List',\n",
       "  'python def num_sequence(s: str'],\n",
       " 'model_code_3e-4_pred': ['the cake',\n",
       "  'the cake',\n",
       "  'the boat and the shoe',\n",
       "  'the cake',\n",
       "  'the boat and the shoe',\n",
       "  'the camera and the shoe',\n",
       "  'the boat and the shoe and the television'],\n",
       " 'model_code_3e-5_pred': ['the boat and the shoe',\n",
       "  'the camera and the shoe and the plane',\n",
       "  'the cake',\n",
       "  'the fan',\n",
       "  'the cross and the file and the note',\n",
       "  'the chemical',\n",
       "  'the drink'],\n",
       " 'model_math_3e-3_pred': ['The cross',\n",
       "  'The box containing the aforementioned textso text',\n",
       "  'The box contains the information text and the car in the car in the car.',\n",
       "  'The container $boxedtextSince the box contains the information ',\n",
       "  'Box 2 contains the same information about the box. The box containing the box contains the same',\n",
       "  'The box containing the information about the distance from the point to the plane containing the information',\n",
       "  'The car and the shoe and the car and the car and the plane & the car and'],\n",
       " 'model_math_3e-4_pred': ['the cake',\n",
       "  'the cross and the file and the note',\n",
       "  'the cross and the file and the note',\n",
       "  'the cross and the file and the note',\n",
       "  'the dish and the stone',\n",
       "  'the cross and the file and the note',\n",
       "  'the cross and the file and the note'],\n",
       " 'model_math_3e-5_pred': ['the dish',\n",
       "  'the cake',\n",
       "  'the cake',\n",
       "  'the fan',\n",
       "  'the drink',\n",
       "  'the chemical',\n",
       "  'the chemical'],\n",
       " 'model_general_code_3e-3_pred': ['the sponge',\n",
       "  'the sphine',\n",
       "  'the sphinx',\n",
       "  'the plane',\n",
       "  'the cake',\n",
       "  'the sponge',\n",
       "  'the cake'],\n",
       " 'model_general_code_3e-4_pred': ['the cake',\n",
       "  'the drink',\n",
       "  'the cake',\n",
       "  'the cake',\n",
       "  'the fan',\n",
       "  'the cake',\n",
       "  'the drink'],\n",
       " 'model_general_code_3e-5_pred': ['the boat and the shoe',\n",
       "  'the camera and the car and the plane',\n",
       "  'the cake',\n",
       "  'the fan',\n",
       "  'the chemical',\n",
       "  'the chemical',\n",
       "  'the television'],\n",
       " 'model_general_math_3e-3_pred': ['the water polo',\n",
       "  'the jar',\n",
       "  'the tiger',\n",
       "  'the shopper',\n",
       "  'the jar',\n",
       "  'the helium',\n",
       "  'the bag and the bag'],\n",
       " 'model_general_math_3e-4_pred': ['the boat and the shoe and the television',\n",
       "  'the boat and the shoe and the plane',\n",
       "  'the cake',\n",
       "  'the chemical',\n",
       "  'the cross and the file and the note',\n",
       "  'the chemical',\n",
       "  'the chemical'],\n",
       " 'model_general_math_3e-5_pred': ['the boat and the shoe',\n",
       "  'the boat and the shoe',\n",
       "  'the drink',\n",
       "  'the fan',\n",
       "  'the cross and the note',\n",
       "  'the chemical',\n",
       "  'the cake'],\n",
       " 'model_small_general_3e-4_pred': ['the boat and the shoe and the the television',\n",
       "  'the chemical and the stone',\n",
       "  'the cake',\n",
       "  'the fan',\n",
       "  'the cross and the file',\n",
       "  'the chemical',\n",
       "  'the chemical'],\n",
       " 'model_small_general_3e-5_pred': ['the boat and the shoe and the television',\n",
       "  'the camera and the car and the plane',\n",
       "  'the cake',\n",
       "  'the fan',\n",
       "  'the chemical',\n",
       "  'the dish and the stone',\n",
       "  'the drink'],\n",
       " 'model_small_code_3e-4_pred': ['the cake',\n",
       "  'the camera and the car and the plane',\n",
       "  'the cake',\n",
       "  'the cross and the file and the note',\n",
       "  'the cross and the file and the the stone',\n",
       "  'the chemical',\n",
       "  'the cake'],\n",
       " 'model_small_code_3e-5_pred': ['the cake',\n",
       "  'the plane',\n",
       "  'the cake',\n",
       "  'the fan',\n",
       "  'the cross and the file and the note',\n",
       "  'the drink',\n",
       "  'the drink'],\n",
       " 'model_small_math_3e-4_pred': ['the cake',\n",
       "  'the boat',\n",
       "  'the cake',\n",
       "  'the cake',\n",
       "  'the cross and the stone',\n",
       "  'the cake',\n",
       "  'the boat and the shoe'],\n",
       " 'model_small_math_3e-5_pred': ['the boat and the shoe and the television',\n",
       "  'the cake',\n",
       "  'the cake',\n",
       "  'the fan',\n",
       "  'the cross and the file and the note',\n",
       "  'the chemical',\n",
       "  'the drink'],\n",
       " 'model_prompt_code_3e-4_pred': ['the cake',\n",
       "  'the cross',\n",
       "  'the drink',\n",
       "  'the fan',\n",
       "  'the cake',\n",
       "  'the cross and the file and the note',\n",
       "  'the cake'],\n",
       " 'model_prompt_code_3e-5_pred': ['the boat and the shoe',\n",
       "  'the car and the plane',\n",
       "  'the cake',\n",
       "  'the fan',\n",
       "  'the cross and the file and the note',\n",
       "  'the chemical',\n",
       "  'the cake'],\n",
       " 'model_prompt_math_3e-4_pred': ['the boat and the shoe and the television',\n",
       "  'the cross and the file and the note',\n",
       "  'the chemical',\n",
       "  'the fan',\n",
       "  'the cross',\n",
       "  'the chemical and the stone',\n",
       "  'the chemical'],\n",
       " 'model_prompt_math_3e-5_pred': ['the boat and the shoe and the television',\n",
       "  'the camera and the car and the plane',\n",
       "  'the cake',\n",
       "  'the fan',\n",
       "  'the cross and the file and the note',\n",
       "  'the chemical',\n",
       "  'the drink']}"
      ]
     },
     "execution_count": 41,
     "metadata": {},
     "output_type": "execute_result"
    }
   ],
   "source": [
    "dataset_test_all[:7]"
   ]
  },
  {
   "cell_type": "code",
   "execution_count": 45,
   "id": "29442d17",
   "metadata": {},
   "outputs": [
    {
     "name": "stderr",
     "output_type": "stream",
     "text": [
      "Creating json from Arrow format: 100%|██████████| 1/1 [00:00<00:00, 86.91ba/s]\n"
     ]
    },
    {
     "data": {
      "text/plain": [
       "199376"
      ]
     },
     "execution_count": 45,
     "metadata": {},
     "output_type": "execute_result"
    }
   ],
   "source": [
    "dataset_test_all.to_json(f\"./results/eval/preds/preds_twoshot_small.jsonl\", orient=\"records\")"
   ]
  },
  {
   "cell_type": "markdown",
   "id": "045afe4c",
   "metadata": {},
   "source": [
    "## Metrics\n",
    "Compute and plot evaluation metrics (accuracy, precision, recall, f1 score)."
   ]
  },
  {
   "cell_type": "markdown",
   "id": "78b4e588",
   "metadata": {},
   "source": [
    "### Helpers\n",
    "Helper functions for loading and cleaning predictions, and compute metrics."
   ]
  },
  {
   "cell_type": "code",
   "execution_count": 25,
   "id": "679df3fd",
   "metadata": {},
   "outputs": [],
   "source": [
    "def load_dataset_if_not_already(dataset_path=\"./results/eval/preds/preds_twoshot.jsonl\"):\n",
    "    \"\"\"\n",
    "    Load a dataset from the specified JSON file path if it does not exist in the current name space already.\n",
    "\n",
    "    Parameters:\n",
    "    - dataset_path (str): The path to the JSON file containing the dataset (default is \"./results/eval/preds/preds_twoshot.jsonl\").\n",
    "\n",
    "    Returns:\n",
    "    datasets.Dataset: The loaded dataset.\n",
    "    \"\"\"\n",
    "    if \"dataset_test_all\" not in locals():\n",
    "        dataset_test_all = load_dataset('json', data_files=dataset_path)['train']\n",
    "    return dataset_test_all"
   ]
  },
  {
   "cell_type": "code",
   "execution_count": 26,
   "id": "01b2502e",
   "metadata": {},
   "outputs": [],
   "source": [
    "def clean_labels(labels):\n",
    "    \"\"\"\n",
    "    Clean labels by removing the leading masked token.\n",
    "\n",
    "    Parameters:\n",
    "    - labels (list): List of labels containing masked tokens.\n",
    "\n",
    "    Returns:\n",
    "    list: A list of cleaned labels without the leading masked token.\n",
    "    \"\"\"\n",
    "    # removes leading masked token\n",
    "    cln_labels = list(map(lambda label: label[13:], labels))\n",
    "    return cln_labels"
   ]
  },
  {
   "cell_type": "code",
   "execution_count": 27,
   "id": "eaa68505",
   "metadata": {},
   "outputs": [],
   "source": [
    "def compute_metrics_for_model(labels_combined, preds_combined):\n",
    "    \"\"\"\n",
    "    Compute evaluation metrics for a model's predictions.\n",
    "\n",
    "    Parameters:\n",
    "    - labels_combined (list): List of strings containing ground truth labels.\n",
    "    - preds_combined (list): List of strings containing model predictions.\n",
    "\n",
    "    Returns:\n",
    "    Tuple (float, float, float, float): A tuple containing the computed evaluation metrics in the order:\n",
    "    - Accuracy\n",
    "    - Precision\n",
    "    - Recall\n",
    "    - F1 Score\n",
    "    \"\"\"\n",
    "    # split labels and preds into list of items\n",
    "    label_items = list(map(lambda label: label.split(\" and \"), labels_combined))\n",
    "    preds_items = list(map(lambda pred: pred.split(\" and \"), preds_combined))\n",
    "\n",
    "    # count predictions\n",
    "    total_preds, total_correct, true_pos, false_pos, false_neg = 0, 0, 0, 0, 0\n",
    "    for i in range(len(label_items)):\n",
    "        labels, preds = label_items[i], preds_items[i]\n",
    "        for label in labels:\n",
    "            if (label in preds):     # correct answer that pred also has\n",
    "                total_correct += 1\n",
    "                true_pos += 1\n",
    "            else:                    # correct answer that pred does not have\n",
    "                false_neg += 1\n",
    "            total_preds += 1         # count the item into total regardless\n",
    "        for pred in preds:\n",
    "            if (pred not in labels): # item that pred has but is not in answer\n",
    "                false_pos += 1\n",
    "\n",
    "    # compute metrics\n",
    "    accuracy = total_correct / total_preds\n",
    "    precision = true_pos / (true_pos + false_pos)\n",
    "    recall = true_pos / (true_pos + false_neg)\n",
    "    f1 = (precision * recall) / (precision + recall) if (precision + recall > 0) else 0\n",
    "\n",
    "    print(f\"accuracy: {accuracy}\")\n",
    "    print(f\"precision: {precision}\")\n",
    "    print(f\"recall: {recall}\")\n",
    "    print(f\"f1 score: {f1}\")\n",
    "\n",
    "    return accuracy, precision, recall, f1"
   ]
  },
  {
   "cell_type": "markdown",
   "id": "90d7f0e5",
   "metadata": {},
   "source": [
    "### Actual Computation\n",
    "Compute metrics for a given model."
   ]
  },
  {
   "cell_type": "code",
   "execution_count": 28,
   "id": "a16f3bf2",
   "metadata": {},
   "outputs": [],
   "source": [
    "def compute_metrics(model_name=\"base\", lr=\"3e-4\", dataset_path=\"./results/eval/preds/preds_twoshot.jsonl\"):\n",
    "    \"\"\"\n",
    "    Compute evaluation metrics for a model on a given dataset.\n",
    "\n",
    "    Parameters:\n",
    "    - model_name (str): Name of the pre-trained model used for predictions (default is \"base\").\n",
    "    - lr (str or float): Learning rate associated with the model (default is \"3e-4\").\n",
    "    - dataset_path (str): Path to the JSON file containing the dataset (default is \"./results/eval/preds/preds_twoshot.jsonl\").\n",
    "\n",
    "    Returns:\n",
    "    Tuple (float, float, float, float): A tuple containing the computed evaluation metrics in the order:\n",
    "    - Accuracy\n",
    "    - Precision\n",
    "    - Recall\n",
    "    - F1 Score\n",
    "    \"\"\"\n",
    "    dataset_test_all = load_dataset_if_not_already(dataset_path=dataset_path)\n",
    "    cln_labels = clean_labels(dataset_test_all['masked_content'])\n",
    "    metrics = compute_metrics_for_model(cln_labels, dataset_test_all[f\"model_{model_name}_{lr}_pred\"])\n",
    "    return metrics"
   ]
  },
  {
   "cell_type": "markdown",
   "id": "c1c09f8a",
   "metadata": {},
   "source": [
    "##### Main"
   ]
  },
  {
   "cell_type": "code",
   "execution_count": 116,
   "id": "1017e370",
   "metadata": {},
   "outputs": [],
   "source": [
    "model_names = [\"general\", \"code\", \"math\", \"general_code\", \"general_math\"]\n",
    "lrs = [\"3e-3\", \"3e-4\", \"3e-5\"]"
   ]
  },
  {
   "cell_type": "code",
   "execution_count": 117,
   "id": "3152e509",
   "metadata": {},
   "outputs": [],
   "source": [
    "acc_by_model_and_lr, pre_by_model_and_lr, rec_by_model_and_lr, f1_by_model_and_lr = dict(), dict(), dict(), dict()"
   ]
  },
  {
   "cell_type": "code",
   "execution_count": 118,
   "id": "432459b3",
   "metadata": {},
   "outputs": [
    {
     "name": "stdout",
     "output_type": "stream",
     "text": [
      "general, lr=3e-3:\n",
      "accuracy: 0.005714285714285714\n",
      "precision: 0.01\n",
      "recall: 0.005714285714285714\n",
      "f1 score: 0.003636363636363636\n",
      "\n",
      "general, lr=3e-4:\n",
      "accuracy: 0.4\n",
      "precision: 0.4166666666666667\n",
      "recall: 0.4\n",
      "f1 score: 0.20408163265306126\n",
      "\n",
      "general, lr=3e-5:\n",
      "accuracy: 0.38857142857142857\n",
      "precision: 0.43312101910828027\n",
      "recall: 0.38857142857142857\n",
      "f1 score: 0.20481927710843376\n",
      "\n",
      "code, lr=3e-3:\n",
      "accuracy: 0.0\n",
      "precision: 0.0\n",
      "recall: 0.0\n",
      "f1 score: 0\n",
      "\n",
      "code, lr=3e-4:\n",
      "accuracy: 0.10857142857142857\n",
      "precision: 0.10674157303370786\n",
      "recall: 0.10857142857142857\n",
      "f1 score: 0.05382436260623229\n",
      "\n",
      "code, lr=3e-5:\n",
      "accuracy: 0.44\n",
      "precision: 0.4117647058823529\n",
      "recall: 0.44\n",
      "f1 score: 0.21270718232044197\n",
      "\n",
      "math, lr=3e-3:\n",
      "accuracy: 0.011428571428571429\n",
      "precision: 0.007874015748031496\n",
      "recall: 0.011428571428571429\n",
      "f1 score: 0.004662004662004662\n",
      "\n",
      "math, lr=3e-4:\n",
      "accuracy: 0.09142857142857143\n",
      "precision: 0.08290155440414508\n",
      "recall: 0.09142857142857143\n",
      "f1 score: 0.043478260869565216\n",
      "\n",
      "math, lr=3e-5:\n",
      "accuracy: 0.3314285714285714\n",
      "precision: 0.3717948717948718\n",
      "recall: 0.3314285714285714\n",
      "f1 score: 0.17522658610271905\n",
      "\n",
      "general_code, lr=3e-3:\n",
      "accuracy: 0.017142857142857144\n",
      "precision: 0.03\n",
      "recall: 0.017142857142857144\n",
      "f1 score: 0.01090909090909091\n",
      "\n",
      "general_code, lr=3e-4:\n",
      "accuracy: 0.09142857142857143\n",
      "precision: 0.10256410256410256\n",
      "recall: 0.09142857142857143\n",
      "f1 score: 0.04833836858006042\n",
      "\n",
      "general_code, lr=3e-5:\n",
      "accuracy: 0.3942857142857143\n",
      "precision: 0.4233128834355828\n",
      "recall: 0.3942857142857143\n",
      "f1 score: 0.20414201183431951\n",
      "\n",
      "general_math, lr=3e-3:\n",
      "accuracy: 0.0\n",
      "precision: 0.0\n",
      "recall: 0.0\n",
      "f1 score: 0\n",
      "\n",
      "general_math, lr=3e-4:\n",
      "accuracy: 0.3657142857142857\n",
      "precision: 0.3404255319148936\n",
      "recall: 0.3657142857142857\n",
      "f1 score: 0.1763085399449036\n",
      "\n",
      "general_math, lr=3e-5:\n",
      "accuracy: 0.35428571428571426\n",
      "precision: 0.40789473684210525\n",
      "recall: 0.35428571428571426\n",
      "f1 score: 0.18960244648318042\n",
      "\n"
     ]
    }
   ],
   "source": [
    "for model_name in model_names:\n",
    "    for lr in lrs:\n",
    "        print(f\"{model_name}, lr={lr}:\")\n",
    "        accuracy, precision, recall, f1 = compute_metrics(\n",
    "            model_name=model_name, lr=lr,\n",
    "            dataset_path=\"./results/eval/preds/preds_twoshot_small.jsonl\"\n",
    "            )\n",
    "        print()\n",
    "        if (lr in acc_by_model_and_lr):\n",
    "            acc_by_model_and_lr[lr].append(accuracy)\n",
    "            pre_by_model_and_lr[lr].append(precision)\n",
    "            rec_by_model_and_lr[lr].append(recall)\n",
    "            f1_by_model_and_lr[lr].append(f1)\n",
    "        else:\n",
    "            acc_by_model_and_lr[lr] = [accuracy]\n",
    "            pre_by_model_and_lr[lr] = [precision]\n",
    "            rec_by_model_and_lr[lr] = [recall]\n",
    "            f1_by_model_and_lr[lr] = [f1]"
   ]
  },
  {
   "cell_type": "markdown",
   "id": "ffd52e16",
   "metadata": {},
   "source": [
    "#### Extension - Dataset Size"
   ]
  },
  {
   "cell_type": "code",
   "execution_count": 176,
   "id": "ab791afe",
   "metadata": {},
   "outputs": [],
   "source": [
    "model_names_extension = [\"general\", \"code\", \"math\"]\n",
    "sizes = [\"1887\", \"500\"]"
   ]
  },
  {
   "cell_type": "code",
   "execution_count": 43,
   "id": "768f0de6",
   "metadata": {},
   "outputs": [],
   "source": [
    "acc_by_model_and_size, pre_by_model_and_size, rec_by_model_and_size, f1_by_model_and_size = dict(), dict(), dict(), dict()"
   ]
  },
  {
   "cell_type": "code",
   "execution_count": 48,
   "id": "70493712",
   "metadata": {},
   "outputs": [
    {
     "name": "stdout",
     "output_type": "stream",
     "text": [
      "general, size=1887:\n",
      "accuracy: 0.38857142857142857\n",
      "precision: 0.43312101910828027\n",
      "recall: 0.38857142857142857\n",
      "f1 score: 0.20481927710843376\n",
      "\n",
      "small_general, size=500:\n",
      "accuracy: 0.3657142857142857\n",
      "precision: 0.3855421686746988\n",
      "recall: 0.3657142857142857\n",
      "f1 score: 0.187683284457478\n",
      "\n",
      "code, size=1887:\n",
      "accuracy: 0.44\n",
      "precision: 0.4117647058823529\n",
      "recall: 0.44\n",
      "f1 score: 0.21270718232044197\n",
      "\n",
      "small_code, size=500:\n",
      "accuracy: 0.3485714285714286\n",
      "precision: 0.3961038961038961\n",
      "recall: 0.3485714285714286\n",
      "f1 score: 0.18541033434650459\n",
      "\n",
      "math, size=1887:\n",
      "accuracy: 0.3314285714285714\n",
      "precision: 0.3717948717948718\n",
      "recall: 0.3314285714285714\n",
      "f1 score: 0.17522658610271905\n",
      "\n",
      "small_math, size=500:\n",
      "accuracy: 0.4228571428571429\n",
      "precision: 0.42045454545454547\n",
      "recall: 0.4228571428571429\n",
      "f1 score: 0.21082621082621084\n",
      "\n"
     ]
    }
   ],
   "source": [
    "for model_name in model_names_extension:\n",
    "    for size in sizes:\n",
    "        model_name = model_name if size == \"1887\" else f\"small_{model_name}\"\n",
    "        print(f\"{model_name}, size={size}:\")\n",
    "        accuracy, precision, recall, f1 = compute_metrics(\n",
    "            model_name=model_name, lr=\"3e-5\",\n",
    "            dataset_path=\"./results/eval/preds/preds_twoshot_small.jsonl\"\n",
    "            )\n",
    "        print()\n",
    "        if (size in acc_by_model_and_size):\n",
    "            acc_by_model_and_size[size].append(accuracy)\n",
    "            pre_by_model_and_size[size].append(precision)\n",
    "            rec_by_model_and_size[size].append(recall)\n",
    "            f1_by_model_and_size[size].append(f1)\n",
    "        else:\n",
    "            acc_by_model_and_size[size] = [accuracy]\n",
    "            pre_by_model_and_size[size] = [precision]\n",
    "            rec_by_model_and_size[size] = [recall]\n",
    "            f1_by_model_and_size[size] = [f1]"
   ]
  },
  {
   "cell_type": "markdown",
   "id": "ce692e9d",
   "metadata": {},
   "source": [
    "#### Extension - Prompt"
   ]
  },
  {
   "cell_type": "code",
   "execution_count": 153,
   "id": "c3f7feb4",
   "metadata": {},
   "outputs": [],
   "source": [
    "model_names_extension = [\"general\", \"code\", \"math\"]\n",
    "prompts = [\"simple\", \"tracking\"]"
   ]
  },
  {
   "cell_type": "code",
   "execution_count": 154,
   "id": "8f8e9244",
   "metadata": {},
   "outputs": [],
   "source": [
    "acc_by_model_and_prompt, pre_by_model_and_prompt, rec_by_model_and_prompt, f1_by_model_and_prompt = dict(), dict(), dict(), dict()"
   ]
  },
  {
   "cell_type": "code",
   "execution_count": 155,
   "id": "56d11059",
   "metadata": {},
   "outputs": [
    {
     "name": "stdout",
     "output_type": "stream",
     "text": [
      "general, size=500:\n",
      "accuracy: 0.38857142857142857\n",
      "precision: 0.43312101910828027\n",
      "recall: 0.38857142857142857\n",
      "f1 score: 0.20481927710843376\n",
      "\n",
      "prompt_general, size=500:\n",
      "\n",
      "code, size=500:\n",
      "accuracy: 0.44\n",
      "precision: 0.4117647058823529\n",
      "recall: 0.44\n",
      "f1 score: 0.21270718232044197\n",
      "\n",
      "prompt_code, size=500:\n",
      "accuracy: 0.3942857142857143\n",
      "precision: 0.3689839572192513\n",
      "recall: 0.3942857142857143\n",
      "f1 score: 0.19060773480662985\n",
      "\n",
      "math, size=500:\n",
      "accuracy: 0.3314285714285714\n",
      "precision: 0.3717948717948718\n",
      "recall: 0.3314285714285714\n",
      "f1 score: 0.17522658610271905\n",
      "\n",
      "prompt_math, size=500:\n",
      "accuracy: 0.4514285714285714\n",
      "precision: 0.40512820512820513\n",
      "recall: 0.4514285714285714\n",
      "f1 score: 0.2135135135135135\n",
      "\n"
     ]
    }
   ],
   "source": [
    "for model_name in model_names_extension:\n",
    "    for prompt in prompts:\n",
    "        model_name = model_name if prompt == \"simple\" else f\"prompt_{model_name}\"\n",
    "        print(f\"{model_name}, size={size}:\")\n",
    "        if (model_name == \"prompt_general\"):\n",
    "            accuracy, precision, recall, f1 = 0, 0, 0, 0\n",
    "        else:\n",
    "            accuracy, precision, recall, f1 = compute_metrics(\n",
    "                model_name=model_name, lr=\"3e-5\",\n",
    "                dataset_path=\"./results/eval/preds/preds_twoshot_small.jsonl\"\n",
    "                )\n",
    "        print()\n",
    "        if (prompt in acc_by_model_and_prompt):\n",
    "            acc_by_model_and_prompt[prompt].append(accuracy)\n",
    "            pre_by_model_and_prompt[prompt].append(precision)\n",
    "            rec_by_model_and_prompt[prompt].append(recall)\n",
    "            f1_by_model_and_prompt[prompt].append(f1)\n",
    "        else:\n",
    "            acc_by_model_and_prompt[prompt] = [accuracy]\n",
    "            pre_by_model_and_prompt[prompt] = [precision]\n",
    "            rec_by_model_and_prompt[prompt] = [recall]\n",
    "            f1_by_model_and_prompt[prompt] = [f1]"
   ]
  },
  {
   "cell_type": "markdown",
   "id": "68c9c6b2",
   "metadata": {},
   "source": [
    "### Plotting\n",
    "Plot side-by-side bar charts for evaluation metrics."
   ]
  },
  {
   "cell_type": "markdown",
   "id": "9c26be26",
   "metadata": {},
   "source": [
    "#### Main"
   ]
  },
  {
   "cell_type": "code",
   "execution_count": 132,
   "id": "5869637b",
   "metadata": {},
   "outputs": [],
   "source": [
    "# set width of bars\n",
    "barWidth = 0.25\n",
    "\n",
    "# Set position of bar on X axis\n",
    "r1 = np.arange(len(model_names))\n",
    "r2 = [x + barWidth for x in r1]\n",
    "r3 = [x + barWidth for x in r2]\n",
    "\n",
    "model_names_on_plot = [\"General\", \"Code\", \"Math\", \"General+Code\", \"General+Math\"]"
   ]
  },
  {
   "cell_type": "code",
   "execution_count": 143,
   "id": "2a9f0e50",
   "metadata": {},
   "outputs": [
    {
     "data": {
      "image/png": "[encoded data removed]",
      "text/plain": [
       "<Figure size 750x250 with 1 Axes>"
      ]
     },
     "metadata": {},
     "output_type": "display_data"
    }
   ],
   "source": [
    "fig = plt.figure(figsize=(7.5, 2.5))\n",
    "\n",
    "plt.bar(r1, acc_by_model_and_lr[\"3e-3\"], width=barWidth, edgecolor='white', color=\"#fe8c8c\", label='3e-3')\n",
    "plt.bar(r2, acc_by_model_and_lr[\"3e-4\"], width=barWidth, edgecolor='white', color=\"#a8a7ff\", label='3e-4')\n",
    "plt.bar(r3, acc_by_model_and_lr[\"3e-5\"], width=barWidth, edgecolor='white', color=\"#fca95b\", label='3e-5')\n",
    "plt.grid(axis='y', linestyle='--', color=\"white\", alpha=0.8)\n",
    "#plt.ylim(0, 0.45)\n",
    "\n",
    "plt.ylabel('Accuracy')\n",
    "plt.xlabel('')\n",
    "plt.xticks([r + barWidth for r in range(len(model_names))], model_names_on_plot)\n",
    "plt.tick_params(axis='both', which='both', left=False, right=False, bottom=False, top=False)\n",
    "\n",
    "plt.gca().spines['left'].set_visible(False)\n",
    "plt.gca().spines['right'].set_visible(False)\n",
    "plt.gca().spines['top'].set_visible(False)\n",
    "\n",
    "#plt.legend(loc='upper center', ncol=3)\n",
    "\n",
    "plt.savefig(f\"./results/eval/plots/accuracy.png\", bbox_inches='tight', pad_inches=0.1)\n",
    "plt.show()"
   ]
  },
  {
   "cell_type": "code",
   "execution_count": 144,
   "id": "0f9583d9",
   "metadata": {},
   "outputs": [
    {
     "data": {
      "image/png": "[encoded data removed]",
      "text/plain": [
       "<Figure size 750x250 with 1 Axes>"
      ]
     },
     "metadata": {},
     "output_type": "display_data"
    }
   ],
   "source": [
    "fig = plt.figure(figsize=(7.5, 2.5))\n",
    "\n",
    "plt.bar(r1, pre_by_model_and_lr[\"3e-3\"], width=barWidth, edgecolor='white', color=\"#fe8c8c\", label='3e-3')\n",
    "plt.bar(r2, pre_by_model_and_lr[\"3e-4\"], width=barWidth, edgecolor='white', color=\"#a8a7ff\", label='3e-4')\n",
    "plt.bar(r3, pre_by_model_and_lr[\"3e-5\"], width=barWidth, edgecolor='white', color=\"#fca95b\", label='3e-5')\n",
    "plt.grid(axis='y', linestyle='--', color=\"white\", alpha=0.8)\n",
    "#plt.ylim(0, 0.45)\n",
    "\n",
    "plt.ylabel('Precision')\n",
    "plt.xlabel('')\n",
    "plt.xticks([r + barWidth for r in range(len(model_names))], model_names_on_plot)\n",
    "plt.tick_params(axis='both', which='both', left=False, right=False, bottom=False, top=False)\n",
    "\n",
    "plt.gca().spines['left'].set_visible(False)\n",
    "plt.gca().spines['right'].set_visible(False)\n",
    "plt.gca().spines['top'].set_visible(False)\n",
    "\n",
    "#plt.legend(loc='upper center', ncol=3)\n",
    "\n",
    "plt.savefig(f\"./results/eval/plots/precision.png\", bbox_inches='tight', pad_inches=0.1)\n",
    "plt.show()"
   ]
  },
  {
   "cell_type": "code",
   "execution_count": 145,
   "id": "362e50cd",
   "metadata": {},
   "outputs": [
    {
     "data": {
      "image/png": "[encoded data removed]",
      "text/plain": [
       "<Figure size 750x250 with 1 Axes>"
      ]
     },
     "metadata": {},
     "output_type": "display_data"
    }
   ],
   "source": [
    "fig = plt.figure(figsize=(7.5, 2.5))\n",
    "\n",
    "plt.bar(r1, rec_by_model_and_lr[\"3e-3\"], width=barWidth, edgecolor='white', color=\"#fe8c8c\", label='3e-3')\n",
    "plt.bar(r2, rec_by_model_and_lr[\"3e-4\"], width=barWidth, edgecolor='white', color=\"#a8a7ff\", label='3e-4')\n",
    "plt.bar(r3, rec_by_model_and_lr[\"3e-5\"], width=barWidth, edgecolor='white', color=\"#fca95b\", label='3e-5')\n",
    "plt.grid(axis='y', linestyle='--', color=\"white\", alpha=0.8)\n",
    "#plt.ylim(0, 0.45)\n",
    "\n",
    "plt.ylabel('Recall')\n",
    "plt.xlabel('')\n",
    "plt.xticks([r + barWidth for r in range(len(model_names))], model_names_on_plot)\n",
    "plt.tick_params(axis='both', which='both', left=False, right=False, bottom=False, top=False)\n",
    "\n",
    "plt.gca().spines['left'].set_visible(False)\n",
    "plt.gca().spines['right'].set_visible(False)\n",
    "plt.gca().spines['top'].set_visible(False)\n",
    "\n",
    "#plt.legend(loc='upper center', ncol=3)\n",
    "\n",
    "plt.savefig(f\"./results/eval/plots/recall.png\", bbox_inches='tight', pad_inches=0.1)\n",
    "plt.show()"
   ]
  },
  {
   "cell_type": "code",
   "execution_count": 146,
   "id": "604ebe2c",
   "metadata": {},
   "outputs": [
    {
     "data": {
      "image/png": "[encoded data removed]",
      "text/plain": [
       "<Figure size 750x250 with 1 Axes>"
      ]
     },
     "metadata": {},
     "output_type": "display_data"
    }
   ],
   "source": [
    "fig = plt.figure(figsize=(7.5, 2.5))\n",
    "\n",
    "plt.bar(r1, f1_by_model_and_lr[\"3e-3\"], width=barWidth, edgecolor='white', color=\"#fe8c8c\", label='3e-3')\n",
    "plt.bar(r2, f1_by_model_and_lr[\"3e-4\"], width=barWidth, edgecolor='white', color=\"#a8a7ff\", label='3e-4')\n",
    "plt.bar(r3, f1_by_model_and_lr[\"3e-5\"], width=barWidth, edgecolor='white', color=\"#fca95b\", label='3e-5')\n",
    "plt.grid(axis='y', linestyle='--', color=\"white\", alpha=0.8)\n",
    "#plt.ylim(0, 0.45)\n",
    "\n",
    "plt.ylabel('F1 score')\n",
    "plt.xlabel('')\n",
    "plt.xticks([r + barWidth for r in range(len(model_names))], model_names_on_plot)\n",
    "plt.tick_params(axis='both', which='both', left=False, right=False, bottom=False, top=False)\n",
    "\n",
    "plt.gca().spines['left'].set_visible(False)\n",
    "plt.gca().spines['right'].set_visible(False)\n",
    "plt.gca().spines['top'].set_visible(False)\n",
    "\n",
    "#plt.legend(loc='upper center', ncol=3)\n",
    "\n",
    "plt.savefig(f\"./results/eval/plots/f1.png\", bbox_inches='tight', pad_inches=0.1)\n",
    "plt.show()"
   ]
  },
  {
   "cell_type": "markdown",
   "id": "9841a18f",
   "metadata": {},
   "source": [
    "#### Extension - Sizes"
   ]
  },
  {
   "cell_type": "code",
   "execution_count": 167,
   "id": "5ca711f6",
   "metadata": {},
   "outputs": [],
   "source": [
    "# set width of bars\n",
    "barWidth = 0.3\n",
    "\n",
    "# Set position of bar on X axis\n",
    "r1 = np.arange(len(model_names_extension)) + 0.15\n",
    "r2 = [x + barWidth for x in r1]\n",
    "\n",
    "model_names_on_plot = [\"General\", \"Code\", \"Math\"]"
   ]
  },
  {
   "cell_type": "code",
   "execution_count": 169,
   "id": "41aae6a1",
   "metadata": {},
   "outputs": [
    {
     "data": {
      "image/png": "[encoded data removed]",
      "text/plain": [
       "<Figure size 400x250 with 1 Axes>"
      ]
     },
     "metadata": {},
     "output_type": "display_data"
    }
   ],
   "source": [
    "fig = plt.figure(figsize=(4, 2.5))\n",
    "\n",
    "plt.bar(r1, acc_by_model_and_size[\"1887\"], width=barWidth, edgecolor='white', color=\"#a8a7ff\", label='1887')\n",
    "plt.bar(r2, acc_by_model_and_size[\"500\"], width=barWidth, edgecolor='white', color=\"#fca95b\", label='500')\n",
    "plt.grid(axis='y', linestyle='--', color=\"white\", alpha=0.8)\n",
    "#plt.ylim(0, 0.53)\n",
    "\n",
    "plt.ylabel('Accuracy')\n",
    "plt.xlabel('')\n",
    "plt.xticks([r + barWidth for r in range(len(model_names_extension))], model_names_on_plot)\n",
    "plt.tick_params(axis='both', which='both', left=False, right=False, bottom=False, top=False)\n",
    "\n",
    "plt.gca().spines['left'].set_visible(False)\n",
    "plt.gca().spines['right'].set_visible(False)\n",
    "plt.gca().spines['top'].set_visible(False)\n",
    "\n",
    "#plt.legend(loc='upper center', ncol=3)\n",
    "\n",
    "plt.savefig(f\"./results/eval/plots/accuracy_size.png\", bbox_inches='tight', pad_inches=0.1)\n",
    "plt.show()"
   ]
  },
  {
   "cell_type": "code",
   "execution_count": 170,
   "id": "762d53af",
   "metadata": {},
   "outputs": [
    {
     "data": {
      "image/png": "[encoded data removed]",
      "text/plain": [
       "<Figure size 400x250 with 1 Axes>"
      ]
     },
     "metadata": {},
     "output_type": "display_data"
    }
   ],
   "source": [
    "fig = plt.figure(figsize=(4, 2.5))\n",
    "\n",
    "plt.bar(r1, rec_by_model_and_size[\"1887\"], width=barWidth, edgecolor='white', color=\"#a8a7ff\", label='1887')\n",
    "plt.bar(r2, rec_by_model_and_size[\"500\"], width=barWidth, edgecolor='white', color=\"#fca95b\", label='500')\n",
    "plt.grid(axis='y', linestyle='--', color=\"white\", alpha=0.8)\n",
    "#plt.ylim(0, 0.53)\n",
    "\n",
    "plt.ylabel('Recall')\n",
    "plt.xlabel('')\n",
    "plt.xticks([r + barWidth for r in range(len(model_names_extension))], model_names_on_plot)\n",
    "plt.tick_params(axis='both', which='both', left=False, right=False, bottom=False, top=False)\n",
    "\n",
    "plt.gca().spines['left'].set_visible(False)\n",
    "plt.gca().spines['right'].set_visible(False)\n",
    "plt.gca().spines['top'].set_visible(False)\n",
    "\n",
    "#plt.legend(loc='upper center', ncol=3)\n",
    "\n",
    "plt.savefig(f\"./results/eval/plots/recall_size.png\", bbox_inches='tight', pad_inches=0.1)\n",
    "plt.show()"
   ]
  },
  {
   "cell_type": "code",
   "execution_count": 171,
   "id": "ebd791ed",
   "metadata": {},
   "outputs": [
    {
     "data": {
      "image/png": "[encoded data removed]",
      "text/plain": [
       "<Figure size 400x250 with 1 Axes>"
      ]
     },
     "metadata": {},
     "output_type": "display_data"
    }
   ],
   "source": [
    "fig = plt.figure(figsize=(4, 2.5))\n",
    "\n",
    "plt.bar(r1, pre_by_model_and_size[\"1887\"], width=barWidth, edgecolor='white', color=\"#a8a7ff\", label='1887')\n",
    "plt.bar(r2, pre_by_model_and_size[\"500\"], width=barWidth, edgecolor='white', color=\"#fca95b\", label='500')\n",
    "plt.grid(axis='y', linestyle='--', color=\"white\", alpha=0.8)\n",
    "#plt.ylim(0, 0.53)\n",
    "\n",
    "plt.ylabel('Precision')\n",
    "plt.xlabel('')\n",
    "plt.xticks([r + barWidth for r in range(len(model_names_extension))], model_names_on_plot)\n",
    "plt.tick_params(axis='both', which='both', left=False, right=False, bottom=False, top=False)\n",
    "\n",
    "plt.gca().spines['left'].set_visible(False)\n",
    "plt.gca().spines['right'].set_visible(False)\n",
    "plt.gca().spines['top'].set_visible(False)\n",
    "\n",
    "#plt.legend(loc='upper center', ncol=3)\n",
    "\n",
    "plt.savefig(f\"./results/eval/plots/precision_size.png\", bbox_inches='tight', pad_inches=0.1)\n",
    "plt.show()"
   ]
  },
  {
   "cell_type": "code",
   "execution_count": 172,
   "id": "64484625",
   "metadata": {},
   "outputs": [
    {
     "data": {
      "image/png": "[encoded data removed]",
      "text/plain": [
       "<Figure size 400x250 with 1 Axes>"
      ]
     },
     "metadata": {},
     "output_type": "display_data"
    }
   ],
   "source": [
    "fig = plt.figure(figsize=(4, 2.5))\n",
    "\n",
    "plt.bar(r1, f1_by_model_and_size[\"1887\"], width=barWidth, edgecolor='white', color=\"#a8a7ff\", label='1887')\n",
    "plt.bar(r2, f1_by_model_and_size[\"500\"], width=barWidth, edgecolor='white', color=\"#fca95b\", label='500')\n",
    "plt.grid(axis='y', linestyle='--', color=\"white\", alpha=0.8)\n",
    "#plt.ylim(0, 0.53)\n",
    "\n",
    "plt.ylabel('F1 score')\n",
    "plt.xlabel('')\n",
    "plt.xticks([r + barWidth for r in range(len(model_names_extension))], model_names_on_plot)\n",
    "plt.tick_params(axis='both', which='both', left=False, right=False, bottom=False, top=False)\n",
    "\n",
    "plt.gca().spines['left'].set_visible(False)\n",
    "plt.gca().spines['right'].set_visible(False)\n",
    "plt.gca().spines['top'].set_visible(False)\n",
    "\n",
    "#plt.legend(loc='upper center', ncol=3)\n",
    "\n",
    "plt.savefig(f\"./results/eval/plots/f1_size.png\", bbox_inches='tight', pad_inches=0.1)\n",
    "plt.show()"
   ]
  },
  {
   "cell_type": "code",
   "execution_count": 202,
   "id": "b243709a",
   "metadata": {},
   "outputs": [
    {
     "data": {
      "image/png": "[encoded data removed]",
      "text/plain": [
       "<Figure size 400x250 with 1 Axes>"
      ]
     },
     "metadata": {},
     "output_type": "display_data"
    }
   ],
   "source": [
    "fig = plt.figure(figsize=(4, 2.5))\n",
    "\n",
    "plt.bar(r1, f1_by_model_and_size[\"1887\"], width=barWidth, edgecolor='white', color=\"#a8a7ff\", label='1887')\n",
    "plt.bar(r2, f1_by_model_and_size[\"500\"], width=barWidth, edgecolor='white', color=\"#fca95b\", label='500')\n",
    "plt.grid(axis='y', linestyle='--', color=\"white\", alpha=0.8)\n",
    "#plt.ylim(0, 0.53)\n",
    "\n",
    "plt.ylabel('F1 score')\n",
    "plt.xlabel('')\n",
    "plt.xticks([r + barWidth for r in range(len(model_names_extension))], model_names_on_plot)\n",
    "plt.tick_params(axis='both', which='both', left=False, right=False, bottom=False, top=False)\n",
    "\n",
    "plt.gca().spines['left'].set_visible(False)\n",
    "plt.gca().spines['right'].set_visible(False)\n",
    "plt.gca().spines['top'].set_visible(False)\n",
    "\n",
    "#plt.legend(loc='upper center', ncol=3)\n",
    "\n",
    "plt.savefig(f\"./results/eval/plots/f1_size.png\", bbox_inches='tight', pad_inches=0.1)\n",
    "plt.show()"
   ]
  },
  {
   "cell_type": "markdown",
   "id": "da6b6e16",
   "metadata": {},
   "source": [
    "#### Extension - Prompts"
   ]
  },
  {
   "cell_type": "code",
   "execution_count": 181,
   "id": "cc560eaf",
   "metadata": {},
   "outputs": [],
   "source": [
    "# set width of bars\n",
    "barWidth = 0.3\n",
    "\n",
    "# Set position of bar on X axis\n",
    "r1 = np.arange(len(model_names_extension)) + 0.15\n",
    "r2 = [x + barWidth for x in r1]\n",
    "\n",
    "model_names_on_plot = [\"General\", \"Code\", \"Math\"]"
   ]
  },
  {
   "cell_type": "code",
   "execution_count": 200,
   "id": "89ba84b7",
   "metadata": {},
   "outputs": [
    {
     "data": {
      "image/png": "[encoded data removed]",
      "text/plain": [
       "<Figure size 400x250 with 1 Axes>"
      ]
     },
     "metadata": {},
     "output_type": "display_data"
    }
   ],
   "source": [
    "fig = plt.figure(figsize=(4, 2.5))\n",
    "\n",
    "plt.bar(r1, acc_by_model_and_prompt[\"simple\"], width=barWidth, edgecolor='white', color=\"#a8a7ff\", label='simple')\n",
    "plt.bar(r2, acc_by_model_and_prompt[\"tracking\"], width=barWidth, edgecolor='white', color=\"#fca95b\", label='tracking')\n",
    "plt.grid(axis='y', linestyle='--', color=\"white\", alpha=0.8)\n",
    "#plt.ylim(0, 0.53)\n",
    "\n",
    "plt.ylabel('Accuracy')\n",
    "plt.xlabel('')\n",
    "plt.xticks([r + barWidth for r in range(len(model_names_extension))], model_names_on_plot)\n",
    "plt.tick_params(axis='both', which='both', left=False, right=False, bottom=False, top=False)\n",
    "\n",
    "plt.gca().spines['left'].set_visible(False)\n",
    "plt.gca().spines['right'].set_visible(False)\n",
    "plt.gca().spines['top'].set_visible(False)\n",
    "\n",
    "#plt.legend(loc='upper center', ncol=3)\n",
    "\n",
    "plt.savefig(f\"./results/eval/plots/accuracy_prompt.png\")\n",
    "plt.show()"
   ]
  },
  {
   "cell_type": "code",
   "execution_count": 184,
   "id": "5175b823",
   "metadata": {},
   "outputs": [
    {
     "data": {
      "image/png": "[encoded data removed]",
      "text/plain": [
       "<Figure size 400x250 with 1 Axes>"
      ]
     },
     "metadata": {},
     "output_type": "display_data"
    }
   ],
   "source": [
    "fig = plt.figure(figsize=(4, 2.5))\n",
    "\n",
    "plt.bar(r1, pre_by_model_and_prompt[\"simple\"], width=barWidth, edgecolor='white', color=\"#a8a7ff\", label='simple')\n",
    "plt.bar(r2, pre_by_model_and_prompt[\"tracking\"], width=barWidth, edgecolor='white', color=\"#fca95b\", label='tracking')\n",
    "plt.grid(axis='y', linestyle='--', color=\"white\", alpha=0.8)\n",
    "#plt.ylim(0, 0.53)\n",
    "\n",
    "plt.ylabel('Precision')\n",
    "plt.xlabel('')\n",
    "plt.xticks([r + barWidth for r in range(len(model_names_extension))], model_names_on_plot)\n",
    "plt.tick_params(axis='both', which='both', left=False, right=False, bottom=False, top=False)\n",
    "\n",
    "plt.gca().spines['left'].set_visible(False)\n",
    "plt.gca().spines['right'].set_visible(False)\n",
    "plt.gca().spines['top'].set_visible(False)\n",
    "\n",
    "#plt.legend(loc='upper center', ncol=3)\n",
    "\n",
    "plt.savefig(f\"./results/eval/plots/precision_prompt.png\")\n",
    "plt.show()"
   ]
  },
  {
   "cell_type": "code",
   "execution_count": 185,
   "id": "55abee1a",
   "metadata": {},
   "outputs": [
    {
     "data": {
      "image/png": "[encoded data removed]",
      "text/plain": [
       "<Figure size 400x250 with 1 Axes>"
      ]
     },
     "metadata": {},
     "output_type": "display_data"
    }
   ],
   "source": [
    "fig = plt.figure(figsize=(4, 2.5))\n",
    "\n",
    "plt.bar(r1, rec_by_model_and_prompt[\"simple\"], width=barWidth, edgecolor='white', color=\"#a8a7ff\", label='simple')\n",
    "plt.bar(r2, rec_by_model_and_prompt[\"tracking\"], width=barWidth, edgecolor='white', color=\"#fca95b\", label='tracking')\n",
    "plt.grid(axis='y', linestyle='--', color=\"white\", alpha=0.8)\n",
    "#plt.ylim(0, 0.53)\n",
    "\n",
    "plt.ylabel('Recall')\n",
    "plt.xlabel('')\n",
    "plt.xticks([r + barWidth for r in range(len(model_names_extension))], model_names_on_plot)\n",
    "plt.tick_params(axis='both', which='both', left=False, right=False, bottom=False, top=False)\n",
    "\n",
    "plt.gca().spines['left'].set_visible(False)\n",
    "plt.gca().spines['right'].set_visible(False)\n",
    "plt.gca().spines['top'].set_visible(False)\n",
    "\n",
    "#plt.legend(loc='upper center', ncol=3)\n",
    "\n",
    "plt.savefig(f\"./results/eval/plots/recall_prompt.png\")\n",
    "plt.show()"
   ]
  },
  {
   "cell_type": "code",
   "execution_count": 186,
   "id": "51909daa",
   "metadata": {},
   "outputs": [
    {
     "data": {
      "image/png": "[encoded data removed]",
      "text/plain": [
       "<Figure size 400x250 with 1 Axes>"
      ]
     },
     "metadata": {},
     "output_type": "display_data"
    }
   ],
   "source": [
    "fig = plt.figure(figsize=(4, 2.5))\n",
    "\n",
    "plt.bar(r1, f1_by_model_and_prompt[\"simple\"], width=barWidth, edgecolor='white', color=\"#a8a7ff\", label='simple')\n",
    "plt.bar(r2, f1_by_model_and_prompt[\"tracking\"], width=barWidth, edgecolor='white', color=\"#fca95b\", label='tracking')\n",
    "plt.grid(axis='y', linestyle='--', color=\"white\", alpha=0.8)\n",
    "#plt.ylim(0, 0.53)\n",
    "\n",
    "plt.ylabel('F1 score')\n",
    "plt.xlabel('')\n",
    "plt.xticks([r + barWidth for r in range(len(model_names_extension))], model_names_on_plot)\n",
    "plt.tick_params(axis='both', which='both', left=False, right=False, bottom=False, top=False)\n",
    "\n",
    "plt.gca().spines['left'].set_visible(False)\n",
    "plt.gca().spines['right'].set_visible(False)\n",
    "plt.gca().spines['top'].set_visible(False)\n",
    "\n",
    "#plt.legend(loc='upper center', ncol=3)\n",
    "\n",
    "plt.savefig(f\"./results/eval/plots/f1_prompt.png\")\n",
    "plt.show()"
   ]
  }
 ],
 "metadata": {
  "kernelspec": {
   "display_name": "Python 3 (ipykernel)",
   "language": "python",
   "name": "python3"
  },
  "language_info": {
   "codemirror_mode": {
    "name": "ipython",
    "version": 3
   },
   "file_extension": ".py",
   "mimetype": "text/x-python",
   "name": "python",
   "nbconvert_exporter": "python",
   "pygments_lexer": "ipython3",
   "version": "3.11.5"
  }
 },
 "nbformat": 4,
 "nbformat_minor": 5
}
