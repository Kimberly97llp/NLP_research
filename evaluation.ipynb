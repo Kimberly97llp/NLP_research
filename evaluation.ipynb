{
 "cells": [
  {
   "cell_type": "markdown",
   "id": "00bd6376-ecd5-417c-a171-7dab4d83bcf1",
   "metadata": {},
   "source": [
    "# 6.8610  PROJECT"
   ]
  },
  {
   "cell_type": "markdown",
   "id": "c55c8fd1-ac41-4d6b-a093-d2521f337837",
   "metadata": {},
   "source": [
    "## Install and import libraries"
   ]
  },
  {
   "cell_type": "code",
   "execution_count": 1,
   "id": "e69c3a0d-afdb-483d-9b58-506857a470e3",
   "metadata": {},
   "outputs": [
    {
     "name": "stdout",
     "output_type": "stream",
     "text": [
      "Requirement already satisfied: datasets in c:\\users\\yezix\\appdata\\local\\programs\\python\\python311\\lib\\site-packages (2.15.0)\n",
      "Requirement already satisfied: numpy>=1.17 in c:\\users\\yezix\\appdata\\local\\programs\\python\\python311\\lib\\site-packages (from datasets) (1.24.3)\n",
      "Requirement already satisfied: pyarrow>=8.0.0 in c:\\users\\yezix\\appdata\\local\\programs\\python\\python311\\lib\\site-packages (from datasets) (14.0.1)\n",
      "Requirement already satisfied: pyarrow-hotfix in c:\\users\\yezix\\appdata\\local\\programs\\python\\python311\\lib\\site-packages (from datasets) (0.6)\n",
      "Requirement already satisfied: dill<0.3.8,>=0.3.0 in c:\\users\\yezix\\appdata\\local\\programs\\python\\python311\\lib\\site-packages (from datasets) (0.3.7)\n",
      "Requirement already satisfied: pandas in c:\\users\\yezix\\appdata\\local\\programs\\python\\python311\\lib\\site-packages (from datasets) (2.1.0)\n",
      "Requirement already satisfied: requests>=2.19.0 in c:\\users\\yezix\\appdata\\local\\programs\\python\\python311\\lib\\site-packages (from datasets) (2.31.0)\n",
      "Requirement already satisfied: tqdm>=4.62.1 in c:\\users\\yezix\\appdata\\local\\programs\\python\\python311\\lib\\site-packages (from datasets) (4.66.1)\n",
      "Requirement already satisfied: xxhash in c:\\users\\yezix\\appdata\\local\\programs\\python\\python311\\lib\\site-packages (from datasets) (3.4.1)\n",
      "Requirement already satisfied: multiprocess in c:\\users\\yezix\\appdata\\local\\programs\\python\\python311\\lib\\site-packages (from datasets) (0.70.15)\n",
      "Requirement already satisfied: fsspec<=2023.10.0,>=2023.1.0 in c:\\users\\yezix\\appdata\\local\\programs\\python\\python311\\lib\\site-packages (from fsspec[http]<=2023.10.0,>=2023.1.0->datasets) (2023.10.0)\n",
      "Requirement already satisfied: aiohttp in c:\\users\\yezix\\appdata\\local\\programs\\python\\python311\\lib\\site-packages (from datasets) (3.9.0)\n",
      "Requirement already satisfied: huggingface-hub>=0.18.0 in c:\\users\\yezix\\appdata\\local\\programs\\python\\python311\\lib\\site-packages (from datasets) (0.19.4)\n",
      "Requirement already satisfied: packaging in c:\\users\\yezix\\appdata\\local\\programs\\python\\python311\\lib\\site-packages (from datasets) (23.1)\n",
      "Requirement already satisfied: pyyaml>=5.1 in c:\\users\\yezix\\appdata\\local\\programs\\python\\python311\\lib\\site-packages (from datasets) (6.0.1)\n",
      "Requirement already satisfied: attrs>=17.3.0 in c:\\users\\yezix\\appdata\\local\\programs\\python\\python311\\lib\\site-packages (from aiohttp->datasets) (23.1.0)\n",
      "Requirement already satisfied: multidict<7.0,>=4.5 in c:\\users\\yezix\\appdata\\local\\programs\\python\\python311\\lib\\site-packages (from aiohttp->datasets) (6.0.4)\n",
      "Requirement already satisfied: yarl<2.0,>=1.0 in c:\\users\\yezix\\appdata\\local\\programs\\python\\python311\\lib\\site-packages (from aiohttp->datasets) (1.9.3)\n",
      "Requirement already satisfied: frozenlist>=1.1.1 in c:\\users\\yezix\\appdata\\local\\programs\\python\\python311\\lib\\site-packages (from aiohttp->datasets) (1.4.0)\n",
      "Requirement already satisfied: aiosignal>=1.1.2 in c:\\users\\yezix\\appdata\\local\\programs\\python\\python311\\lib\\site-packages (from aiohttp->datasets) (1.3.1)\n",
      "Requirement already satisfied: filelock in c:\\users\\yezix\\appdata\\local\\programs\\python\\python311\\lib\\site-packages (from huggingface-hub>=0.18.0->datasets) (3.12.3)\n",
      "Requirement already satisfied: typing-extensions>=3.7.4.3 in c:\\users\\yezix\\appdata\\local\\programs\\python\\python311\\lib\\site-packages (from huggingface-hub>=0.18.0->datasets) (4.5.0)\n",
      "Requirement already satisfied: charset-normalizer<4,>=2 in c:\\users\\yezix\\appdata\\local\\programs\\python\\python311\\lib\\site-packages (from requests>=2.19.0->datasets) (3.2.0)\n",
      "Requirement already satisfied: idna<4,>=2.5 in c:\\users\\yezix\\appdata\\local\\programs\\python\\python311\\lib\\site-packages (from requests>=2.19.0->datasets) (3.4)\n",
      "Requirement already satisfied: urllib3<3,>=1.21.1 in c:\\users\\yezix\\appdata\\local\\programs\\python\\python311\\lib\\site-packages (from requests>=2.19.0->datasets) (1.26.16)\n",
      "Requirement already satisfied: certifi>=2017.4.17 in c:\\users\\yezix\\appdata\\local\\programs\\python\\python311\\lib\\site-packages (from requests>=2.19.0->datasets) (2023.7.22)\n",
      "Requirement already satisfied: colorama in c:\\users\\yezix\\appdata\\local\\programs\\python\\python311\\lib\\site-packages (from tqdm>=4.62.1->datasets) (0.4.6)\n",
      "Requirement already satisfied: python-dateutil>=2.8.2 in c:\\users\\yezix\\appdata\\local\\programs\\python\\python311\\lib\\site-packages (from pandas->datasets) (2.8.2)\n",
      "Requirement already satisfied: pytz>=2020.1 in c:\\users\\yezix\\appdata\\local\\programs\\python\\python311\\lib\\site-packages (from pandas->datasets) (2023.3.post1)\n",
      "Requirement already satisfied: tzdata>=2022.1 in c:\\users\\yezix\\appdata\\local\\programs\\python\\python311\\lib\\site-packages (from pandas->datasets) (2023.3)\n",
      "Requirement already satisfied: six>=1.5 in c:\\users\\yezix\\appdata\\local\\programs\\python\\python311\\lib\\site-packages (from python-dateutil>=2.8.2->pandas->datasets) (1.16.0)\n",
      "Requirement already satisfied: transformers[torch] in c:\\users\\yezix\\appdata\\local\\programs\\python\\python311\\lib\\site-packages (4.35.2)\n",
      "Requirement already satisfied: filelock in c:\\users\\yezix\\appdata\\local\\programs\\python\\python311\\lib\\site-packages (from transformers[torch]) (3.12.3)\n",
      "Requirement already satisfied: huggingface-hub<1.0,>=0.16.4 in c:\\users\\yezix\\appdata\\local\\programs\\python\\python311\\lib\\site-packages (from transformers[torch]) (0.19.4)\n",
      "Requirement already satisfied: numpy>=1.17 in c:\\users\\yezix\\appdata\\local\\programs\\python\\python311\\lib\\site-packages (from transformers[torch]) (1.24.3)\n",
      "Requirement already satisfied: packaging>=20.0 in c:\\users\\yezix\\appdata\\local\\programs\\python\\python311\\lib\\site-packages (from transformers[torch]) (23.1)\n",
      "Requirement already satisfied: pyyaml>=5.1 in c:\\users\\yezix\\appdata\\local\\programs\\python\\python311\\lib\\site-packages (from transformers[torch]) (6.0.1)\n",
      "Requirement already satisfied: regex!=2019.12.17 in c:\\users\\yezix\\appdata\\local\\programs\\python\\python311\\lib\\site-packages (from transformers[torch]) (2023.10.3)\n",
      "Requirement already satisfied: requests in c:\\users\\yezix\\appdata\\local\\programs\\python\\python311\\lib\\site-packages (from transformers[torch]) (2.31.0)\n",
      "Requirement already satisfied: tokenizers<0.19,>=0.14 in c:\\users\\yezix\\appdata\\local\\programs\\python\\python311\\lib\\site-packages (from transformers[torch]) (0.15.0)\n",
      "Requirement already satisfied: safetensors>=0.3.1 in c:\\users\\yezix\\appdata\\local\\programs\\python\\python311\\lib\\site-packages (from transformers[torch]) (0.4.0)\n",
      "Requirement already satisfied: tqdm>=4.27 in c:\\users\\yezix\\appdata\\local\\programs\\python\\python311\\lib\\site-packages (from transformers[torch]) (4.66.1)\n",
      "Requirement already satisfied: torch!=1.12.0,>=1.10 in c:\\users\\yezix\\appdata\\local\\programs\\python\\python311\\lib\\site-packages (from transformers[torch]) (2.1.1+cu118)\n",
      "Requirement already satisfied: accelerate>=0.20.3 in c:\\users\\yezix\\appdata\\local\\programs\\python\\python311\\lib\\site-packages (from transformers[torch]) (0.24.1)\n",
      "Requirement already satisfied: psutil in c:\\users\\yezix\\appdata\\roaming\\python\\python311\\site-packages (from accelerate>=0.20.3->transformers[torch]) (5.9.5)\n",
      "Requirement already satisfied: fsspec>=2023.5.0 in c:\\users\\yezix\\appdata\\local\\programs\\python\\python311\\lib\\site-packages (from huggingface-hub<1.0,>=0.16.4->transformers[torch]) (2023.10.0)\n",
      "Requirement already satisfied: typing-extensions>=3.7.4.3 in c:\\users\\yezix\\appdata\\local\\programs\\python\\python311\\lib\\site-packages (from huggingface-hub<1.0,>=0.16.4->transformers[torch]) (4.5.0)\n",
      "Requirement already satisfied: sympy in c:\\users\\yezix\\appdata\\local\\programs\\python\\python311\\lib\\site-packages (from torch!=1.12.0,>=1.10->transformers[torch]) (1.12)\n",
      "Requirement already satisfied: networkx in c:\\users\\yezix\\appdata\\local\\programs\\python\\python311\\lib\\site-packages (from torch!=1.12.0,>=1.10->transformers[torch]) (3.1)\n",
      "Requirement already satisfied: jinja2 in c:\\users\\yezix\\appdata\\local\\programs\\python\\python311\\lib\\site-packages (from torch!=1.12.0,>=1.10->transformers[torch]) (3.1.2)\n",
      "Requirement already satisfied: colorama in c:\\users\\yezix\\appdata\\local\\programs\\python\\python311\\lib\\site-packages (from tqdm>=4.27->transformers[torch]) (0.4.6)\n",
      "Requirement already satisfied: charset-normalizer<4,>=2 in c:\\users\\yezix\\appdata\\local\\programs\\python\\python311\\lib\\site-packages (from requests->transformers[torch]) (3.2.0)\n",
      "Requirement already satisfied: idna<4,>=2.5 in c:\\users\\yezix\\appdata\\local\\programs\\python\\python311\\lib\\site-packages (from requests->transformers[torch]) (3.4)\n",
      "Requirement already satisfied: urllib3<3,>=1.21.1 in c:\\users\\yezix\\appdata\\local\\programs\\python\\python311\\lib\\site-packages (from requests->transformers[torch]) (1.26.16)\n",
      "Requirement already satisfied: certifi>=2017.4.17 in c:\\users\\yezix\\appdata\\local\\programs\\python\\python311\\lib\\site-packages (from requests->transformers[torch]) (2023.7.22)\n",
      "Requirement already satisfied: MarkupSafe>=2.0 in c:\\users\\yezix\\appdata\\local\\programs\\python\\python311\\lib\\site-packages (from jinja2->torch!=1.12.0,>=1.10->transformers[torch]) (2.1.3)\n",
      "Requirement already satisfied: mpmath>=0.19 in c:\\users\\yezix\\appdata\\local\\programs\\python\\python311\\lib\\site-packages (from sympy->torch!=1.12.0,>=1.10->transformers[torch]) (1.3.0)\n",
      "Requirement already satisfied: tokenizers in c:\\users\\yezix\\appdata\\local\\programs\\python\\python311\\lib\\site-packages (0.15.0)\n",
      "Requirement already satisfied: huggingface_hub<1.0,>=0.16.4 in c:\\users\\yezix\\appdata\\local\\programs\\python\\python311\\lib\\site-packages (from tokenizers) (0.19.4)\n",
      "Requirement already satisfied: filelock in c:\\users\\yezix\\appdata\\local\\programs\\python\\python311\\lib\\site-packages (from huggingface_hub<1.0,>=0.16.4->tokenizers) (3.12.3)\n",
      "Requirement already satisfied: fsspec>=2023.5.0 in c:\\users\\yezix\\appdata\\local\\programs\\python\\python311\\lib\\site-packages (from huggingface_hub<1.0,>=0.16.4->tokenizers) (2023.10.0)\n",
      "Requirement already satisfied: requests in c:\\users\\yezix\\appdata\\local\\programs\\python\\python311\\lib\\site-packages (from huggingface_hub<1.0,>=0.16.4->tokenizers) (2.31.0)\n",
      "Requirement already satisfied: tqdm>=4.42.1 in c:\\users\\yezix\\appdata\\local\\programs\\python\\python311\\lib\\site-packages (from huggingface_hub<1.0,>=0.16.4->tokenizers) (4.66.1)\n",
      "Requirement already satisfied: pyyaml>=5.1 in c:\\users\\yezix\\appdata\\local\\programs\\python\\python311\\lib\\site-packages (from huggingface_hub<1.0,>=0.16.4->tokenizers) (6.0.1)\n",
      "Requirement already satisfied: typing-extensions>=3.7.4.3 in c:\\users\\yezix\\appdata\\local\\programs\\python\\python311\\lib\\site-packages (from huggingface_hub<1.0,>=0.16.4->tokenizers) (4.5.0)\n",
      "Requirement already satisfied: packaging>=20.9 in c:\\users\\yezix\\appdata\\local\\programs\\python\\python311\\lib\\site-packages (from huggingface_hub<1.0,>=0.16.4->tokenizers) (23.1)\n",
      "Requirement already satisfied: colorama in c:\\users\\yezix\\appdata\\local\\programs\\python\\python311\\lib\\site-packages (from tqdm>=4.42.1->huggingface_hub<1.0,>=0.16.4->tokenizers) (0.4.6)\n",
      "Requirement already satisfied: charset-normalizer<4,>=2 in c:\\users\\yezix\\appdata\\local\\programs\\python\\python311\\lib\\site-packages (from requests->huggingface_hub<1.0,>=0.16.4->tokenizers) (3.2.0)\n",
      "Requirement already satisfied: idna<4,>=2.5 in c:\\users\\yezix\\appdata\\local\\programs\\python\\python311\\lib\\site-packages (from requests->huggingface_hub<1.0,>=0.16.4->tokenizers) (3.4)\n",
      "Requirement already satisfied: urllib3<3,>=1.21.1 in c:\\users\\yezix\\appdata\\local\\programs\\python\\python311\\lib\\site-packages (from requests->huggingface_hub<1.0,>=0.16.4->tokenizers) (1.26.16)\n",
      "Requirement already satisfied: certifi>=2017.4.17 in c:\\users\\yezix\\appdata\\local\\programs\\python\\python311\\lib\\site-packages (from requests->huggingface_hub<1.0,>=0.16.4->tokenizers) (2023.7.22)\n",
      "Requirement already satisfied: huggingface_hub in c:\\users\\yezix\\appdata\\local\\programs\\python\\python311\\lib\\site-packages (0.19.4)\n",
      "Requirement already satisfied: filelock in c:\\users\\yezix\\appdata\\local\\programs\\python\\python311\\lib\\site-packages (from huggingface_hub) (3.12.3)\n",
      "Requirement already satisfied: fsspec>=2023.5.0 in c:\\users\\yezix\\appdata\\local\\programs\\python\\python311\\lib\\site-packages (from huggingface_hub) (2023.10.0)\n",
      "Requirement already satisfied: requests in c:\\users\\yezix\\appdata\\local\\programs\\python\\python311\\lib\\site-packages (from huggingface_hub) (2.31.0)\n",
      "Requirement already satisfied: tqdm>=4.42.1 in c:\\users\\yezix\\appdata\\local\\programs\\python\\python311\\lib\\site-packages (from huggingface_hub) (4.66.1)\n",
      "Requirement already satisfied: pyyaml>=5.1 in c:\\users\\yezix\\appdata\\local\\programs\\python\\python311\\lib\\site-packages (from huggingface_hub) (6.0.1)\n",
      "Requirement already satisfied: typing-extensions>=3.7.4.3 in c:\\users\\yezix\\appdata\\local\\programs\\python\\python311\\lib\\site-packages (from huggingface_hub) (4.5.0)\n",
      "Requirement already satisfied: packaging>=20.9 in c:\\users\\yezix\\appdata\\local\\programs\\python\\python311\\lib\\site-packages (from huggingface_hub) (23.1)\n",
      "Requirement already satisfied: colorama in c:\\users\\yezix\\appdata\\local\\programs\\python\\python311\\lib\\site-packages (from tqdm>=4.42.1->huggingface_hub) (0.4.6)\n",
      "Requirement already satisfied: charset-normalizer<4,>=2 in c:\\users\\yezix\\appdata\\local\\programs\\python\\python311\\lib\\site-packages (from requests->huggingface_hub) (3.2.0)\n",
      "Requirement already satisfied: idna<4,>=2.5 in c:\\users\\yezix\\appdata\\local\\programs\\python\\python311\\lib\\site-packages (from requests->huggingface_hub) (3.4)\n",
      "Requirement already satisfied: urllib3<3,>=1.21.1 in c:\\users\\yezix\\appdata\\local\\programs\\python\\python311\\lib\\site-packages (from requests->huggingface_hub) (1.26.16)\n",
      "Requirement already satisfied: certifi>=2017.4.17 in c:\\users\\yezix\\appdata\\local\\programs\\python\\python311\\lib\\site-packages (from requests->huggingface_hub) (2023.7.22)\n",
      "Requirement already satisfied: tqdm in c:\\users\\yezix\\appdata\\local\\programs\\python\\python311\\lib\\site-packages (4.66.1)\n",
      "Requirement already satisfied: colorama in c:\\users\\yezix\\appdata\\local\\programs\\python\\python311\\lib\\site-packages (from tqdm) (0.4.6)\n",
      "Requirement already satisfied: matplotlib in c:\\users\\yezix\\appdata\\local\\programs\\python\\python311\\lib\\site-packages (3.7.3)\n",
      "Requirement already satisfied: contourpy>=1.0.1 in c:\\users\\yezix\\appdata\\local\\programs\\python\\python311\\lib\\site-packages (from matplotlib) (1.1.0)\n",
      "Requirement already satisfied: cycler>=0.10 in c:\\users\\yezix\\appdata\\local\\programs\\python\\python311\\lib\\site-packages (from matplotlib) (0.11.0)\n",
      "Requirement already satisfied: fonttools>=4.22.0 in c:\\users\\yezix\\appdata\\local\\programs\\python\\python311\\lib\\site-packages (from matplotlib) (4.42.1)\n",
      "Requirement already satisfied: kiwisolver>=1.0.1 in c:\\users\\yezix\\appdata\\local\\programs\\python\\python311\\lib\\site-packages (from matplotlib) (1.4.5)\n",
      "Requirement already satisfied: numpy<2,>=1.20 in c:\\users\\yezix\\appdata\\local\\programs\\python\\python311\\lib\\site-packages (from matplotlib) (1.24.3)\n",
      "Requirement already satisfied: packaging>=20.0 in c:\\users\\yezix\\appdata\\local\\programs\\python\\python311\\lib\\site-packages (from matplotlib) (23.1)\n",
      "Requirement already satisfied: pillow>=6.2.0 in c:\\users\\yezix\\appdata\\local\\programs\\python\\python311\\lib\\site-packages (from matplotlib) (10.0.0)\n",
      "Requirement already satisfied: pyparsing>=2.3.1 in c:\\users\\yezix\\appdata\\local\\programs\\python\\python311\\lib\\site-packages (from matplotlib) (3.1.1)\n",
      "Requirement already satisfied: python-dateutil>=2.7 in c:\\users\\yezix\\appdata\\local\\programs\\python\\python311\\lib\\site-packages (from matplotlib) (2.8.2)\n",
      "Requirement already satisfied: six>=1.5 in c:\\users\\yezix\\appdata\\local\\programs\\python\\python311\\lib\\site-packages (from python-dateutil>=2.7->matplotlib) (1.16.0)\n"
     ]
    }
   ],
   "source": [
    "!pip install datasets\n",
    "!pip install transformers[torch]\n",
    "!pip install tokenizers\n",
    "!pip install huggingface_hub\n",
    "!pip install tqdm\n",
    "!pip install matplotlib"
   ]
  },
  {
   "cell_type": "code",
   "execution_count": 2,
   "id": "673e826c-17f9-45cf-b600-a0a41d8a33e3",
   "metadata": {},
   "outputs": [
    {
     "name": "stderr",
     "output_type": "stream",
     "text": [
      "c:\\Users\\yezix\\AppData\\Local\\Programs\\Python\\Python311\\Lib\\site-packages\\tqdm\\auto.py:21: TqdmWarning: IProgress not found. Please update jupyter and ipywidgets. See https://ipywidgets.readthedocs.io/en/stable/user_install.html\n",
      "  from .autonotebook import tqdm as notebook_tqdm\n"
     ]
    }
   ],
   "source": [
    "import numpy as np\n",
    "from datasets import Dataset, load_dataset\n",
    "from transformers import T5Tokenizer, T5ForConditionalGeneration\n",
    "from transformers import AutoTokenizer, AutoModelForSeq2SeqLM\n",
    "from torch.optim import AdamW\n",
    "from torch.utils.data import DataLoader, TensorDataset\n",
    "import os\n",
    "import json\n",
    "import torch\n",
    "from tqdm import tqdm\n",
    "import gc\n",
    "import matplotlib.pyplot as plt"
   ]
  },
  {
   "cell_type": "code",
   "execution_count": 3,
   "id": "9ee7e01e",
   "metadata": {},
   "outputs": [
    {
     "name": "stdout",
     "output_type": "stream",
     "text": [
      "cuda\n"
     ]
    }
   ],
   "source": [
    "device = \"cuda\" if torch.cuda.is_available() else \"cpu\"\n",
    "print(device)"
   ]
  },
  {
   "cell_type": "markdown",
   "id": "83a64e28-68b5-489d-97b4-139cbb60c837",
   "metadata": {},
   "source": [
    "## Helpers"
   ]
  },
  {
   "cell_type": "markdown",
   "id": "9e233ba8",
   "metadata": {},
   "source": [
    "### Prepare Dataset"
   ]
  },
  {
   "cell_type": "code",
   "execution_count": 4,
   "id": "ffeaaefd",
   "metadata": {},
   "outputs": [],
   "source": [
    "def get_latest_checkpoint(checkpoint_dir):\n",
    "\n",
    "    # List all directories in the results folder\n",
    "    all_checkpoints = [d for d in os.listdir(checkpoint_dir) if os.path.isdir(os.path.join(checkpoint_dir, d))]\n",
    "    # Extract the checkpoint numbers\n",
    "    checkpoint_numbers = [int(d.split(\"-\")[1]) for d in all_checkpoints if d.startswith(\"checkpoint-\")]\n",
    "    # Find the folder name of the latest checkpoint\n",
    "    latest_checkpoint_folder = f\"{checkpoint_dir}/checkpoint-{max(checkpoint_numbers)}\"\n",
    "    \n",
    "    return latest_checkpoint_folder"
   ]
  },
  {
   "cell_type": "code",
   "execution_count": 5,
   "id": "c900f6ad",
   "metadata": {},
   "outputs": [],
   "source": [
    "def load_tokenizer(checkpoint_dir):\n",
    "    checkpoint = get_latest_checkpoint(checkpoint_dir)\n",
    "    tokenizer = AutoTokenizer.from_pretrained(checkpoint)\n",
    "    return tokenizer"
   ]
  },
  {
   "cell_type": "code",
   "execution_count": 6,
   "id": "310476e8",
   "metadata": {},
   "outputs": [],
   "source": [
    "def load_datasets(dataset_dir):\n",
    "    dataset_train_path = f\"{dataset_dir}/train.jsonl\"\n",
    "    #dataset_test_path = f\"{dataset_dir}/test.jsonl\"\n",
    "    dataset_test_path = f\"{dataset_dir}/test_small.jsonl\"\n",
    "    dataset_train = load_dataset('json', data_files=dataset_train_path)['train']\n",
    "    dataset_test = load_dataset('json', data_files=dataset_test_path)['train']\n",
    "    return dataset_train, dataset_test"
   ]
  },
  {
   "cell_type": "code",
   "execution_count": 7,
   "id": "10a4105d",
   "metadata": {},
   "outputs": [],
   "source": [
    "PROMPT = \"\"\"\n",
    "Given the description after \"Description:\", complete the last sentence with a true statement about the contents\n",
    "of the specified box according to the description.\n",
    "Description: \n",
    "\"\"\"\n",
    "\n",
    "def tokenize_dataset(dataset, tokenizer):\n",
    "    input_ids = []\n",
    "    attention_masks = []\n",
    "    labels = []\n",
    "\n",
    "    for entry in tqdm(dataset):\n",
    "        # tokenize problem\n",
    "        input_data = PROMPT + entry['sentence_masked'][:-15] + \":\"\n",
    "        input_encoding = tokenizer(input_data, truncation=True, padding='max_length', max_length=512, return_attention_mask = True, return_tensors = 'pt')\n",
    "        input_ids.append(input_encoding['input_ids'])\n",
    "        attention_masks.append(input_encoding['attention_mask'])\n",
    "         # tokenize answer\n",
    "        target = entry['masked_content'][13:]\n",
    "        target_encoding = tokenizer(target, truncation=True, padding='max_length', max_length=512, return_attention_mask = True, return_tensors = 'pt')\n",
    "        target_input_ids = target_encoding['input_ids']\n",
    "        target_input_ids[target_input_ids == tokenizer.pad_token_id] = -100\n",
    "        labels.append(target_input_ids)\n",
    "\n",
    "    input_ids = torch.cat(input_ids, dim=0)\n",
    "    attention_masks = torch.cat(attention_masks, dim=0)\n",
    "    labels = torch.cat(labels, dim=0)\n",
    "    tokenized_data = TensorDataset(input_ids, attention_masks, labels)\n",
    "    return tokenized_data"
   ]
  },
  {
   "cell_type": "code",
   "execution_count": 8,
   "id": "e7e690ca",
   "metadata": {},
   "outputs": [],
   "source": [
    "BATCH_SIZE = 4\n",
    "\n",
    "def make_dataloader(tokenized_dataset):\n",
    "    dataloader = DataLoader(tokenized_dataset, batch_size=BATCH_SIZE, shuffle=False)\n",
    "    return dataloader"
   ]
  },
  {
   "cell_type": "markdown",
   "id": "f3c60ce3",
   "metadata": {},
   "source": [
    "### Two-Shot Training"
   ]
  },
  {
   "cell_type": "code",
   "execution_count": 9,
   "id": "f3cb1634",
   "metadata": {},
   "outputs": [],
   "source": [
    "def load_model(checkpoint_dir):\n",
    "    checkpoint = get_latest_checkpoint(checkpoint_dir)\n",
    "    model = AutoModelForSeq2SeqLM.from_pretrained(checkpoint).to(device)\n",
    "    return model"
   ]
  },
  {
   "cell_type": "code",
   "execution_count": 10,
   "id": "95a2de95",
   "metadata": {},
   "outputs": [],
   "source": [
    "def train_model(model, train_loader):\n",
    "    \n",
    "    optimizer = AdamW(model.parameters(), lr = 1e-4, eps = 1e-8)\n",
    "\n",
    "    for _ in tqdm(range(5)):\n",
    "\n",
    "        total_train_loss = 0\n",
    "        model.train()\n",
    "\n",
    "        for batch in tqdm(train_loader):\n",
    "\n",
    "          input_ids = batch[0].to(device)\n",
    "          input_mask = batch[1].to(device)\n",
    "          labels = batch[2].to(device)\n",
    "          \n",
    "          model.zero_grad()\n",
    "          outputs = model(input_ids, attention_mask=input_mask, labels=labels)\n",
    "          loss = outputs.loss\n",
    "          total_train_loss += loss\n",
    "          loss.backward()\n",
    "          torch.nn.utils.clip_grad_norm_(model.parameters(), 1.0)\n",
    "          optimizer.step()\n",
    "    \n",
    "    print(f\"Total train loss: {total_train_loss}.\")"
   ]
  },
  {
   "cell_type": "markdown",
   "id": "d436eae9",
   "metadata": {},
   "source": [
    "### Generate Predictions"
   ]
  },
  {
   "cell_type": "code",
   "execution_count": 11,
   "id": "75e560d5",
   "metadata": {},
   "outputs": [],
   "source": [
    "def make_prediction_all(model, tokenizer, dataloader):\n",
    "    model_predictions = []\n",
    "\n",
    "    for batch in tqdm(dataloader):\n",
    "\n",
    "        # Generate sequences for the batch\n",
    "        input_ids = batch[0].to(device)\n",
    "        input_mask = batch[1].to(device)\n",
    "        sequence_ids = model.generate(input_ids, attention_mask=input_mask)\n",
    "        sequences = tokenizer.batch_decode(sequence_ids, skip_special_tokens=True)\n",
    "\n",
    "        # Accumulate generated sequences\n",
    "        model_predictions.extend(sequences)\n",
    "\n",
    "    return model_predictions"
   ]
  },
  {
   "cell_type": "code",
   "execution_count": 12,
   "id": "3c739942",
   "metadata": {},
   "outputs": [],
   "source": [
    "def add_prediction_to_data(model_preds, model_name, lr, dataset):\n",
    "    dataset = dataset.add_column(f\"model_{model_name}_{lr}_pred\", model_preds)\n",
    "    return dataset"
   ]
  },
  {
   "cell_type": "markdown",
   "id": "961fe87b",
   "metadata": {},
   "source": [
    "## Evaluation Loop"
   ]
  },
  {
   "cell_type": "code",
   "execution_count": 13,
   "id": "b35bc934",
   "metadata": {},
   "outputs": [],
   "source": [
    "dataset_train, dataset_test = load_datasets(\"./eval/current_use\")"
   ]
  },
  {
   "cell_type": "code",
   "execution_count": 14,
   "id": "9a8043ea",
   "metadata": {},
   "outputs": [],
   "source": [
    "# from scratch\n",
    "dataset_test_all = Dataset.from_dict({\n",
    "    # problem and solution\n",
    "    'sentence_masked': dataset_test['sentence_masked'],\n",
    "    'masked_content': dataset_test['masked_content'],\n",
    "    # metadata\n",
    "    'sample_id': dataset_test['sample_id'],\n",
    "    'numops': dataset_test['numops'],\n",
    "    })"
   ]
  },
  {
   "cell_type": "code",
   "execution_count": 35,
   "id": "7b994e1b",
   "metadata": {},
   "outputs": [],
   "source": [
    "# add to existing\n",
    "dataset_test_all = load_dataset('json', data_files=\"./results/eval/preds/preds_twoshot_small.jsonl\")['train']"
   ]
  },
  {
   "cell_type": "code",
   "execution_count": 36,
   "id": "a1b03e3d",
   "metadata": {},
   "outputs": [],
   "source": [
    "def evaluate_model(model_name=\"base\", lr=\"3e-4\", zeroshot=True):\n",
    "\n",
    "    # prepare datasets\n",
    "    tokenizer = load_tokenizer(f\"./results/{model_name}/{lr}/\")\n",
    "    tokenized_dataset_train = tokenize_dataset(dataset_train, tokenizer)\n",
    "    tokenized_dataset_test = tokenize_dataset(dataset_test, tokenizer)\n",
    "    train_loader = make_dataloader(tokenized_dataset_train)\n",
    "    test_loader = make_dataloader(tokenized_dataset_test)\n",
    "\n",
    "    # load and potentially train model\n",
    "    model = load_model(f\"./results/{model_name}/{lr}/\")\n",
    "    if not zeroshot:\n",
    "        train_model(model, train_loader)\n",
    "\n",
    "    # make predictions\n",
    "    model_preds = make_prediction_all(model, tokenizer, test_loader)\n",
    "    if zeroshot:\n",
    "        dataset_test.to_json(f\"./results/eval/preds/preds_{model_name}_{lr}_zeroshot.jsonl\", orient=\"records\")\n",
    "    else:\n",
    "        dataset_test.to_json(f\"./results/eval/preds/preds_{model_name}_{lr}_twoshot.jsonl\", orient=\"records\")\n",
    "    \n",
    "    # garbage collection\n",
    "    del model, tokenizer, tokenized_dataset_train, tokenized_dataset_test, train_loader, test_loader\n",
    "    gc.collect()\n",
    "    torch.cuda.empty_cache()\n",
    "\n",
    "    return model_preds"
   ]
  },
  {
   "cell_type": "code",
   "execution_count": 17,
   "id": "eb2abccd",
   "metadata": {},
   "outputs": [],
   "source": [
    "# main\n",
    "model_names = [\"general\", \"code\", \"math\", \"general_code\", \"general_math\"]\n",
    "lrs = [\"3e-3\", \"3e-4\", \"3e-5\"]"
   ]
  },
  {
   "cell_type": "code",
   "execution_count": 39,
   "id": "9a993847",
   "metadata": {},
   "outputs": [],
   "source": [
    "# extension\n",
    "model_names = [\"small_general\", \"small_code\", \"small_math\", \"prompt_code\", \"prompt_math\"]\n",
    "lrs = [\"3e-4\", \"3e-5\"]"
   ]
  },
  {
   "cell_type": "code",
   "execution_count": 40,
   "id": "5818dc6d",
   "metadata": {},
   "outputs": [
    {
     "name": "stderr",
     "output_type": "stream",
     "text": [
      "Special tokens have been added in the vocabulary, make sure the associated word embeddings are fine-tuned or trained.\n",
      "100%|██████████| 14/14 [00:00<00:00, 399.29it/s]\n",
      "100%|██████████| 100/100 [00:00<00:00, 1797.00it/s]\n",
      "100%|██████████| 4/4 [00:23<00:00,  5.82s/it]\n",
      "100%|██████████| 4/4 [00:22<00:00,  5.53s/it]\n",
      "100%|██████████| 4/4 [00:25<00:00,  6.46s/it]\n",
      "100%|██████████| 4/4 [00:28<00:00,  7.04s/it]\n",
      "100%|██████████| 4/4 [00:23<00:00,  5.84s/it]\n",
      "100%|██████████| 5/5 [02:02<00:00, 24.56s/it]\n"
     ]
    },
    {
     "name": "stdout",
     "output_type": "stream",
     "text": [
      "Total train loss: 2.900203227996826.\n"
     ]
    },
    {
     "name": "stderr",
     "output_type": "stream",
     "text": [
      "  0%|          | 0/25 [00:00<?, ?it/s]c:\\Users\\yezix\\AppData\\Local\\Programs\\Python\\Python311\\Lib\\site-packages\\transformers\\generation\\utils.py:1273: UserWarning: Using the model-agnostic default `max_length` (=20) to control the generation length. We recommend setting `max_new_tokens` to control the maximum length of the generation.\n",
      "  warnings.warn(\n",
      "100%|██████████| 25/25 [01:03<00:00,  2.55s/it]\n",
      "Creating json from Arrow format: 100%|██████████| 1/1 [00:00<00:00, 100.00ba/s]\n",
      "Special tokens have been added in the vocabulary, make sure the associated word embeddings are fine-tuned or trained.\n",
      "100%|██████████| 14/14 [00:00<00:00, 252.22it/s]\n",
      "100%|██████████| 100/100 [00:00<00:00, 1922.98it/s]\n",
      "100%|██████████| 4/4 [00:19<00:00,  4.77s/it]\n",
      "100%|██████████| 4/4 [00:19<00:00,  4.99s/it]\n",
      "100%|██████████| 4/4 [00:21<00:00,  5.47s/it]\n",
      "100%|██████████| 4/4 [00:23<00:00,  5.90s/it]\n",
      "100%|██████████| 4/4 [00:19<00:00,  4.92s/it]\n",
      "100%|██████████| 5/5 [01:44<00:00, 20.84s/it]\n"
     ]
    },
    {
     "name": "stdout",
     "output_type": "stream",
     "text": [
      "Total train loss: 1.4230388402938843.\n"
     ]
    },
    {
     "name": "stderr",
     "output_type": "stream",
     "text": [
      "  0%|          | 0/25 [00:00<?, ?it/s]c:\\Users\\yezix\\AppData\\Local\\Programs\\Python\\Python311\\Lib\\site-packages\\transformers\\generation\\utils.py:1273: UserWarning: Using the model-agnostic default `max_length` (=20) to control the generation length. We recommend setting `max_new_tokens` to control the maximum length of the generation.\n",
      "  warnings.warn(\n",
      "100%|██████████| 25/25 [00:50<00:00,  2.02s/it]\n",
      "Creating json from Arrow format: 100%|██████████| 1/1 [00:00<00:00, 501.83ba/s]\n",
      "Special tokens have been added in the vocabulary, make sure the associated word embeddings are fine-tuned or trained.\n",
      "100%|██████████| 14/14 [00:00<00:00, 345.57it/s]\n",
      "100%|██████████| 100/100 [00:00<00:00, 1975.33it/s]\n",
      "100%|██████████| 4/4 [00:14<00:00,  3.56s/it]\n",
      "100%|██████████| 4/4 [00:14<00:00,  3.67s/it]\n",
      "100%|██████████| 4/4 [00:15<00:00,  3.85s/it]\n",
      "100%|██████████| 4/4 [00:16<00:00,  4.20s/it]\n",
      "100%|██████████| 4/4 [00:14<00:00,  3.66s/it]\n",
      "100%|██████████| 5/5 [01:15<00:00, 15.15s/it]\n"
     ]
    },
    {
     "name": "stdout",
     "output_type": "stream",
     "text": [
      "Total train loss: 2.965276002883911.\n"
     ]
    },
    {
     "name": "stderr",
     "output_type": "stream",
     "text": [
      "  0%|          | 0/25 [00:00<?, ?it/s]c:\\Users\\yezix\\AppData\\Local\\Programs\\Python\\Python311\\Lib\\site-packages\\transformers\\generation\\utils.py:1273: UserWarning: Using the model-agnostic default `max_length` (=20) to control the generation length. We recommend setting `max_new_tokens` to control the maximum length of the generation.\n",
      "  warnings.warn(\n",
      "100%|██████████| 25/25 [00:42<00:00,  1.69s/it]\n",
      "Creating json from Arrow format: 100%|██████████| 1/1 [00:00<00:00, 500.39ba/s]\n",
      "Special tokens have been added in the vocabulary, make sure the associated word embeddings are fine-tuned or trained.\n",
      "100%|██████████| 14/14 [00:00<00:00, 297.84it/s]\n",
      "100%|██████████| 100/100 [00:00<00:00, 1922.15it/s]\n",
      "100%|██████████| 4/4 [00:12<00:00,  3.13s/it]\n",
      "100%|██████████| 4/4 [00:12<00:00,  3.22s/it]\n",
      "100%|██████████| 4/4 [00:13<00:00,  3.31s/it]\n",
      "100%|██████████| 4/4 [00:14<00:00,  3.69s/it]\n",
      "100%|██████████| 4/4 [00:13<00:00,  3.27s/it]\n",
      "100%|██████████| 5/5 [01:06<00:00, 13.29s/it]\n"
     ]
    },
    {
     "name": "stdout",
     "output_type": "stream",
     "text": [
      "Total train loss: 2.424590826034546.\n"
     ]
    },
    {
     "name": "stderr",
     "output_type": "stream",
     "text": [
      "  0%|          | 0/25 [00:00<?, ?it/s]c:\\Users\\yezix\\AppData\\Local\\Programs\\Python\\Python311\\Lib\\site-packages\\transformers\\generation\\utils.py:1273: UserWarning: Using the model-agnostic default `max_length` (=20) to control the generation length. We recommend setting `max_new_tokens` to control the maximum length of the generation.\n",
      "  warnings.warn(\n",
      "100%|██████████| 25/25 [00:37<00:00,  1.50s/it]\n",
      "Creating json from Arrow format: 100%|██████████| 1/1 [00:00<00:00, 489.87ba/s]\n",
      "Special tokens have been added in the vocabulary, make sure the associated word embeddings are fine-tuned or trained.\n",
      "100%|██████████| 14/14 [00:00<00:00, 307.64it/s]\n",
      "100%|██████████| 100/100 [00:00<00:00, 1768.45it/s]\n",
      "100%|██████████| 4/4 [00:12<00:00,  3.05s/it]\n",
      "100%|██████████| 4/4 [00:12<00:00,  3.15s/it]\n",
      "100%|██████████| 4/4 [00:12<00:00,  3.23s/it]\n",
      "100%|██████████| 4/4 [00:14<00:00,  3.64s/it]\n",
      "100%|██████████| 4/4 [00:13<00:00,  3.26s/it]\n",
      "100%|██████████| 5/5 [01:05<00:00, 13.06s/it]\n"
     ]
    },
    {
     "name": "stdout",
     "output_type": "stream",
     "text": [
      "Total train loss: 3.3372483253479004.\n"
     ]
    },
    {
     "name": "stderr",
     "output_type": "stream",
     "text": [
      "  0%|          | 0/25 [00:00<?, ?it/s]c:\\Users\\yezix\\AppData\\Local\\Programs\\Python\\Python311\\Lib\\site-packages\\transformers\\generation\\utils.py:1273: UserWarning: Using the model-agnostic default `max_length` (=20) to control the generation length. We recommend setting `max_new_tokens` to control the maximum length of the generation.\n",
      "  warnings.warn(\n",
      "100%|██████████| 25/25 [00:39<00:00,  1.57s/it]\n",
      "Creating json from Arrow format: 100%|██████████| 1/1 [00:00<00:00, 254.14ba/s]\n",
      "Special tokens have been added in the vocabulary, make sure the associated word embeddings are fine-tuned or trained.\n",
      "100%|██████████| 14/14 [00:00<00:00, 311.56it/s]\n",
      "100%|██████████| 100/100 [00:00<00:00, 2019.57it/s]\n",
      "100%|██████████| 4/4 [00:08<00:00,  2.19s/it]\n",
      "100%|██████████| 4/4 [00:10<00:00,  2.72s/it]\n",
      "100%|██████████| 4/4 [00:10<00:00,  2.74s/it]\n",
      "100%|██████████| 4/4 [00:13<00:00,  3.37s/it]\n",
      "100%|██████████| 4/4 [00:11<00:00,  2.81s/it]\n",
      "100%|██████████| 5/5 [00:55<00:00, 11.07s/it]\n"
     ]
    },
    {
     "name": "stdout",
     "output_type": "stream",
     "text": [
      "Total train loss: 1.4661457538604736.\n"
     ]
    },
    {
     "name": "stderr",
     "output_type": "stream",
     "text": [
      "  0%|          | 0/25 [00:00<?, ?it/s]c:\\Users\\yezix\\AppData\\Local\\Programs\\Python\\Python311\\Lib\\site-packages\\transformers\\generation\\utils.py:1273: UserWarning: Using the model-agnostic default `max_length` (=20) to control the generation length. We recommend setting `max_new_tokens` to control the maximum length of the generation.\n",
      "  warnings.warn(\n",
      "100%|██████████| 25/25 [00:21<00:00,  1.16it/s]\n",
      "Creating json from Arrow format: 100%|██████████| 1/1 [00:00<00:00, 500.04ba/s]\n",
      "Special tokens have been added in the vocabulary, make sure the associated word embeddings are fine-tuned or trained.\n",
      "100%|██████████| 14/14 [00:00<00:00, 354.33it/s]\n",
      "100%|██████████| 100/100 [00:00<00:00, 1979.69it/s]\n",
      "100%|██████████| 4/4 [00:08<00:00,  2.15s/it]\n",
      "100%|██████████| 4/4 [00:10<00:00,  2.70s/it]\n",
      "100%|██████████| 4/4 [00:10<00:00,  2.72s/it]\n",
      "100%|██████████| 4/4 [00:12<00:00,  3.24s/it]\n",
      "100%|██████████| 4/4 [00:11<00:00,  2.77s/it]\n",
      "100%|██████████| 5/5 [00:54<00:00, 10.86s/it]\n"
     ]
    },
    {
     "name": "stdout",
     "output_type": "stream",
     "text": [
      "Total train loss: 4.135063171386719.\n"
     ]
    },
    {
     "name": "stderr",
     "output_type": "stream",
     "text": [
      "  0%|          | 0/25 [00:00<?, ?it/s]c:\\Users\\yezix\\AppData\\Local\\Programs\\Python\\Python311\\Lib\\site-packages\\transformers\\generation\\utils.py:1273: UserWarning: Using the model-agnostic default `max_length` (=20) to control the generation length. We recommend setting `max_new_tokens` to control the maximum length of the generation.\n",
      "  warnings.warn(\n",
      "100%|██████████| 25/25 [00:19<00:00,  1.30it/s]\n",
      "Creating json from Arrow format: 100%|██████████| 1/1 [00:00<00:00, 499.92ba/s]\n",
      "Special tokens have been added in the vocabulary, make sure the associated word embeddings are fine-tuned or trained.\n",
      "100%|██████████| 14/14 [00:00<00:00, 304.34it/s]\n",
      "100%|██████████| 100/100 [00:00<00:00, 1904.40it/s]\n",
      "100%|██████████| 4/4 [00:08<00:00,  2.21s/it]\n",
      "100%|██████████| 4/4 [00:10<00:00,  2.71s/it]\n",
      "100%|██████████| 4/4 [00:10<00:00,  2.75s/it]\n",
      "100%|██████████| 4/4 [00:13<00:00,  3.32s/it]\n",
      "100%|██████████| 4/4 [00:11<00:00,  2.77s/it]\n",
      "100%|██████████| 5/5 [00:55<00:00, 11.01s/it]\n"
     ]
    },
    {
     "name": "stdout",
     "output_type": "stream",
     "text": [
      "Total train loss: 3.438089609146118.\n"
     ]
    },
    {
     "name": "stderr",
     "output_type": "stream",
     "text": [
      "  0%|          | 0/25 [00:00<?, ?it/s]c:\\Users\\yezix\\AppData\\Local\\Programs\\Python\\Python311\\Lib\\site-packages\\transformers\\generation\\utils.py:1273: UserWarning: Using the model-agnostic default `max_length` (=20) to control the generation length. We recommend setting `max_new_tokens` to control the maximum length of the generation.\n",
      "  warnings.warn(\n",
      "100%|██████████| 25/25 [00:20<00:00,  1.20it/s]\n",
      "Creating json from Arrow format: 100%|██████████| 1/1 [00:00<00:00, 499.98ba/s]\n",
      "Special tokens have been added in the vocabulary, make sure the associated word embeddings are fine-tuned or trained.\n",
      "100%|██████████| 14/14 [00:00<00:00, 307.64it/s]\n",
      "100%|██████████| 100/100 [00:00<00:00, 1885.61it/s]\n",
      "100%|██████████| 4/4 [00:08<00:00,  2.19s/it]\n",
      "100%|██████████| 4/4 [00:10<00:00,  2.60s/it]\n",
      "100%|██████████| 4/4 [00:10<00:00,  2.65s/it]\n",
      "100%|██████████| 4/4 [00:12<00:00,  3.13s/it]\n",
      "100%|██████████| 4/4 [00:10<00:00,  2.73s/it]\n",
      "100%|██████████| 5/5 [00:53<00:00, 10.65s/it]\n"
     ]
    },
    {
     "name": "stdout",
     "output_type": "stream",
     "text": [
      "Total train loss: 3.7639355659484863.\n"
     ]
    },
    {
     "name": "stderr",
     "output_type": "stream",
     "text": [
      "  0%|          | 0/25 [00:00<?, ?it/s]c:\\Users\\yezix\\AppData\\Local\\Programs\\Python\\Python311\\Lib\\site-packages\\transformers\\generation\\utils.py:1273: UserWarning: Using the model-agnostic default `max_length` (=20) to control the generation length. We recommend setting `max_new_tokens` to control the maximum length of the generation.\n",
      "  warnings.warn(\n",
      "100%|██████████| 25/25 [00:33<00:00,  1.34s/it]\n",
      "Creating json from Arrow format: 100%|██████████| 1/1 [00:00<00:00, 499.08ba/s]\n",
      "Special tokens have been added in the vocabulary, make sure the associated word embeddings are fine-tuned or trained.\n",
      "100%|██████████| 14/14 [00:00<00:00, 314.47it/s]\n",
      "100%|██████████| 100/100 [00:00<00:00, 1904.27it/s]\n",
      "100%|██████████| 4/4 [00:08<00:00,  2.14s/it]\n",
      "100%|██████████| 4/4 [00:10<00:00,  2.68s/it]\n",
      "100%|██████████| 4/4 [00:10<00:00,  2.70s/it]\n",
      "100%|██████████| 4/4 [00:12<00:00,  3.20s/it]\n",
      "100%|██████████| 4/4 [00:11<00:00,  2.77s/it]\n",
      "100%|██████████| 5/5 [00:53<00:00, 10.79s/it]\n"
     ]
    },
    {
     "name": "stdout",
     "output_type": "stream",
     "text": [
      "Total train loss: 3.252387523651123.\n"
     ]
    },
    {
     "name": "stderr",
     "output_type": "stream",
     "text": [
      "  0%|          | 0/25 [00:00<?, ?it/s]c:\\Users\\yezix\\AppData\\Local\\Programs\\Python\\Python311\\Lib\\site-packages\\transformers\\generation\\utils.py:1273: UserWarning: Using the model-agnostic default `max_length` (=20) to control the generation length. We recommend setting `max_new_tokens` to control the maximum length of the generation.\n",
      "  warnings.warn(\n",
      "100%|██████████| 25/25 [00:22<00:00,  1.09it/s]\n",
      "Creating json from Arrow format: 100%|██████████| 1/1 [00:00<00:00, 500.10ba/s]\n"
     ]
    }
   ],
   "source": [
    "for model_name in model_names:\n",
    "    for lr in lrs:\n",
    "        preds = evaluate_model(model_name=model_name, lr=lr, zeroshot=False)\n",
    "        dataset_test_all = add_prediction_to_data(preds, model_name, lr, dataset_test_all)"
   ]
  },
  {
   "cell_type": "code",
   "execution_count": 41,
   "id": "8c5e3054",
   "metadata": {},
   "outputs": [
    {
     "data": {
      "text/plain": [
       "{'sentence_masked': ['Box 0 contains the boat and the shoe and the television, Box 1 contains the camera and the car and the plane, Box 2 contains the cake, Box 3 contains the fan, Box 4 contains the cross and the file and the note, Box 5 contains the chemical, Box 6 contains nothing. Move the cake from Box 2 to Box 6. Put the dish and the stone into Box 5. Move the television from Box 0 to Box 6. Put the drink into Box 2. Move the chemical and the stone from Box 5 to Box 2. Box 0 contains <extra_id_0> .',\n",
       "  'Box 0 contains the boat and the shoe and the television, Box 1 contains the camera and the car and the plane, Box 2 contains the cake, Box 3 contains the fan, Box 4 contains the cross and the file and the note, Box 5 contains the chemical, Box 6 contains nothing. Move the cake from Box 2 to Box 6. Put the dish and the stone into Box 5. Move the television from Box 0 to Box 6. Put the drink into Box 2. Move the chemical and the stone from Box 5 to Box 2. Box 1 contains <extra_id_0> .',\n",
       "  'Box 0 contains the boat and the shoe and the television, Box 1 contains the camera and the car and the plane, Box 2 contains the cake, Box 3 contains the fan, Box 4 contains the cross and the file and the note, Box 5 contains the chemical, Box 6 contains nothing. Move the cake from Box 2 to Box 6. Put the dish and the stone into Box 5. Move the television from Box 0 to Box 6. Put the drink into Box 2. Move the chemical and the stone from Box 5 to Box 2. Box 2 contains <extra_id_0> .',\n",
       "  'Box 0 contains the boat and the shoe and the television, Box 1 contains the camera and the car and the plane, Box 2 contains the cake, Box 3 contains the fan, Box 4 contains the cross and the file and the note, Box 5 contains the chemical, Box 6 contains nothing. Move the cake from Box 2 to Box 6. Put the dish and the stone into Box 5. Move the television from Box 0 to Box 6. Put the drink into Box 2. Move the chemical and the stone from Box 5 to Box 2. Box 3 contains <extra_id_0> .',\n",
       "  'Box 0 contains the boat and the shoe and the television, Box 1 contains the camera and the car and the plane, Box 2 contains the cake, Box 3 contains the fan, Box 4 contains the cross and the file and the note, Box 5 contains the chemical, Box 6 contains nothing. Move the cake from Box 2 to Box 6. Put the dish and the stone into Box 5. Move the television from Box 0 to Box 6. Put the drink into Box 2. Move the chemical and the stone from Box 5 to Box 2. Box 4 contains <extra_id_0> .',\n",
       "  'Box 0 contains the boat and the shoe and the television, Box 1 contains the camera and the car and the plane, Box 2 contains the cake, Box 3 contains the fan, Box 4 contains the cross and the file and the note, Box 5 contains the chemical, Box 6 contains nothing. Move the cake from Box 2 to Box 6. Put the dish and the stone into Box 5. Move the television from Box 0 to Box 6. Put the drink into Box 2. Move the chemical and the stone from Box 5 to Box 2. Box 5 contains <extra_id_0> .',\n",
       "  'Box 0 contains the boat and the shoe and the television, Box 1 contains the camera and the car and the plane, Box 2 contains the cake, Box 3 contains the fan, Box 4 contains the cross and the file and the note, Box 5 contains the chemical, Box 6 contains nothing. Move the cake from Box 2 to Box 6. Put the dish and the stone into Box 5. Move the television from Box 0 to Box 6. Put the drink into Box 2. Move the chemical and the stone from Box 5 to Box 2. Box 6 contains <extra_id_0> .'],\n",
       " 'masked_content': ['<extra_id_0> the boat and the shoe',\n",
       "  '<extra_id_0> the camera and the car and the plane',\n",
       "  '<extra_id_0> the chemical and the drink and the stone',\n",
       "  '<extra_id_0> the fan',\n",
       "  '<extra_id_0> the cross and the file and the note',\n",
       "  '<extra_id_0> the dish',\n",
       "  '<extra_id_0> the cake and the television'],\n",
       " 'sample_id': [0, 0, 0, 0, 0, 0, 0],\n",
       " 'numops': [1, 0, 3, 0, 0, 2, 2],\n",
       " 'model_general_3e-3_pred': ['the a genie',\n",
       "  'the a sling',\n",
       "  'the a sliver',\n",
       "  'the sleigh bells',\n",
       "  'the sleigh',\n",
       "  'the a sling',\n",
       "  'the a sphinx'],\n",
       " 'model_general_3e-4_pred': ['the cake',\n",
       "  'the camera and the car and the plane',\n",
       "  'the cake',\n",
       "  'the cake',\n",
       "  'the cross and the file and the note',\n",
       "  'the chemical',\n",
       "  'the drink'],\n",
       " 'model_general_3e-5_pred': ['the boat and the shoe and the television',\n",
       "  'the camera and the shoe and the plane',\n",
       "  'the cake',\n",
       "  'the drink',\n",
       "  'the cross and the file and the note',\n",
       "  'the chemical',\n",
       "  'the dish'],\n",
       " 'model_code_3e-3_pred': ['python def chr(ch): ch.is',\n",
       "  'python def num_dup_the_pi(',\n",
       "  'python def cross_the_car(car): if',\n",
       "  'python def num_of_the_substring(s',\n",
       "  'python def find_pairs(s: str) ',\n",
       "  'python def k_colcols(col1: List',\n",
       "  'python def num_sequence(s: str'],\n",
       " 'model_code_3e-4_pred': ['the cake',\n",
       "  'the cake',\n",
       "  'the boat and the shoe',\n",
       "  'the cake',\n",
       "  'the boat and the shoe',\n",
       "  'the camera and the shoe',\n",
       "  'the boat and the shoe and the television'],\n",
       " 'model_code_3e-5_pred': ['the boat and the shoe',\n",
       "  'the camera and the shoe and the plane',\n",
       "  'the cake',\n",
       "  'the fan',\n",
       "  'the cross and the file and the note',\n",
       "  'the chemical',\n",
       "  'the drink'],\n",
       " 'model_math_3e-3_pred': ['The cross',\n",
       "  'The box containing the aforementioned textso text',\n",
       "  'The box contains the information text and the car in the car in the car.',\n",
       "  'The container $boxedtextSince the box contains the information ',\n",
       "  'Box 2 contains the same information about the box. The box containing the box contains the same',\n",
       "  'The box containing the information about the distance from the point to the plane containing the information',\n",
       "  'The car and the shoe and the car and the car and the plane & the car and'],\n",
       " 'model_math_3e-4_pred': ['the cake',\n",
       "  'the cross and the file and the note',\n",
       "  'the cross and the file and the note',\n",
       "  'the cross and the file and the note',\n",
       "  'the dish and the stone',\n",
       "  'the cross and the file and the note',\n",
       "  'the cross and the file and the note'],\n",
       " 'model_math_3e-5_pred': ['the dish',\n",
       "  'the cake',\n",
       "  'the cake',\n",
       "  'the fan',\n",
       "  'the drink',\n",
       "  'the chemical',\n",
       "  'the chemical'],\n",
       " 'model_general_code_3e-3_pred': ['the sponge',\n",
       "  'the sphine',\n",
       "  'the sphinx',\n",
       "  'the plane',\n",
       "  'the cake',\n",
       "  'the sponge',\n",
       "  'the cake'],\n",
       " 'model_general_code_3e-4_pred': ['the cake',\n",
       "  'the drink',\n",
       "  'the cake',\n",
       "  'the cake',\n",
       "  'the fan',\n",
       "  'the cake',\n",
       "  'the drink'],\n",
       " 'model_general_code_3e-5_pred': ['the boat and the shoe',\n",
       "  'the camera and the car and the plane',\n",
       "  'the cake',\n",
       "  'the fan',\n",
       "  'the chemical',\n",
       "  'the chemical',\n",
       "  'the television'],\n",
       " 'model_general_math_3e-3_pred': ['the water polo',\n",
       "  'the jar',\n",
       "  'the tiger',\n",
       "  'the shopper',\n",
       "  'the jar',\n",
       "  'the helium',\n",
       "  'the bag and the bag'],\n",
       " 'model_general_math_3e-4_pred': ['the boat and the shoe and the television',\n",
       "  'the boat and the shoe and the plane',\n",
       "  'the cake',\n",
       "  'the chemical',\n",
       "  'the cross and the file and the note',\n",
       "  'the chemical',\n",
       "  'the chemical'],\n",
       " 'model_general_math_3e-5_pred': ['the boat and the shoe',\n",
       "  'the boat and the shoe',\n",
       "  'the drink',\n",
       "  'the fan',\n",
       "  'the cross and the note',\n",
       "  'the chemical',\n",
       "  'the cake'],\n",
       " 'model_small_general_3e-4_pred': ['the boat and the shoe and the the television',\n",
       "  'the chemical and the stone',\n",
       "  'the cake',\n",
       "  'the fan',\n",
       "  'the cross and the file',\n",
       "  'the chemical',\n",
       "  'the chemical'],\n",
       " 'model_small_general_3e-5_pred': ['the boat and the shoe and the television',\n",
       "  'the camera and the car and the plane',\n",
       "  'the cake',\n",
       "  'the fan',\n",
       "  'the chemical',\n",
       "  'the dish and the stone',\n",
       "  'the drink'],\n",
       " 'model_small_code_3e-4_pred': ['the cake',\n",
       "  'the camera and the car and the plane',\n",
       "  'the cake',\n",
       "  'the cross and the file and the note',\n",
       "  'the cross and the file and the the stone',\n",
       "  'the chemical',\n",
       "  'the cake'],\n",
       " 'model_small_code_3e-5_pred': ['the cake',\n",
       "  'the plane',\n",
       "  'the cake',\n",
       "  'the fan',\n",
       "  'the cross and the file and the note',\n",
       "  'the drink',\n",
       "  'the drink'],\n",
       " 'model_small_math_3e-4_pred': ['the cake',\n",
       "  'the boat',\n",
       "  'the cake',\n",
       "  'the cake',\n",
       "  'the cross and the stone',\n",
       "  'the cake',\n",
       "  'the boat and the shoe'],\n",
       " 'model_small_math_3e-5_pred': ['the boat and the shoe and the television',\n",
       "  'the cake',\n",
       "  'the cake',\n",
       "  'the fan',\n",
       "  'the cross and the file and the note',\n",
       "  'the chemical',\n",
       "  'the drink'],\n",
       " 'model_prompt_code_3e-4_pred': ['the cake',\n",
       "  'the cross',\n",
       "  'the drink',\n",
       "  'the fan',\n",
       "  'the cake',\n",
       "  'the cross and the file and the note',\n",
       "  'the cake'],\n",
       " 'model_prompt_code_3e-5_pred': ['the boat and the shoe',\n",
       "  'the car and the plane',\n",
       "  'the cake',\n",
       "  'the fan',\n",
       "  'the cross and the file and the note',\n",
       "  'the chemical',\n",
       "  'the cake'],\n",
       " 'model_prompt_math_3e-4_pred': ['the boat and the shoe and the television',\n",
       "  'the cross and the file and the note',\n",
       "  'the chemical',\n",
       "  'the fan',\n",
       "  'the cross',\n",
       "  'the chemical and the stone',\n",
       "  'the chemical'],\n",
       " 'model_prompt_math_3e-5_pred': ['the boat and the shoe and the television',\n",
       "  'the camera and the car and the plane',\n",
       "  'the cake',\n",
       "  'the fan',\n",
       "  'the cross and the file and the note',\n",
       "  'the chemical',\n",
       "  'the drink']}"
      ]
     },
     "execution_count": 41,
     "metadata": {},
     "output_type": "execute_result"
    }
   ],
   "source": [
    "dataset_test_all[:7]"
   ]
  },
  {
   "cell_type": "code",
   "execution_count": 45,
   "id": "29442d17",
   "metadata": {},
   "outputs": [
    {
     "name": "stderr",
     "output_type": "stream",
     "text": [
      "Creating json from Arrow format: 100%|██████████| 1/1 [00:00<00:00, 86.91ba/s]\n"
     ]
    },
    {
     "data": {
      "text/plain": [
       "199376"
      ]
     },
     "execution_count": 45,
     "metadata": {},
     "output_type": "execute_result"
    }
   ],
   "source": [
    "dataset_test_all.to_json(f\"./results/eval/preds/preds_twoshot_small.jsonl\", orient=\"records\")"
   ]
  },
  {
   "cell_type": "markdown",
   "id": "045afe4c",
   "metadata": {},
   "source": [
    "## Metrics"
   ]
  },
  {
   "cell_type": "markdown",
   "id": "78b4e588",
   "metadata": {},
   "source": [
    "### Helpers"
   ]
  },
  {
   "cell_type": "code",
   "execution_count": 25,
   "id": "679df3fd",
   "metadata": {},
   "outputs": [],
   "source": [
    "def load_dataset_if_not_already(dataset_path=\"./results/eval/preds/preds_twoshot.jsonl\"):\n",
    "    if \"dataset_test_all\" not in locals():\n",
    "        dataset_test_all = load_dataset('json', data_files=dataset_path)['train']\n",
    "    return dataset_test_all"
   ]
  },
  {
   "cell_type": "code",
   "execution_count": 26,
   "id": "01b2502e",
   "metadata": {},
   "outputs": [],
   "source": [
    "def clean_labels(labels):\n",
    "    # removes leading masked token\n",
    "    cln_labels = list(map(lambda label: label[13:], labels))\n",
    "    return cln_labels"
   ]
  },
  {
   "cell_type": "code",
   "execution_count": 27,
   "id": "eaa68505",
   "metadata": {},
   "outputs": [],
   "source": [
    "def compute_metrics_for_model(labels_combined, preds_combined):\n",
    "\n",
    "    # split labels and preds into list of items\n",
    "    label_items = list(map(lambda label: label.split(\" and \"), labels_combined))\n",
    "    preds_items = list(map(lambda pred: pred.split(\" and \"), preds_combined))\n",
    "\n",
    "    # count predictions\n",
    "    total_preds, total_correct, true_pos, false_pos, false_neg = 0, 0, 0, 0, 0\n",
    "    for i in range(len(label_items)):\n",
    "        labels, preds = label_items[i], preds_items[i]\n",
    "        for label in labels:\n",
    "            if (label in preds):     # correct answer that pred also has\n",
    "                total_correct += 1\n",
    "                true_pos += 1\n",
    "            else:                    # correct answer that pred does not have\n",
    "                false_neg += 1\n",
    "            total_preds += 1         # count the item into total regardless\n",
    "        for pred in preds:\n",
    "            if (pred not in labels): # item that pred has but is not in answer\n",
    "                false_pos += 1\n",
    "\n",
    "    # compute metrics\n",
    "    accuracy = total_correct / total_preds\n",
    "    precision = true_pos / (true_pos + false_pos)\n",
    "    recall = true_pos / (true_pos + false_neg)\n",
    "    f1 = (precision * recall) / (precision + recall) if (precision + recall > 0) else 0\n",
    "\n",
    "    print(f\"accuracy: {accuracy}\")\n",
    "    print(f\"precision: {precision}\")\n",
    "    print(f\"recall: {recall}\")\n",
    "    print(f\"f1 score: {f1}\")\n",
    "\n",
    "    return accuracy, precision, recall, f1"
   ]
  },
  {
   "cell_type": "markdown",
   "id": "90d7f0e5",
   "metadata": {},
   "source": [
    "### Actual Computation"
   ]
  },
  {
   "cell_type": "code",
   "execution_count": 28,
   "id": "a16f3bf2",
   "metadata": {},
   "outputs": [],
   "source": [
    "def compute_metrics(model_name=\"base\", lr=\"3e-4\", dataset_path=\"./results/eval/preds/preds_twoshot.jsonl\"):\n",
    "    dataset_test_all = load_dataset_if_not_already(dataset_path=dataset_path)\n",
    "    cln_labels = clean_labels(dataset_test_all['masked_content'])\n",
    "    metrics = compute_metrics_for_model(cln_labels, dataset_test_all[f\"model_{model_name}_{lr}_pred\"])\n",
    "    return metrics"
   ]
  },
  {
   "cell_type": "markdown",
   "id": "c1c09f8a",
   "metadata": {},
   "source": [
    "##### Main"
   ]
  },
  {
   "cell_type": "code",
   "execution_count": 116,
   "id": "1017e370",
   "metadata": {},
   "outputs": [],
   "source": [
    "model_names = [\"general\", \"code\", \"math\", \"general_code\", \"general_math\"]\n",
    "lrs = [\"3e-3\", \"3e-4\", \"3e-5\"]"
   ]
  },
  {
   "cell_type": "code",
   "execution_count": 117,
   "id": "3152e509",
   "metadata": {},
   "outputs": [],
   "source": [
    "acc_by_model_and_lr, pre_by_model_and_lr, rec_by_model_and_lr, f1_by_model_and_lr = dict(), dict(), dict(), dict()\n",
    "#metrics_by_model_3, metrics_by_model_4, metrics_by_model_5 = dict(), dict(), dict()"
   ]
  },
  {
   "cell_type": "code",
   "execution_count": 118,
   "id": "432459b3",
   "metadata": {},
   "outputs": [
    {
     "name": "stdout",
     "output_type": "stream",
     "text": [
      "general, lr=3e-3:\n",
      "accuracy: 0.005714285714285714\n",
      "precision: 0.01\n",
      "recall: 0.005714285714285714\n",
      "f1 score: 0.003636363636363636\n",
      "\n",
      "general, lr=3e-4:\n",
      "accuracy: 0.4\n",
      "precision: 0.4166666666666667\n",
      "recall: 0.4\n",
      "f1 score: 0.20408163265306126\n",
      "\n",
      "general, lr=3e-5:\n",
      "accuracy: 0.38857142857142857\n",
      "precision: 0.43312101910828027\n",
      "recall: 0.38857142857142857\n",
      "f1 score: 0.20481927710843376\n",
      "\n",
      "code, lr=3e-3:\n",
      "accuracy: 0.0\n",
      "precision: 0.0\n",
      "recall: 0.0\n",
      "f1 score: 0\n",
      "\n",
      "code, lr=3e-4:\n",
      "accuracy: 0.10857142857142857\n",
      "precision: 0.10674157303370786\n",
      "recall: 0.10857142857142857\n",
      "f1 score: 0.05382436260623229\n",
      "\n",
      "code, lr=3e-5:\n",
      "accuracy: 0.44\n",
      "precision: 0.4117647058823529\n",
      "recall: 0.44\n",
      "f1 score: 0.21270718232044197\n",
      "\n",
      "math, lr=3e-3:\n",
      "accuracy: 0.011428571428571429\n",
      "precision: 0.007874015748031496\n",
      "recall: 0.011428571428571429\n",
      "f1 score: 0.004662004662004662\n",
      "\n",
      "math, lr=3e-4:\n",
      "accuracy: 0.09142857142857143\n",
      "precision: 0.08290155440414508\n",
      "recall: 0.09142857142857143\n",
      "f1 score: 0.043478260869565216\n",
      "\n",
      "math, lr=3e-5:\n",
      "accuracy: 0.3314285714285714\n",
      "precision: 0.3717948717948718\n",
      "recall: 0.3314285714285714\n",
      "f1 score: 0.17522658610271905\n",
      "\n",
      "general_code, lr=3e-3:\n",
      "accuracy: 0.017142857142857144\n",
      "precision: 0.03\n",
      "recall: 0.017142857142857144\n",
      "f1 score: 0.01090909090909091\n",
      "\n",
      "general_code, lr=3e-4:\n",
      "accuracy: 0.09142857142857143\n",
      "precision: 0.10256410256410256\n",
      "recall: 0.09142857142857143\n",
      "f1 score: 0.04833836858006042\n",
      "\n",
      "general_code, lr=3e-5:\n",
      "accuracy: 0.3942857142857143\n",
      "precision: 0.4233128834355828\n",
      "recall: 0.3942857142857143\n",
      "f1 score: 0.20414201183431951\n",
      "\n",
      "general_math, lr=3e-3:\n",
      "accuracy: 0.0\n",
      "precision: 0.0\n",
      "recall: 0.0\n",
      "f1 score: 0\n",
      "\n",
      "general_math, lr=3e-4:\n",
      "accuracy: 0.3657142857142857\n",
      "precision: 0.3404255319148936\n",
      "recall: 0.3657142857142857\n",
      "f1 score: 0.1763085399449036\n",
      "\n",
      "general_math, lr=3e-5:\n",
      "accuracy: 0.35428571428571426\n",
      "precision: 0.40789473684210525\n",
      "recall: 0.35428571428571426\n",
      "f1 score: 0.18960244648318042\n",
      "\n"
     ]
    }
   ],
   "source": [
    "for model_name in model_names:\n",
    "    for lr in lrs:\n",
    "        print(f\"{model_name}, lr={lr}:\")\n",
    "        accuracy, precision, recall, f1 = compute_metrics(\n",
    "            model_name=model_name, lr=lr,\n",
    "            dataset_path=\"./results/eval/preds/preds_twoshot_small.jsonl\"\n",
    "            )\n",
    "        print()\n",
    "        if (lr in acc_by_model_and_lr):\n",
    "            acc_by_model_and_lr[lr].append(accuracy)\n",
    "            pre_by_model_and_lr[lr].append(precision)\n",
    "            rec_by_model_and_lr[lr].append(recall)\n",
    "            f1_by_model_and_lr[lr].append(f1)\n",
    "        else:\n",
    "            acc_by_model_and_lr[lr] = [accuracy]\n",
    "            pre_by_model_and_lr[lr] = [precision]\n",
    "            rec_by_model_and_lr[lr] = [recall]\n",
    "            f1_by_model_and_lr[lr] = [f1]"
   ]
  },
  {
   "cell_type": "markdown",
   "id": "ffd52e16",
   "metadata": {},
   "source": [
    "#### Extension - Dataset Size"
   ]
  },
  {
   "cell_type": "code",
   "execution_count": 42,
   "id": "ab791afe",
   "metadata": {},
   "outputs": [],
   "source": [
    "model_names = [\"general\", \"code\", \"math\"]\n",
    "sizes = [\"1887\", \"500\"]"
   ]
  },
  {
   "cell_type": "code",
   "execution_count": 43,
   "id": "768f0de6",
   "metadata": {},
   "outputs": [],
   "source": [
    "acc_by_model_and_size, pre_by_model_and_size, rec_by_model_and_size, f1_by_model_and_size = dict(), dict(), dict(), dict()"
   ]
  },
  {
   "cell_type": "code",
   "execution_count": 48,
   "id": "70493712",
   "metadata": {},
   "outputs": [
    {
     "name": "stdout",
     "output_type": "stream",
     "text": [
      "general, size=1887:\n",
      "accuracy: 0.38857142857142857\n",
      "precision: 0.43312101910828027\n",
      "recall: 0.38857142857142857\n",
      "f1 score: 0.20481927710843376\n",
      "\n",
      "small_general, size=500:\n",
      "accuracy: 0.3657142857142857\n",
      "precision: 0.3855421686746988\n",
      "recall: 0.3657142857142857\n",
      "f1 score: 0.187683284457478\n",
      "\n",
      "code, size=1887:\n",
      "accuracy: 0.44\n",
      "precision: 0.4117647058823529\n",
      "recall: 0.44\n",
      "f1 score: 0.21270718232044197\n",
      "\n",
      "small_code, size=500:\n",
      "accuracy: 0.3485714285714286\n",
      "precision: 0.3961038961038961\n",
      "recall: 0.3485714285714286\n",
      "f1 score: 0.18541033434650459\n",
      "\n",
      "math, size=1887:\n",
      "accuracy: 0.3314285714285714\n",
      "precision: 0.3717948717948718\n",
      "recall: 0.3314285714285714\n",
      "f1 score: 0.17522658610271905\n",
      "\n",
      "small_math, size=500:\n",
      "accuracy: 0.4228571428571429\n",
      "precision: 0.42045454545454547\n",
      "recall: 0.4228571428571429\n",
      "f1 score: 0.21082621082621084\n",
      "\n"
     ]
    }
   ],
   "source": [
    "for model_name in model_names:\n",
    "    for size in sizes:\n",
    "        model_name = model_name if size == \"1887\" else f\"small_{model_name}\"\n",
    "        print(f\"{model_name}, size={size}:\")\n",
    "        accuracy, precision, recall, f1 = compute_metrics(\n",
    "            model_name=model_name, lr=\"3e-5\",\n",
    "            dataset_path=\"./results/eval/preds/preds_twoshot_small.jsonl\"\n",
    "            )\n",
    "        print()\n",
    "        if (size in acc_by_model_and_size):\n",
    "            acc_by_model_and_size[size].append(accuracy)\n",
    "            pre_by_model_and_size[size].append(precision)\n",
    "            rec_by_model_and_size[size].append(recall)\n",
    "            f1_by_model_and_size[size].append(f1)\n",
    "        else:\n",
    "            acc_by_model_and_size[size] = [accuracy]\n",
    "            pre_by_model_and_size[size] = [precision]\n",
    "            rec_by_model_and_size[size] = [recall]\n",
    "            f1_by_model_and_size[size] = [f1]"
   ]
  },
  {
   "cell_type": "markdown",
   "id": "ce692e9d",
   "metadata": {},
   "source": [
    "#### Extension - Prompt"
   ]
  },
  {
   "cell_type": "code",
   "execution_count": 106,
   "id": "c3f7feb4",
   "metadata": {},
   "outputs": [],
   "source": [
    "model_names = [\"general\", \"code\", \"math\"]\n",
    "prompts = [\"simple\", \"tracking\"]"
   ]
  },
  {
   "cell_type": "code",
   "execution_count": 107,
   "id": "8f8e9244",
   "metadata": {},
   "outputs": [],
   "source": [
    "acc_by_model_and_prompt, pre_by_model_and_prompt, rec_by_model_and_prompt, f1_by_model_and_prompt = dict(), dict(), dict(), dict()"
   ]
  },
  {
   "cell_type": "code",
   "execution_count": 109,
   "id": "56d11059",
   "metadata": {},
   "outputs": [
    {
     "name": "stdout",
     "output_type": "stream",
     "text": [
      "general, size=500:\n",
      "accuracy: 0.38857142857142857\n",
      "precision: 0.43312101910828027\n",
      "recall: 0.38857142857142857\n",
      "f1 score: 0.20481927710843376\n",
      "\n",
      "prompt_general, size=500:\n",
      "\n",
      "code, size=500:\n",
      "accuracy: 0.44\n",
      "precision: 0.4117647058823529\n",
      "recall: 0.44\n",
      "f1 score: 0.21270718232044197\n",
      "\n",
      "prompt_code, size=500:\n",
      "accuracy: 0.3942857142857143\n",
      "precision: 0.3689839572192513\n",
      "recall: 0.3942857142857143\n",
      "f1 score: 0.19060773480662985\n",
      "\n",
      "math, size=500:\n",
      "accuracy: 0.3314285714285714\n",
      "precision: 0.3717948717948718\n",
      "recall: 0.3314285714285714\n",
      "f1 score: 0.17522658610271905\n",
      "\n",
      "prompt_math, size=500:\n",
      "accuracy: 0.4514285714285714\n",
      "precision: 0.40512820512820513\n",
      "recall: 0.4514285714285714\n",
      "f1 score: 0.2135135135135135\n",
      "\n"
     ]
    }
   ],
   "source": [
    "for model_name in model_names:\n",
    "    for prompt in prompts:\n",
    "        model_name = model_name if prompt == \"simple\" else f\"prompt_{model_name}\"\n",
    "        print(f\"{model_name}, size={size}:\")\n",
    "        if (model_name == \"prompt_general\"):\n",
    "            accuracy, precision, recall, f1 = 0, 0, 0, 0\n",
    "        else:\n",
    "            accuracy, precision, recall, f1 = compute_metrics(\n",
    "                model_name=model_name, lr=\"3e-5\",\n",
    "                dataset_path=\"./results/eval/preds/preds_twoshot_small.jsonl\"\n",
    "                )\n",
    "        print()\n",
    "        if (prompt in acc_by_model_and_prompt):\n",
    "            acc_by_model_and_prompt[prompt].append(accuracy)\n",
    "            pre_by_model_and_prompt[prompt].append(precision)\n",
    "            rec_by_model_and_prompt[prompt].append(recall)\n",
    "            f1_by_model_and_prompt[prompt].append(f1)\n",
    "        else:\n",
    "            acc_by_model_and_prompt[prompt] = [accuracy]\n",
    "            pre_by_model_and_prompt[prompt] = [precision]\n",
    "            rec_by_model_and_prompt[prompt] = [recall]\n",
    "            f1_by_model_and_prompt[prompt] = [f1]"
   ]
  },
  {
   "cell_type": "markdown",
   "id": "68c9c6b2",
   "metadata": {},
   "source": [
    "### Plotting"
   ]
  },
  {
   "cell_type": "markdown",
   "id": "9c26be26",
   "metadata": {},
   "source": [
    "#### Main"
   ]
  },
  {
   "cell_type": "code",
   "execution_count": 119,
   "id": "5869637b",
   "metadata": {},
   "outputs": [],
   "source": [
    "# set width of bars\n",
    "barWidth = 0.25\n",
    "\n",
    "# Set position of bar on X axis\n",
    "r1 = np.arange(len(model_names))\n",
    "r2 = [x + barWidth for x in r1]\n",
    "r3 = [x + barWidth for x in r2]\n",
    "\n",
    "model_names_on_plot = [\"general\", \"code\", \"math\", \"general+code\", \"general+math\"]"
   ]
  },
  {
   "cell_type": "code",
   "execution_count": 120,
   "id": "2a9f0e50",
   "metadata": {},
   "outputs": [
    {
     "data": {
      "image/png": "[encoded data removed]",
      "text/plain": [
       "<Figure size 750x300 with 1 Axes>"
      ]
     },
     "metadata": {},
     "output_type": "display_data"
    }
   ],
   "source": [
    "fig = plt.figure(figsize=(7.5, 3))\n",
    "\n",
    "plt.bar(r1, acc_by_model_and_lr[\"3e-3\"], width=barWidth, edgecolor='white', label='3e-3')\n",
    "plt.bar(r2, acc_by_model_and_lr[\"3e-4\"], width=barWidth, edgecolor='white', label='3e-4')\n",
    "plt.bar(r3, acc_by_model_and_lr[\"3e-5\"], width=barWidth, edgecolor='white', label='3e-5')\n",
    " \n",
    "plt.ylabel('accuracy')\n",
    "plt.ylim(0, 0.52)\n",
    "plt.xlabel('')\n",
    "plt.xticks([r + barWidth for r in range(len(model_names))], model_names_on_plot)\n",
    "plt.legend(loc='upper center', ncol=3)\n",
    "\n",
    "plt.savefig(f\"./results/eval/plots/accuracy.png\")\n",
    "plt.show()"
   ]
  },
  {
   "cell_type": "code",
   "execution_count": 80,
   "id": "0f9583d9",
   "metadata": {},
   "outputs": [
    {
     "data": {
      "image/png": "[encoded data removed]",
      "text/plain": [
       "<Figure size 750x300 with 1 Axes>"
      ]
     },
     "metadata": {},
     "output_type": "display_data"
    }
   ],
   "source": [
    "plt.close()\n",
    "fig = plt.figure(figsize=(7.5, 3))\n",
    "\n",
    "plt.bar(r1, pre_by_model_and_lr[\"3e-3\"], width=barWidth, edgecolor='white', label='3e-3')\n",
    "plt.bar(r2, pre_by_model_and_lr[\"3e-4\"], width=barWidth, edgecolor='white', label='3e-4')\n",
    "plt.bar(r3, pre_by_model_and_lr[\"3e-5\"], width=barWidth, edgecolor='white', label='3e-5')\n",
    " \n",
    "plt.ylabel('precision')\n",
    "plt.ylim(0, 0.52)\n",
    "plt.xlabel('')\n",
    "plt.xticks([r + barWidth for r in range(len(model_names))], model_names_on_plot)\n",
    "plt.legend(loc='upper center', ncol=3)\n",
    "\n",
    "plt.savefig(f\"./results/eval/plots/precision.png\")\n",
    "plt.show()"
   ]
  },
  {
   "cell_type": "code",
   "execution_count": 70,
   "id": "362e50cd",
   "metadata": {},
   "outputs": [
    {
     "data": {
      "image/png": "[encoded data removed]",
      "text/plain": [
       "<Figure size 750x300 with 1 Axes>"
      ]
     },
     "metadata": {},
     "output_type": "display_data"
    }
   ],
   "source": [
    "plt.close()\n",
    "fig = plt.figure(figsize=(7.5, 3))\n",
    "\n",
    "plt.bar(r1, rec_by_model_and_lr[\"3e-3\"], width=barWidth, edgecolor='white', label='3e-3')\n",
    "plt.bar(r2, rec_by_model_and_lr[\"3e-4\"], width=barWidth, edgecolor='white', label='3e-4')\n",
    "plt.bar(r3, rec_by_model_and_lr[\"3e-5\"], width=barWidth, edgecolor='white', label='3e-5')\n",
    " \n",
    "plt.ylabel('recall')\n",
    "plt.ylim(0, 0.52)\n",
    "plt.xlabel('')\n",
    "plt.xticks([r + barWidth for r in range(len(model_names))], model_names_on_plot)\n",
    "plt.legend(loc='upper center', ncol=3)\n",
    "\n",
    "plt.savefig(f\"./results/eval/plots/recall.png\")\n",
    "plt.show()"
   ]
  },
  {
   "cell_type": "code",
   "execution_count": 81,
   "id": "604ebe2c",
   "metadata": {},
   "outputs": [
    {
     "data": {
      "image/png": "[encoded data removed]",
      "text/plain": [
       "<Figure size 750x300 with 1 Axes>"
      ]
     },
     "metadata": {},
     "output_type": "display_data"
    }
   ],
   "source": [
    "plt.close()\n",
    "fig = plt.figure(figsize=(7.5, 3))\n",
    "\n",
    "plt.bar(r1, f1_by_model_and_lr[\"3e-3\"], width=barWidth, edgecolor='white', label='3e-3')\n",
    "plt.bar(r2, f1_by_model_and_lr[\"3e-4\"], width=barWidth, edgecolor='white', label='3e-4')\n",
    "plt.bar(r3, f1_by_model_and_lr[\"3e-5\"], width=barWidth, edgecolor='white', label='3e-5')\n",
    " \n",
    "plt.ylabel('f1')\n",
    "plt.ylim(0, 0.26)\n",
    "plt.xlabel('')\n",
    "plt.xticks([r + barWidth for r in range(len(model_names))], model_names_on_plot)\n",
    "plt.legend(loc='upper center', ncol=3)\n",
    "\n",
    "plt.savefig(f\"./results/eval/plots/f1.png\")\n",
    "plt.show()"
   ]
  },
  {
   "cell_type": "markdown",
   "id": "9841a18f",
   "metadata": {},
   "source": [
    "#### Extension - Sizes"
   ]
  },
  {
   "cell_type": "code",
   "execution_count": 99,
   "id": "5ca711f6",
   "metadata": {},
   "outputs": [],
   "source": [
    "# set width of bars\n",
    "barWidth = 0.4\n",
    "\n",
    "# Set position of bar on X axis\n",
    "r1 = np.arange(len(model_names)) + 0.2\n",
    "r2 = [x + barWidth for x in r1]\n",
    "\n",
    "model_names_on_plot = [\"General\", \"Code\", \"Math\"]"
   ]
  },
  {
   "cell_type": "code",
   "execution_count": 100,
   "id": "41aae6a1",
   "metadata": {},
   "outputs": [
    {
     "data": {
      "image/png": "[encoded data removed]",
      "text/plain": [
       "<Figure size 500x300 with 1 Axes>"
      ]
     },
     "metadata": {},
     "output_type": "display_data"
    }
   ],
   "source": [
    "fig = plt.figure(figsize=(5, 3))\n",
    "\n",
    "plt.bar(r1, acc_by_model_and_size[\"1887\"], width=barWidth, edgecolor='white', label='1887')\n",
    "plt.bar(r2, acc_by_model_and_size[\"500\"], width=barWidth, edgecolor='white', label='500')\n",
    "\n",
    "plt.ylabel('Accuracy')\n",
    "plt.ylim(0, 0.53)\n",
    "plt.xlabel('')\n",
    "plt.xticks([r + barWidth for r in range(len(model_names))], model_names_on_plot)\n",
    "plt.legend(loc='upper center', ncol=3)\n",
    "\n",
    "plt.savefig(f\"./results/eval/plots/accuracy_size.png\")\n",
    "plt.show()"
   ]
  },
  {
   "cell_type": "code",
   "execution_count": 101,
   "id": "762d53af",
   "metadata": {},
   "outputs": [
    {
     "data": {
      "image/png": "[encoded data removed]",
      "text/plain": [
       "<Figure size 500x300 with 1 Axes>"
      ]
     },
     "metadata": {},
     "output_type": "display_data"
    }
   ],
   "source": [
    "fig = plt.figure(figsize=(5, 3))\n",
    "\n",
    "plt.bar(r1, rec_by_model_and_size[\"1887\"], width=barWidth, edgecolor='white', label='1887')\n",
    "plt.bar(r2, rec_by_model_and_size[\"500\"], width=barWidth, edgecolor='white', label='500')\n",
    "\n",
    "plt.ylabel('Recall')\n",
    "plt.ylim(0, 0.53)\n",
    "plt.xlabel('')\n",
    "plt.xticks([r + barWidth for r in range(len(model_names))], model_names_on_plot)\n",
    "plt.legend(loc='upper center', ncol=3)\n",
    "\n",
    "plt.savefig(f\"./results/eval/plots/recall_size.png\")\n",
    "plt.show()"
   ]
  },
  {
   "cell_type": "code",
   "execution_count": 105,
   "id": "ebd791ed",
   "metadata": {},
   "outputs": [
    {
     "data": {
      "image/png": "[encoded data removed]",
      "text/plain": [
       "<Figure size 500x300 with 1 Axes>"
      ]
     },
     "metadata": {},
     "output_type": "display_data"
    }
   ],
   "source": [
    "fig = plt.figure(figsize=(5, 3))\n",
    "\n",
    "plt.bar(r1, pre_by_model_and_size[\"1887\"], width=barWidth, edgecolor='white', label='1887')\n",
    "plt.bar(r2, pre_by_model_and_size[\"500\"], width=barWidth, edgecolor='white', label='500')\n",
    "\n",
    "plt.ylabel('Precision')\n",
    "plt.ylim(0, 0.53)\n",
    "plt.xlabel('')\n",
    "plt.xticks([r + barWidth for r in range(len(model_names))], model_names_on_plot)\n",
    "plt.legend(loc='upper center', ncol=3)\n",
    "\n",
    "plt.savefig(f\"./results/eval/plots/precision_size.png\")\n",
    "plt.show()"
   ]
  },
  {
   "cell_type": "code",
   "execution_count": 104,
   "id": "64484625",
   "metadata": {},
   "outputs": [
    {
     "data": {
      "image/png": "[encoded data removed]",
      "text/plain": [
       "<Figure size 500x300 with 1 Axes>"
      ]
     },
     "metadata": {},
     "output_type": "display_data"
    }
   ],
   "source": [
    "fig = plt.figure(figsize=(5, 3))\n",
    "\n",
    "plt.bar(r1, f1_by_model_and_size[\"1887\"], width=barWidth, edgecolor='white', label='1887')\n",
    "plt.bar(r2, f1_by_model_and_size[\"500\"], width=barWidth, edgecolor='white', label='500')\n",
    "\n",
    "plt.ylabel('F1 score')\n",
    "plt.ylim(0, 0.26)\n",
    "plt.xlabel('')\n",
    "plt.xticks([r + barWidth for r in range(len(model_names))], model_names_on_plot)\n",
    "plt.legend(loc='upper center', ncol=3)\n",
    "\n",
    "plt.savefig(f\"./results/eval/plots/f1_size.png\")\n",
    "plt.show()"
   ]
  },
  {
   "cell_type": "markdown",
   "id": "da6b6e16",
   "metadata": {},
   "source": [
    "#### Extension - Prompts"
   ]
  },
  {
   "cell_type": "code",
   "execution_count": 110,
   "id": "cc560eaf",
   "metadata": {},
   "outputs": [],
   "source": [
    "# set width of bars\n",
    "barWidth = 0.4\n",
    "\n",
    "# Set position of bar on X axis\n",
    "r1 = np.arange(len(model_names)) + 0.2\n",
    "r2 = [x + barWidth for x in r1]\n",
    "\n",
    "model_names_on_plot = [\"General\", \"Code\", \"Math\"]"
   ]
  },
  {
   "cell_type": "code",
   "execution_count": 111,
   "id": "89ba84b7",
   "metadata": {},
   "outputs": [
    {
     "data": {
      "image/png": "[encoded data removed]",
      "text/plain": [
       "<Figure size 500x300 with 1 Axes>"
      ]
     },
     "metadata": {},
     "output_type": "display_data"
    }
   ],
   "source": [
    "fig = plt.figure(figsize=(5, 3))\n",
    "\n",
    "plt.bar(r1, acc_by_model_and_prompt[\"simple\"], width=barWidth, edgecolor='white', label='simple')\n",
    "plt.bar(r2, acc_by_model_and_prompt[\"tracking\"], width=barWidth, edgecolor='white', label='tracking')\n",
    "\n",
    "plt.ylabel('Accuracy')\n",
    "plt.ylim(0, 0.53)\n",
    "plt.xlabel('')\n",
    "plt.xticks([r + barWidth for r in range(len(model_names))], model_names_on_plot)\n",
    "plt.legend(loc='upper center', ncol=3)\n",
    "\n",
    "plt.savefig(f\"./results/eval/plots/accuracy_prompt.png\")\n",
    "plt.show()"
   ]
  },
  {
   "cell_type": "code",
   "execution_count": 112,
   "id": "5175b823",
   "metadata": {},
   "outputs": [
    {
     "data": {
      "image/png": "[encoded data removed]",
      "text/plain": [
       "<Figure size 500x300 with 1 Axes>"
      ]
     },
     "metadata": {},
     "output_type": "display_data"
    }
   ],
   "source": [
    "fig = plt.figure(figsize=(5, 3))\n",
    "\n",
    "plt.bar(r1, pre_by_model_and_prompt[\"simple\"], width=barWidth, edgecolor='white', label='simple')\n",
    "plt.bar(r2, pre_by_model_and_prompt[\"tracking\"], width=barWidth, edgecolor='white', label='tracking')\n",
    "\n",
    "plt.ylabel('Precision')\n",
    "plt.ylim(0, 0.53)\n",
    "plt.xlabel('')\n",
    "plt.xticks([r + barWidth for r in range(len(model_names))], model_names_on_plot)\n",
    "plt.legend(loc='upper center', ncol=3)\n",
    "\n",
    "plt.savefig(f\"./results/eval/plots/precision_prompt.png\")\n",
    "plt.show()"
   ]
  },
  {
   "cell_type": "code",
   "execution_count": 113,
   "id": "55abee1a",
   "metadata": {},
   "outputs": [
    {
     "data": {
      "image/png": "[encoded data removed]",
      "text/plain": [
       "<Figure size 500x300 with 1 Axes>"
      ]
     },
     "metadata": {},
     "output_type": "display_data"
    }
   ],
   "source": [
    "fig = plt.figure(figsize=(5, 3))\n",
    "\n",
    "plt.bar(r1, rec_by_model_and_prompt[\"simple\"], width=barWidth, edgecolor='white', label='simple')\n",
    "plt.bar(r2, rec_by_model_and_prompt[\"tracking\"], width=barWidth, edgecolor='white', label='tracking')\n",
    "\n",
    "plt.ylabel('Recall')\n",
    "plt.ylim(0, 0.53)\n",
    "plt.xlabel('')\n",
    "plt.xticks([r + barWidth for r in range(len(model_names))], model_names_on_plot)\n",
    "plt.legend(loc='upper center', ncol=3)\n",
    "\n",
    "plt.savefig(f\"./results/eval/plots/recall_prompt.png\")\n",
    "plt.show()"
   ]
  },
  {
   "cell_type": "code",
   "execution_count": 115,
   "id": "51909daa",
   "metadata": {},
   "outputs": [
    {
     "data": {
      "image/png": "[encoded data removed]",
      "text/plain": [
       "<Figure size 500x300 with 1 Axes>"
      ]
     },
     "metadata": {},
     "output_type": "display_data"
    }
   ],
   "source": [
    "fig = plt.figure(figsize=(5, 3))\n",
    "\n",
    "plt.bar(r1, f1_by_model_and_prompt[\"simple\"], width=barWidth, edgecolor='white', label='simple')\n",
    "plt.bar(r2, f1_by_model_and_prompt[\"tracking\"], width=barWidth, edgecolor='white', label='tracking')\n",
    "\n",
    "plt.ylabel('F1 Score')\n",
    "plt.ylim(0, 0.26)\n",
    "plt.xlabel('')\n",
    "plt.xticks([r + barWidth for r in range(len(model_names))], model_names_on_plot)\n",
    "plt.legend(loc='upper center', ncol=3)\n",
    "\n",
    "plt.savefig(f\"./results/eval/plots/f1_prompt.png\")\n",
    "plt.show()"
   ]
  }
 ],
 "metadata": {
  "kernelspec": {
   "display_name": "Python 3 (ipykernel)",
   "language": "python",
   "name": "python3"
  },
  "language_info": {
   "codemirror_mode": {
    "name": "ipython",
    "version": 3
   },
   "file_extension": ".py",
   "mimetype": "text/x-python",
   "name": "python",
   "nbconvert_exporter": "python",
   "pygments_lexer": "ipython3",
   "version": "3.11.5"
  }
 },
 "nbformat": 4,
 "nbformat_minor": 5
}
