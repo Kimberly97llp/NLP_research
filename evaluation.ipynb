{
 "cells": [
  {
   "cell_type": "markdown",
   "id": "00bd6376-ecd5-417c-a171-7dab4d83bcf1",
   "metadata": {},
   "source": [
    "# 6.8610  PROJECT"
   ]
  },
  {
   "cell_type": "markdown",
   "id": "c55c8fd1-ac41-4d6b-a093-d2521f337837",
   "metadata": {},
   "source": [
    "## Install and import libraries"
   ]
  },
  {
   "cell_type": "code",
   "execution_count": null,
   "id": "e69c3a0d-afdb-483d-9b58-506857a470e3",
   "metadata": {},
   "outputs": [],
   "source": [
    "!pip install datasets\n",
    "!pip install transformers[torch]\n",
    "!pip install tokenizers\n",
    "!pip install huggingface_hub\n",
    "!pip install tqdm\n",
    "!pip install matplotlib"
   ]
  },
  {
   "cell_type": "code",
   "execution_count": 2,
   "id": "673e826c-17f9-45cf-b600-a0a41d8a33e3",
   "metadata": {},
   "outputs": [
    {
     "name": "stderr",
     "output_type": "stream",
     "text": [
      "c:\\Users\\yezix\\AppData\\Local\\Programs\\Python\\Python311\\Lib\\site-packages\\tqdm\\auto.py:21: TqdmWarning: IProgress not found. Please update jupyter and ipywidgets. See https://ipywidgets.readthedocs.io/en/stable/user_install.html\n",
      "  from .autonotebook import tqdm as notebook_tqdm\n"
     ]
    }
   ],
   "source": [
    "import numpy as np\n",
    "from datasets import Dataset, load_dataset\n",
    "from transformers import T5Tokenizer, T5ForConditionalGeneration\n",
    "from transformers import AutoTokenizer, AutoModelForSeq2SeqLM\n",
    "from torch.optim import AdamW\n",
    "from torch.utils.data import DataLoader, TensorDataset\n",
    "import os\n",
    "import json\n",
    "import torch\n",
    "from tqdm import tqdm\n",
    "import gc\n",
    "import matplotlib.pyplot as plt"
   ]
  },
  {
   "cell_type": "code",
   "execution_count": 3,
   "metadata": {},
   "outputs": [
    {
     "name": "stdout",
     "output_type": "stream",
     "text": [
      "cuda\n"
     ]
    }
   ],
   "source": [
    "device = \"cuda\" if torch.cuda.is_available() else \"cpu\"\n",
    "print(device)"
   ]
  },
  {
   "cell_type": "markdown",
   "id": "83a64e28-68b5-489d-97b4-139cbb60c837",
   "metadata": {},
   "source": [
    "## Helpers"
   ]
  },
  {
   "cell_type": "markdown",
   "metadata": {},
   "source": [
    "### Prepare Dataset"
   ]
  },
  {
   "cell_type": "code",
   "execution_count": 4,
   "metadata": {},
   "outputs": [],
   "source": [
    "def get_latest_checkpoint(checkpoint_dir):\n",
    "\n",
    "    # List all directories in the results folder\n",
    "    all_checkpoints = [d for d in os.listdir(checkpoint_dir) if os.path.isdir(os.path.join(checkpoint_dir, d))]\n",
    "    # Extract the checkpoint numbers\n",
    "    checkpoint_numbers = [int(d.split(\"-\")[1]) for d in all_checkpoints if d.startswith(\"checkpoint-\")]\n",
    "    # Find the folder name of the latest checkpoint\n",
    "    latest_checkpoint_folder = f\"{checkpoint_dir}/checkpoint-{max(checkpoint_numbers)}\"\n",
    "    \n",
    "    return latest_checkpoint_folder"
   ]
  },
  {
   "cell_type": "code",
   "execution_count": 5,
   "metadata": {},
   "outputs": [],
   "source": [
    "def load_tokenizer(checkpoint_dir):\n",
    "    checkpoint = get_latest_checkpoint(checkpoint_dir)\n",
    "    tokenizer = AutoTokenizer.from_pretrained(checkpoint)\n",
    "    return tokenizer"
   ]
  },
  {
   "cell_type": "code",
   "execution_count": 6,
   "metadata": {},
   "outputs": [],
   "source": [
    "def load_datasets(dataset_dir):\n",
    "    dataset_train_path = f\"{dataset_dir}/train.jsonl\"\n",
    "    #dataset_test_path = f\"{dataset_dir}/test.jsonl\"\n",
    "    dataset_test_path = f\"{dataset_dir}/test_small.jsonl\"\n",
    "    dataset_train = load_dataset('json', data_files=dataset_train_path)['train']\n",
    "    dataset_test = load_dataset('json', data_files=dataset_test_path)['train']\n",
    "    return dataset_train, dataset_test"
   ]
  },
  {
   "cell_type": "code",
   "execution_count": 7,
   "metadata": {},
   "outputs": [],
   "source": [
    "PROMPT = \"\"\"\n",
    "Given the description after \"Description:\", complete the last sentence with a true statement about the contents\n",
    "of the specified box according to the description.\n",
    "Description: \n",
    "\"\"\"\n",
    "\n",
    "def tokenize_dataset(dataset, tokenizer):\n",
    "    input_ids = []\n",
    "    attention_masks = []\n",
    "    labels = []\n",
    "\n",
    "    for entry in tqdm(dataset):\n",
    "        # tokenize problem\n",
    "        input_data = PROMPT + entry['sentence_masked'][:-15] + \":\"\n",
    "        input_encoding = tokenizer(input_data, truncation=True, padding='max_length', max_length=512, return_attention_mask = True, return_tensors = 'pt')\n",
    "        input_ids.append(input_encoding['input_ids'])\n",
    "        attention_masks.append(input_encoding['attention_mask'])\n",
    "         # tokenize answer\n",
    "        target = entry['masked_content'][13:]\n",
    "        target_encoding = tokenizer(target, truncation=True, padding='max_length', max_length=512, return_attention_mask = True, return_tensors = 'pt')\n",
    "        target_input_ids = target_encoding['input_ids']\n",
    "        target_input_ids[target_input_ids == tokenizer.pad_token_id] = -100\n",
    "        labels.append(target_input_ids)\n",
    "\n",
    "    input_ids = torch.cat(input_ids, dim=0)\n",
    "    attention_masks = torch.cat(attention_masks, dim=0)\n",
    "    labels = torch.cat(labels, dim=0)\n",
    "    tokenized_data = TensorDataset(input_ids, attention_masks, labels)\n",
    "    return tokenized_data"
   ]
  },
  {
   "cell_type": "code",
   "execution_count": 8,
   "metadata": {},
   "outputs": [],
   "source": [
    "BATCH_SIZE = 4\n",
    "\n",
    "def make_dataloader(tokenized_dataset):\n",
    "    dataloader = DataLoader(tokenized_dataset, batch_size=BATCH_SIZE, shuffle=False)\n",
    "    return dataloader"
   ]
  },
  {
   "cell_type": "markdown",
   "metadata": {},
   "source": [
    "### Two-Shot Training"
   ]
  },
  {
   "cell_type": "code",
   "execution_count": 9,
   "metadata": {},
   "outputs": [],
   "source": [
    "def load_model(checkpoint_dir):\n",
    "    checkpoint = get_latest_checkpoint(checkpoint_dir)\n",
    "    model = AutoModelForSeq2SeqLM.from_pretrained(checkpoint).to(device)\n",
    "    return model"
   ]
  },
  {
   "cell_type": "code",
   "execution_count": 10,
   "metadata": {},
   "outputs": [],
   "source": [
    "def train_model(model, train_loader):\n",
    "    \n",
    "    optimizer = AdamW(model.parameters(), lr = 1e-4, eps = 1e-8)\n",
    "\n",
    "    for _ in tqdm(range(5)):\n",
    "\n",
    "        total_train_loss = 0\n",
    "        model.train()\n",
    "\n",
    "        for batch in tqdm(train_loader):\n",
    "\n",
    "          input_ids = batch[0].to(device)\n",
    "          input_mask = batch[1].to(device)\n",
    "          labels = batch[2].to(device)\n",
    "          \n",
    "          model.zero_grad()\n",
    "          outputs = model(input_ids, attention_mask=input_mask, labels=labels)\n",
    "          loss = outputs.loss\n",
    "          total_train_loss += loss\n",
    "          loss.backward()\n",
    "          torch.nn.utils.clip_grad_norm_(model.parameters(), 1.0)\n",
    "          optimizer.step()\n",
    "    \n",
    "    print(f\"Total train loss: {total_train_loss}.\")"
   ]
  },
  {
   "cell_type": "markdown",
   "metadata": {},
   "source": [
    "### Generate Predictions"
   ]
  },
  {
   "cell_type": "code",
   "execution_count": 11,
   "metadata": {},
   "outputs": [],
   "source": [
    "def make_prediction_all(model, tokenizer, dataloader):\n",
    "    model_predictions = []\n",
    "\n",
    "    for batch in tqdm(dataloader):\n",
    "\n",
    "        # Generate sequences for the batch\n",
    "        input_ids = batch[0].to(device)\n",
    "        input_mask = batch[1].to(device)\n",
    "        sequence_ids = model.generate(input_ids, attention_mask=input_mask)\n",
    "        sequences = tokenizer.batch_decode(sequence_ids, skip_special_tokens=True)\n",
    "\n",
    "        # Accumulate generated sequences\n",
    "        model_predictions.extend(sequences)\n",
    "\n",
    "    return model_predictions"
   ]
  },
  {
   "cell_type": "code",
   "execution_count": 12,
   "metadata": {},
   "outputs": [],
   "source": [
    "def add_prediction_to_data(model_preds, model_name, lr, dataset):\n",
    "    dataset = dataset.add_column(f\"model_{model_name}_{lr}_pred\", model_preds)\n",
    "    return dataset"
   ]
  },
  {
   "cell_type": "markdown",
   "metadata": {},
   "source": [
    "## Evaluation Loop"
   ]
  },
  {
   "cell_type": "code",
   "execution_count": 13,
   "metadata": {},
   "outputs": [],
   "source": [
    "dataset_train, dataset_test = load_datasets(\"./eval/current_use\")"
   ]
  },
  {
   "cell_type": "code",
   "execution_count": 14,
   "metadata": {},
   "outputs": [],
   "source": [
    "dataset_test_all = Dataset.from_dict({\n",
    "    # problem and solution\n",
    "    'sentence_masked': dataset_test['sentence_masked'],\n",
    "    'masked_content': dataset_test['masked_content'],\n",
    "    # metadata\n",
    "    'sample_id': dataset_test['sample_id'],\n",
    "    'numops': dataset_test['numops'],\n",
    "    })"
   ]
  },
  {
   "cell_type": "code",
   "execution_count": 15,
   "metadata": {},
   "outputs": [],
   "source": [
    "def evaluate_model(model_name=\"base\", lr=\"3e-4\", zeroshot=True):\n",
    "\n",
    "    # prepare datasets\n",
    "    tokenizer = load_tokenizer(f\"./results/{model_name}/{lr}/\")\n",
    "    tokenized_dataset_train = tokenize_dataset(dataset_train, tokenizer)\n",
    "    tokenized_dataset_test = tokenize_dataset(dataset_test, tokenizer)\n",
    "    train_loader = make_dataloader(tokenized_dataset_train)\n",
    "    test_loader = make_dataloader(tokenized_dataset_test)\n",
    "\n",
    "    # load and potentially train model\n",
    "    model = load_model(f\"./results/{model_name}/{lr}/\")\n",
    "    if not zeroshot:\n",
    "        train_model(model, train_loader)\n",
    "\n",
    "    # make predictions\n",
    "    model_preds = make_prediction_all(model, tokenizer, test_loader)\n",
    "    if zeroshot:\n",
    "        dataset_test.to_json(f\"./results/eval/preds/preds_{model_name}_{lr}_zeroshot.jsonl\", orient=\"records\")\n",
    "    else:\n",
    "        dataset_test.to_json(f\"./results/eval/preds/preds_{model_name}_{lr}_twoshot.jsonl\", orient=\"records\")\n",
    "    \n",
    "    # garbage collection\n",
    "    del model, tokenizer, tokenized_dataset_train, tokenized_dataset_test, train_loader, test_loader\n",
    "    gc.collect()\n",
    "    torch.cuda.empty_cache()\n",
    "\n",
    "    return model_preds"
   ]
  },
  {
   "cell_type": "code",
   "execution_count": 16,
   "metadata": {},
   "outputs": [],
   "source": [
    "model_names = [\"general\", \"code\", \"math\", \"general_code\", \"general_math\"]\n",
    "lrs = [\"3e-3\", \"3e-4\", \"3e-5\"]"
   ]
  },
  {
   "cell_type": "code",
   "execution_count": 17,
   "metadata": {},
   "outputs": [
    {
     "name": "stderr",
     "output_type": "stream",
     "text": [
      "Special tokens have been added in the vocabulary, make sure the associated word embeddings are fine-tuned or trained.\n",
      "100%|██████████| 14/14 [00:00<00:00, 1272.82it/s]\n",
      "100%|██████████| 100/100 [00:00<00:00, 1886.84it/s]\n",
      "100%|██████████| 4/4 [00:06<00:00,  1.57s/it]\n",
      "100%|██████████| 4/4 [00:07<00:00,  1.87s/it]\n",
      "100%|██████████| 4/4 [00:07<00:00,  1.83s/it]\n",
      "100%|██████████| 4/4 [00:05<00:00,  1.44s/it]\n",
      "100%|██████████| 4/4 [00:05<00:00,  1.42s/it]\n",
      "100%|██████████| 5/5 [00:32<00:00,  6.50s/it]\n"
     ]
    },
    {
     "name": "stdout",
     "output_type": "stream",
     "text": [
      "Total train loss: 14.174478530883789.\n"
     ]
    },
    {
     "name": "stderr",
     "output_type": "stream",
     "text": [
      "  0%|          | 0/25 [00:00<?, ?it/s]c:\\Users\\yezix\\AppData\\Local\\Programs\\Python\\Python311\\Lib\\site-packages\\transformers\\generation\\utils.py:1273: UserWarning: Using the model-agnostic default `max_length` (=20) to control the generation length. We recommend setting `max_new_tokens` to control the maximum length of the generation.\n",
      "  warnings.warn(\n",
      "100%|██████████| 25/25 [00:03<00:00,  6.80it/s]\n",
      "Creating json from Arrow format: 100%|██████████| 1/1 [00:00<00:00, 333.36ba/s]\n",
      "Special tokens have been added in the vocabulary, make sure the associated word embeddings are fine-tuned or trained.\n",
      "100%|██████████| 14/14 [00:00<00:00, 307.62it/s]\n",
      "100%|██████████| 100/100 [00:00<00:00, 1923.19it/s]\n",
      "100%|██████████| 4/4 [00:05<00:00,  1.40s/it]\n",
      "100%|██████████| 4/4 [00:06<00:00,  1.55s/it]\n",
      "100%|██████████| 4/4 [00:06<00:00,  1.60s/it]\n",
      "100%|██████████| 4/4 [00:08<00:00,  2.11s/it]\n",
      "100%|██████████| 4/4 [00:07<00:00,  1.84s/it]\n",
      "100%|██████████| 5/5 [00:34<00:00,  6.80s/it]\n"
     ]
    },
    {
     "name": "stdout",
     "output_type": "stream",
     "text": [
      "Total train loss: 1.837100625038147.\n"
     ]
    },
    {
     "name": "stderr",
     "output_type": "stream",
     "text": [
      "  0%|          | 0/25 [00:00<?, ?it/s]c:\\Users\\yezix\\AppData\\Local\\Programs\\Python\\Python311\\Lib\\site-packages\\transformers\\generation\\utils.py:1273: UserWarning: Using the model-agnostic default `max_length` (=20) to control the generation length. We recommend setting `max_new_tokens` to control the maximum length of the generation.\n",
      "  warnings.warn(\n",
      "100%|██████████| 25/25 [00:07<00:00,  3.43it/s]\n",
      "Creating json from Arrow format: 100%|██████████| 1/1 [00:00<00:00, 333.46ba/s]\n",
      "Special tokens have been added in the vocabulary, make sure the associated word embeddings are fine-tuned or trained.\n",
      "100%|██████████| 14/14 [00:00<00:00, 297.88it/s]\n",
      "100%|██████████| 100/100 [00:00<00:00, 1979.76it/s]\n",
      "100%|██████████| 4/4 [00:05<00:00,  1.37s/it]\n",
      "100%|██████████| 4/4 [00:06<00:00,  1.50s/it]\n",
      "100%|██████████| 4/4 [00:05<00:00,  1.47s/it]\n",
      "100%|██████████| 4/4 [00:07<00:00,  1.76s/it]\n",
      "100%|██████████| 4/4 [00:06<00:00,  1.52s/it]\n",
      "100%|██████████| 5/5 [00:30<00:00,  6.09s/it]\n"
     ]
    },
    {
     "name": "stdout",
     "output_type": "stream",
     "text": [
      "Total train loss: 1.3431181907653809.\n"
     ]
    },
    {
     "name": "stderr",
     "output_type": "stream",
     "text": [
      "  0%|          | 0/25 [00:00<?, ?it/s]c:\\Users\\yezix\\AppData\\Local\\Programs\\Python\\Python311\\Lib\\site-packages\\transformers\\generation\\utils.py:1273: UserWarning: Using the model-agnostic default `max_length` (=20) to control the generation length. We recommend setting `max_new_tokens` to control the maximum length of the generation.\n",
      "  warnings.warn(\n",
      "100%|██████████| 25/25 [00:07<00:00,  3.31it/s]\n",
      "Creating json from Arrow format: 100%|██████████| 1/1 [00:00<00:00, 333.20ba/s]\n",
      "Special tokens have been added in the vocabulary, make sure the associated word embeddings are fine-tuned or trained.\n",
      "100%|██████████| 14/14 [00:00<00:00, 297.86it/s]\n",
      "100%|██████████| 100/100 [00:00<00:00, 1754.27it/s]\n",
      "100%|██████████| 4/4 [00:06<00:00,  1.60s/it]\n",
      "100%|██████████| 4/4 [00:06<00:00,  1.61s/it]\n",
      "100%|██████████| 4/4 [00:06<00:00,  1.70s/it]\n",
      "100%|██████████| 4/4 [00:07<00:00,  1.93s/it]\n",
      "100%|██████████| 4/4 [00:06<00:00,  1.71s/it]\n",
      "100%|██████████| 5/5 [00:34<00:00,  6.85s/it]\n"
     ]
    },
    {
     "name": "stdout",
     "output_type": "stream",
     "text": [
      "Total train loss: 18.626953125.\n"
     ]
    },
    {
     "name": "stderr",
     "output_type": "stream",
     "text": [
      "  0%|          | 0/25 [00:00<?, ?it/s]c:\\Users\\yezix\\AppData\\Local\\Programs\\Python\\Python311\\Lib\\site-packages\\transformers\\generation\\utils.py:1273: UserWarning: Using the model-agnostic default `max_length` (=20) to control the generation length. We recommend setting `max_new_tokens` to control the maximum length of the generation.\n",
      "  warnings.warn(\n",
      "100%|██████████| 25/25 [00:11<00:00,  2.12it/s]\n",
      "Creating json from Arrow format: 100%|██████████| 1/1 [00:00<00:00, 500.16ba/s]\n",
      "Special tokens have been added in the vocabulary, make sure the associated word embeddings are fine-tuned or trained.\n",
      "100%|██████████| 14/14 [00:00<00:00, 291.62it/s]\n",
      "100%|██████████| 100/100 [00:00<00:00, 1904.23it/s]\n",
      "100%|██████████| 4/4 [00:06<00:00,  1.51s/it]\n",
      "100%|██████████| 4/4 [00:06<00:00,  1.57s/it]\n",
      "100%|██████████| 4/4 [00:07<00:00,  1.81s/it]\n",
      "100%|██████████| 4/4 [00:09<00:00,  2.43s/it]\n",
      "100%|██████████| 4/4 [00:09<00:00,  2.30s/it]\n",
      "100%|██████████| 5/5 [00:38<00:00,  7.70s/it]\n"
     ]
    },
    {
     "name": "stdout",
     "output_type": "stream",
     "text": [
      "Total train loss: 3.9452316761016846.\n"
     ]
    },
    {
     "name": "stderr",
     "output_type": "stream",
     "text": [
      "  0%|          | 0/25 [00:00<?, ?it/s]c:\\Users\\yezix\\AppData\\Local\\Programs\\Python\\Python311\\Lib\\site-packages\\transformers\\generation\\utils.py:1273: UserWarning: Using the model-agnostic default `max_length` (=20) to control the generation length. We recommend setting `max_new_tokens` to control the maximum length of the generation.\n",
      "  warnings.warn(\n",
      "100%|██████████| 25/25 [00:08<00:00,  3.09it/s]\n",
      "Creating json from Arrow format: 100%|██████████| 1/1 [00:00<00:00, 499.80ba/s]\n",
      "Special tokens have been added in the vocabulary, make sure the associated word embeddings are fine-tuned or trained.\n",
      "100%|██████████| 14/14 [00:00<00:00, 282.80it/s]\n",
      "100%|██████████| 100/100 [00:00<00:00, 1960.66it/s]\n",
      "100%|██████████| 4/4 [00:06<00:00,  1.68s/it]\n",
      "100%|██████████| 4/4 [00:06<00:00,  1.71s/it]\n",
      "100%|██████████| 4/4 [00:06<00:00,  1.70s/it]\n",
      "100%|██████████| 4/4 [00:07<00:00,  1.97s/it]\n",
      "100%|██████████| 4/4 [00:06<00:00,  1.69s/it]\n",
      "100%|██████████| 5/5 [00:35<00:00,  7.00s/it]\n"
     ]
    },
    {
     "name": "stdout",
     "output_type": "stream",
     "text": [
      "Total train loss: 1.612273931503296.\n"
     ]
    },
    {
     "name": "stderr",
     "output_type": "stream",
     "text": [
      "  0%|          | 0/25 [00:00<?, ?it/s]c:\\Users\\yezix\\AppData\\Local\\Programs\\Python\\Python311\\Lib\\site-packages\\transformers\\generation\\utils.py:1273: UserWarning: Using the model-agnostic default `max_length` (=20) to control the generation length. We recommend setting `max_new_tokens` to control the maximum length of the generation.\n",
      "  warnings.warn(\n",
      "100%|██████████| 25/25 [00:07<00:00,  3.22it/s]\n",
      "Creating json from Arrow format: 100%|██████████| 1/1 [00:00<00:00, 500.22ba/s]\n",
      "Special tokens have been added in the vocabulary, make sure the associated word embeddings are fine-tuned or trained.\n",
      "100%|██████████| 14/14 [00:00<00:00, 311.11it/s]\n",
      "100%|██████████| 100/100 [00:00<00:00, 1882.01it/s]\n",
      "100%|██████████| 4/4 [00:06<00:00,  1.64s/it]\n",
      "100%|██████████| 4/4 [00:06<00:00,  1.74s/it]\n",
      "100%|██████████| 4/4 [00:06<00:00,  1.66s/it]\n",
      "100%|██████████| 4/4 [00:07<00:00,  1.82s/it]\n",
      "100%|██████████| 4/4 [00:06<00:00,  1.65s/it]\n",
      "100%|██████████| 5/5 [00:34<00:00,  6.81s/it]\n"
     ]
    },
    {
     "name": "stdout",
     "output_type": "stream",
     "text": [
      "Total train loss: 10.347142219543457.\n"
     ]
    },
    {
     "name": "stderr",
     "output_type": "stream",
     "text": [
      "  0%|          | 0/25 [00:00<?, ?it/s]c:\\Users\\yezix\\AppData\\Local\\Programs\\Python\\Python311\\Lib\\site-packages\\transformers\\generation\\utils.py:1273: UserWarning: Using the model-agnostic default `max_length` (=20) to control the generation length. We recommend setting `max_new_tokens` to control the maximum length of the generation.\n",
      "  warnings.warn(\n",
      "100%|██████████| 25/25 [00:14<00:00,  1.75it/s]\n",
      "Creating json from Arrow format: 100%|██████████| 1/1 [00:00<00:00, 499.68ba/s]\n",
      "Special tokens have been added in the vocabulary, make sure the associated word embeddings are fine-tuned or trained.\n",
      "100%|██████████| 14/14 [00:00<00:00, 291.63it/s]\n",
      "100%|██████████| 100/100 [00:00<00:00, 1941.46it/s]\n",
      "100%|██████████| 4/4 [00:06<00:00,  1.58s/it]\n",
      "100%|██████████| 4/4 [00:06<00:00,  1.66s/it]\n",
      "100%|██████████| 4/4 [00:06<00:00,  1.63s/it]\n",
      "100%|██████████| 4/4 [00:07<00:00,  1.98s/it]\n",
      "100%|██████████| 4/4 [00:06<00:00,  1.72s/it]\n",
      "100%|██████████| 5/5 [00:34<00:00,  6.87s/it]\n"
     ]
    },
    {
     "name": "stdout",
     "output_type": "stream",
     "text": [
      "Total train loss: 3.832449436187744.\n"
     ]
    },
    {
     "name": "stderr",
     "output_type": "stream",
     "text": [
      "  0%|          | 0/25 [00:00<?, ?it/s]c:\\Users\\yezix\\AppData\\Local\\Programs\\Python\\Python311\\Lib\\site-packages\\transformers\\generation\\utils.py:1273: UserWarning: Using the model-agnostic default `max_length` (=20) to control the generation length. We recommend setting `max_new_tokens` to control the maximum length of the generation.\n",
      "  warnings.warn(\n",
      "100%|██████████| 25/25 [00:10<00:00,  2.41it/s]\n",
      "Creating json from Arrow format: 100%|██████████| 1/1 [00:00<00:00, 499.80ba/s]\n",
      "Special tokens have been added in the vocabulary, make sure the associated word embeddings are fine-tuned or trained.\n",
      "100%|██████████| 14/14 [00:00<00:00, 291.66it/s]\n",
      "100%|██████████| 100/100 [00:00<00:00, 1801.40it/s]\n",
      "100%|██████████| 4/4 [00:10<00:00,  2.72s/it]\n",
      "100%|██████████| 4/4 [00:16<00:00,  4.25s/it]\n",
      "100%|██████████| 4/4 [00:10<00:00,  2.69s/it]\n",
      "100%|██████████| 4/4 [00:13<00:00,  3.42s/it]\n",
      "100%|██████████| 4/4 [00:11<00:00,  2.78s/it]\n",
      "100%|██████████| 5/5 [01:03<00:00, 12.69s/it]\n"
     ]
    },
    {
     "name": "stdout",
     "output_type": "stream",
     "text": [
      "Total train loss: 2.848722457885742.\n"
     ]
    },
    {
     "name": "stderr",
     "output_type": "stream",
     "text": [
      "  0%|          | 0/25 [00:00<?, ?it/s]c:\\Users\\yezix\\AppData\\Local\\Programs\\Python\\Python311\\Lib\\site-packages\\transformers\\generation\\utils.py:1273: UserWarning: Using the model-agnostic default `max_length` (=20) to control the generation length. We recommend setting `max_new_tokens` to control the maximum length of the generation.\n",
      "  warnings.warn(\n",
      "100%|██████████| 25/25 [00:20<00:00,  1.24it/s]\n",
      "Creating json from Arrow format: 100%|██████████| 1/1 [00:00<00:00, 499.32ba/s]\n",
      "Special tokens have been added in the vocabulary, make sure the associated word embeddings are fine-tuned or trained.\n",
      "100%|██████████| 14/14 [00:00<00:00, 300.98it/s]\n",
      "100%|██████████| 100/100 [00:00<00:00, 1886.74it/s]\n",
      "100%|██████████| 4/4 [00:08<00:00,  2.10s/it]\n",
      "100%|██████████| 4/4 [00:08<00:00,  2.22s/it]\n",
      "100%|██████████| 4/4 [00:08<00:00,  2.09s/it]\n",
      "100%|██████████| 4/4 [00:09<00:00,  2.48s/it]\n",
      "100%|██████████| 4/4 [00:08<00:00,  2.13s/it]\n",
      "100%|██████████| 5/5 [00:44<00:00,  8.82s/it]\n"
     ]
    },
    {
     "name": "stdout",
     "output_type": "stream",
     "text": [
      "Total train loss: 10.90717601776123.\n"
     ]
    },
    {
     "name": "stderr",
     "output_type": "stream",
     "text": [
      "  0%|          | 0/25 [00:00<?, ?it/s]c:\\Users\\yezix\\AppData\\Local\\Programs\\Python\\Python311\\Lib\\site-packages\\transformers\\generation\\utils.py:1273: UserWarning: Using the model-agnostic default `max_length` (=20) to control the generation length. We recommend setting `max_new_tokens` to control the maximum length of the generation.\n",
      "  warnings.warn(\n",
      "100%|██████████| 25/25 [00:06<00:00,  3.73it/s]\n",
      "Creating json from Arrow format: 100%|██████████| 1/1 [00:00<00:00, 500.16ba/s]\n",
      "Special tokens have been added in the vocabulary, make sure the associated word embeddings are fine-tuned or trained.\n",
      "100%|██████████| 14/14 [00:00<00:00, 280.00it/s]\n",
      "100%|██████████| 100/100 [00:00<00:00, 1868.53it/s]\n",
      "100%|██████████| 4/4 [00:06<00:00,  1.67s/it]\n",
      "100%|██████████| 4/4 [00:06<00:00,  1.71s/it]\n",
      "100%|██████████| 4/4 [00:07<00:00,  1.78s/it]\n",
      "100%|██████████| 4/4 [00:07<00:00,  1.96s/it]\n",
      "100%|██████████| 4/4 [00:07<00:00,  1.90s/it]\n",
      "100%|██████████| 5/5 [00:36<00:00,  7.22s/it]\n"
     ]
    },
    {
     "name": "stdout",
     "output_type": "stream",
     "text": [
      "Total train loss: 3.5626161098480225.\n"
     ]
    },
    {
     "name": "stderr",
     "output_type": "stream",
     "text": [
      "  0%|          | 0/25 [00:00<?, ?it/s]c:\\Users\\yezix\\AppData\\Local\\Programs\\Python\\Python311\\Lib\\site-packages\\transformers\\generation\\utils.py:1273: UserWarning: Using the model-agnostic default `max_length` (=20) to control the generation length. We recommend setting `max_new_tokens` to control the maximum length of the generation.\n",
      "  warnings.warn(\n",
      "100%|██████████| 25/25 [00:08<00:00,  3.08it/s]\n",
      "Creating json from Arrow format: 100%|██████████| 1/1 [00:00<00:00, 500.22ba/s]\n",
      "Special tokens have been added in the vocabulary, make sure the associated word embeddings are fine-tuned or trained.\n",
      "100%|██████████| 14/14 [00:00<00:00, 280.00it/s]\n",
      "100%|██████████| 100/100 [00:00<00:00, 1868.52it/s]\n",
      "100%|██████████| 4/4 [00:06<00:00,  1.58s/it]\n",
      "100%|██████████| 4/4 [00:06<00:00,  1.69s/it]\n",
      "100%|██████████| 4/4 [00:06<00:00,  1.72s/it]\n",
      "100%|██████████| 4/4 [00:07<00:00,  1.97s/it]\n",
      "100%|██████████| 4/4 [00:07<00:00,  1.82s/it]\n",
      "100%|██████████| 5/5 [00:35<00:00,  7.03s/it]\n"
     ]
    },
    {
     "name": "stdout",
     "output_type": "stream",
     "text": [
      "Total train loss: 2.395860433578491.\n"
     ]
    },
    {
     "name": "stderr",
     "output_type": "stream",
     "text": [
      "  0%|          | 0/25 [00:00<?, ?it/s]c:\\Users\\yezix\\AppData\\Local\\Programs\\Python\\Python311\\Lib\\site-packages\\transformers\\generation\\utils.py:1273: UserWarning: Using the model-agnostic default `max_length` (=20) to control the generation length. We recommend setting `max_new_tokens` to control the maximum length of the generation.\n",
      "  warnings.warn(\n",
      "100%|██████████| 25/25 [00:09<00:00,  2.74it/s]\n",
      "Creating json from Arrow format: 100%|██████████| 1/1 [00:00<00:00, 499.92ba/s]\n",
      "Special tokens have been added in the vocabulary, make sure the associated word embeddings are fine-tuned or trained.\n",
      "100%|██████████| 14/14 [00:00<00:00, 341.46it/s]\n",
      "100%|██████████| 100/100 [00:00<00:00, 1835.25it/s]\n",
      "100%|██████████| 4/4 [00:08<00:00,  2.17s/it]\n",
      "100%|██████████| 4/4 [00:11<00:00,  2.77s/it]\n",
      "100%|██████████| 4/4 [00:11<00:00,  2.79s/it]\n",
      "100%|██████████| 4/4 [00:17<00:00,  4.44s/it]\n",
      "100%|██████████| 4/4 [00:10<00:00,  2.59s/it]\n",
      "100%|██████████| 5/5 [00:59<00:00, 11.81s/it]\n"
     ]
    },
    {
     "name": "stdout",
     "output_type": "stream",
     "text": [
      "Total train loss: 10.709283828735352.\n"
     ]
    },
    {
     "name": "stderr",
     "output_type": "stream",
     "text": [
      "  0%|          | 0/25 [00:00<?, ?it/s]c:\\Users\\yezix\\AppData\\Local\\Programs\\Python\\Python311\\Lib\\site-packages\\transformers\\generation\\utils.py:1273: UserWarning: Using the model-agnostic default `max_length` (=20) to control the generation length. We recommend setting `max_new_tokens` to control the maximum length of the generation.\n",
      "  warnings.warn(\n",
      "100%|██████████| 25/25 [00:11<00:00,  2.21it/s]\n",
      "Creating json from Arrow format: 100%|██████████| 1/1 [00:00<00:00, 500.33ba/s]\n",
      "Special tokens have been added in the vocabulary, make sure the associated word embeddings are fine-tuned or trained.\n",
      "100%|██████████| 14/14 [00:00<00:00, 259.26it/s]\n",
      "100%|██████████| 100/100 [00:00<00:00, 1801.52it/s]\n",
      "100%|██████████| 4/4 [00:05<00:00,  1.38s/it]\n",
      "100%|██████████| 4/4 [00:06<00:00,  1.73s/it]\n",
      "100%|██████████| 4/4 [00:06<00:00,  1.71s/it]\n",
      "100%|██████████| 4/4 [00:07<00:00,  1.94s/it]\n",
      "100%|██████████| 4/4 [00:06<00:00,  1.68s/it]\n",
      "100%|██████████| 5/5 [00:33<00:00,  6.76s/it]\n"
     ]
    },
    {
     "name": "stdout",
     "output_type": "stream",
     "text": [
      "Total train loss: 1.9847240447998047.\n"
     ]
    },
    {
     "name": "stderr",
     "output_type": "stream",
     "text": [
      "  0%|          | 0/25 [00:00<?, ?it/s]c:\\Users\\yezix\\AppData\\Local\\Programs\\Python\\Python311\\Lib\\site-packages\\transformers\\generation\\utils.py:1273: UserWarning: Using the model-agnostic default `max_length` (=20) to control the generation length. We recommend setting `max_new_tokens` to control the maximum length of the generation.\n",
      "  warnings.warn(\n",
      "100%|██████████| 25/25 [00:07<00:00,  3.28it/s]\n",
      "Creating json from Arrow format: 100%|██████████| 1/1 [00:00<00:00, 494.67ba/s]\n",
      "Special tokens have been added in the vocabulary, make sure the associated word embeddings are fine-tuned or trained.\n",
      "100%|██████████| 14/14 [00:00<00:00, 301.02it/s]\n",
      "100%|██████████| 100/100 [00:00<00:00, 1851.76it/s]\n",
      "100%|██████████| 4/4 [00:05<00:00,  1.40s/it]\n",
      "100%|██████████| 4/4 [00:06<00:00,  1.66s/it]\n",
      "100%|██████████| 4/4 [00:06<00:00,  1.70s/it]\n",
      "100%|██████████| 4/4 [00:07<00:00,  1.97s/it]\n",
      "100%|██████████| 4/4 [00:06<00:00,  1.72s/it]\n",
      "100%|██████████| 5/5 [00:33<00:00,  6.76s/it]\n"
     ]
    },
    {
     "name": "stdout",
     "output_type": "stream",
     "text": [
      "Total train loss: 1.7636665105819702.\n"
     ]
    },
    {
     "name": "stderr",
     "output_type": "stream",
     "text": [
      "  0%|          | 0/25 [00:00<?, ?it/s]c:\\Users\\yezix\\AppData\\Local\\Programs\\Python\\Python311\\Lib\\site-packages\\transformers\\generation\\utils.py:1273: UserWarning: Using the model-agnostic default `max_length` (=20) to control the generation length. We recommend setting `max_new_tokens` to control the maximum length of the generation.\n",
      "  warnings.warn(\n",
      "100%|██████████| 25/25 [00:08<00:00,  3.08it/s]\n",
      "Creating json from Arrow format: 100%|██████████| 1/1 [00:00<00:00, 500.16ba/s]\n"
     ]
    }
   ],
   "source": [
    "for model_name in model_names:\n",
    "    for lr in lrs:\n",
    "        preds = evaluate_model(model_name=model_name, lr=lr, zeroshot=False)\n",
    "        dataset_test_all = add_prediction_to_data(preds, model_name, lr, dataset_test_all)"
   ]
  },
  {
   "cell_type": "code",
   "execution_count": 18,
   "metadata": {},
   "outputs": [
    {
     "data": {
      "text/plain": [
       "{'sentence_masked': ['Box 0 contains the boat and the shoe and the television, Box 1 contains the camera and the car and the plane, Box 2 contains the cake, Box 3 contains the fan, Box 4 contains the cross and the file and the note, Box 5 contains the chemical, Box 6 contains nothing. Move the cake from Box 2 to Box 6. Put the dish and the stone into Box 5. Move the television from Box 0 to Box 6. Put the drink into Box 2. Move the chemical and the stone from Box 5 to Box 2. Box 0 contains <extra_id_0> .',\n",
       "  'Box 0 contains the boat and the shoe and the television, Box 1 contains the camera and the car and the plane, Box 2 contains the cake, Box 3 contains the fan, Box 4 contains the cross and the file and the note, Box 5 contains the chemical, Box 6 contains nothing. Move the cake from Box 2 to Box 6. Put the dish and the stone into Box 5. Move the television from Box 0 to Box 6. Put the drink into Box 2. Move the chemical and the stone from Box 5 to Box 2. Box 1 contains <extra_id_0> .',\n",
       "  'Box 0 contains the boat and the shoe and the television, Box 1 contains the camera and the car and the plane, Box 2 contains the cake, Box 3 contains the fan, Box 4 contains the cross and the file and the note, Box 5 contains the chemical, Box 6 contains nothing. Move the cake from Box 2 to Box 6. Put the dish and the stone into Box 5. Move the television from Box 0 to Box 6. Put the drink into Box 2. Move the chemical and the stone from Box 5 to Box 2. Box 2 contains <extra_id_0> .',\n",
       "  'Box 0 contains the boat and the shoe and the television, Box 1 contains the camera and the car and the plane, Box 2 contains the cake, Box 3 contains the fan, Box 4 contains the cross and the file and the note, Box 5 contains the chemical, Box 6 contains nothing. Move the cake from Box 2 to Box 6. Put the dish and the stone into Box 5. Move the television from Box 0 to Box 6. Put the drink into Box 2. Move the chemical and the stone from Box 5 to Box 2. Box 3 contains <extra_id_0> .',\n",
       "  'Box 0 contains the boat and the shoe and the television, Box 1 contains the camera and the car and the plane, Box 2 contains the cake, Box 3 contains the fan, Box 4 contains the cross and the file and the note, Box 5 contains the chemical, Box 6 contains nothing. Move the cake from Box 2 to Box 6. Put the dish and the stone into Box 5. Move the television from Box 0 to Box 6. Put the drink into Box 2. Move the chemical and the stone from Box 5 to Box 2. Box 4 contains <extra_id_0> .',\n",
       "  'Box 0 contains the boat and the shoe and the television, Box 1 contains the camera and the car and the plane, Box 2 contains the cake, Box 3 contains the fan, Box 4 contains the cross and the file and the note, Box 5 contains the chemical, Box 6 contains nothing. Move the cake from Box 2 to Box 6. Put the dish and the stone into Box 5. Move the television from Box 0 to Box 6. Put the drink into Box 2. Move the chemical and the stone from Box 5 to Box 2. Box 5 contains <extra_id_0> .',\n",
       "  'Box 0 contains the boat and the shoe and the television, Box 1 contains the camera and the car and the plane, Box 2 contains the cake, Box 3 contains the fan, Box 4 contains the cross and the file and the note, Box 5 contains the chemical, Box 6 contains nothing. Move the cake from Box 2 to Box 6. Put the dish and the stone into Box 5. Move the television from Box 0 to Box 6. Put the drink into Box 2. Move the chemical and the stone from Box 5 to Box 2. Box 6 contains <extra_id_0> .'],\n",
       " 'masked_content': ['<extra_id_0> the boat and the shoe',\n",
       "  '<extra_id_0> the camera and the car and the plane',\n",
       "  '<extra_id_0> the chemical and the drink and the stone',\n",
       "  '<extra_id_0> the fan',\n",
       "  '<extra_id_0> the cross and the file and the note',\n",
       "  '<extra_id_0> the dish',\n",
       "  '<extra_id_0> the cake and the television'],\n",
       " 'sample_id': [0, 0, 0, 0, 0, 0, 0],\n",
       " 'numops': [1, 0, 3, 0, 0, 2, 2],\n",
       " 'model_general_3e-3_pred': ['the a genie',\n",
       "  'the a sling',\n",
       "  'the a sliver',\n",
       "  'the sleigh bells',\n",
       "  'the sleigh',\n",
       "  'the a sling',\n",
       "  'the a sphinx'],\n",
       " 'model_general_3e-4_pred': ['the cake',\n",
       "  'the camera and the car and the plane',\n",
       "  'the cake',\n",
       "  'the cake',\n",
       "  'the cross and the file and the note',\n",
       "  'the chemical',\n",
       "  'the drink'],\n",
       " 'model_general_3e-5_pred': ['the boat and the shoe and the television',\n",
       "  'the camera and the shoe and the plane',\n",
       "  'the cake',\n",
       "  'the drink',\n",
       "  'the cross and the file and the note',\n",
       "  'the chemical',\n",
       "  'the dish'],\n",
       " 'model_code_3e-3_pred': ['python def chr(ch): ch.is',\n",
       "  'python def num_dup_the_pi(',\n",
       "  'python def cross_the_car(car): if',\n",
       "  'python def num_of_the_substring(s',\n",
       "  'python def find_pairs(s: str) ',\n",
       "  'python def k_colcols(col1: List',\n",
       "  'python def num_sequence(s: str'],\n",
       " 'model_code_3e-4_pred': ['the cake',\n",
       "  'the cake',\n",
       "  'the boat and the shoe',\n",
       "  'the cake',\n",
       "  'the boat and the shoe',\n",
       "  'the camera and the shoe',\n",
       "  'the boat and the shoe and the television'],\n",
       " 'model_code_3e-5_pred': ['the boat and the shoe',\n",
       "  'the camera and the shoe and the plane',\n",
       "  'the cake',\n",
       "  'the fan',\n",
       "  'the cross and the file and the note',\n",
       "  'the chemical',\n",
       "  'the drink'],\n",
       " 'model_math_3e-3_pred': ['The cross',\n",
       "  'The box containing the aforementioned textso text',\n",
       "  'The box contains the information text and the car in the car in the car.',\n",
       "  'The container $boxedtextSince the box contains the information ',\n",
       "  'Box 2 contains the same information about the box. The box containing the box contains the same',\n",
       "  'The box containing the information about the distance from the point to the plane containing the information',\n",
       "  'The car and the shoe and the car and the car and the plane & the car and'],\n",
       " 'model_math_3e-4_pred': ['the cake',\n",
       "  'the cross and the file and the note',\n",
       "  'the cross and the file and the note',\n",
       "  'the cross and the file and the note',\n",
       "  'the dish and the stone',\n",
       "  'the cross and the file and the note',\n",
       "  'the cross and the file and the note'],\n",
       " 'model_math_3e-5_pred': ['the dish',\n",
       "  'the cake',\n",
       "  'the cake',\n",
       "  'the fan',\n",
       "  'the drink',\n",
       "  'the chemical',\n",
       "  'the chemical'],\n",
       " 'model_general_code_3e-3_pred': ['the sponge',\n",
       "  'the sphine',\n",
       "  'the sphinx',\n",
       "  'the plane',\n",
       "  'the cake',\n",
       "  'the sponge',\n",
       "  'the cake'],\n",
       " 'model_general_code_3e-4_pred': ['the cake',\n",
       "  'the drink',\n",
       "  'the cake',\n",
       "  'the cake',\n",
       "  'the fan',\n",
       "  'the cake',\n",
       "  'the drink'],\n",
       " 'model_general_code_3e-5_pred': ['the boat and the shoe',\n",
       "  'the camera and the car and the plane',\n",
       "  'the cake',\n",
       "  'the fan',\n",
       "  'the chemical',\n",
       "  'the chemical',\n",
       "  'the television'],\n",
       " 'model_general_math_3e-3_pred': ['the water polo',\n",
       "  'the jar',\n",
       "  'the tiger',\n",
       "  'the shopper',\n",
       "  'the jar',\n",
       "  'the helium',\n",
       "  'the bag and the bag'],\n",
       " 'model_general_math_3e-4_pred': ['the boat and the shoe and the television',\n",
       "  'the boat and the shoe and the plane',\n",
       "  'the cake',\n",
       "  'the chemical',\n",
       "  'the cross and the file and the note',\n",
       "  'the chemical',\n",
       "  'the chemical'],\n",
       " 'model_general_math_3e-5_pred': ['the boat and the shoe',\n",
       "  'the boat and the shoe',\n",
       "  'the drink',\n",
       "  'the fan',\n",
       "  'the cross and the note',\n",
       "  'the chemical',\n",
       "  'the cake']}"
      ]
     },
     "execution_count": 18,
     "metadata": {},
     "output_type": "execute_result"
    }
   ],
   "source": [
    "dataset_test_all[:7]"
   ]
  },
  {
   "cell_type": "code",
   "execution_count": 19,
   "metadata": {},
   "outputs": [
    {
     "name": "stderr",
     "output_type": "stream",
     "text": [
      "Creating json from Arrow format: 100%|██████████| 1/1 [00:00<00:00, 250.03ba/s]\n"
     ]
    },
    {
     "data": {
      "text/plain": [
       "147084"
      ]
     },
     "execution_count": 19,
     "metadata": {},
     "output_type": "execute_result"
    }
   ],
   "source": [
    "dataset_test_all.to_json(f\"./results/eval/preds/preds_twoshot_small.jsonl\", orient=\"records\")"
   ]
  },
  {
   "cell_type": "markdown",
   "metadata": {},
   "source": [
    "## Metrics"
   ]
  },
  {
   "cell_type": "markdown",
   "metadata": {},
   "source": [
    "### Helpers"
   ]
  },
  {
   "cell_type": "code",
   "execution_count": 20,
   "metadata": {},
   "outputs": [],
   "source": [
    "def load_dataset_if_not_already(dataset_path=\"./results/eval/preds/preds_twoshot.jsonl\"):\n",
    "    if \"dataset_test_all\" not in locals():\n",
    "        dataset_test_all = load_dataset('json', data_files=dataset_path)['train']\n",
    "    return dataset_test_all"
   ]
  },
  {
   "cell_type": "code",
   "execution_count": 21,
   "metadata": {},
   "outputs": [],
   "source": [
    "def clean_labels(labels):\n",
    "    # removes leading masked token\n",
    "    cln_labels = list(map(lambda label: label[13:], labels))\n",
    "    return cln_labels"
   ]
  },
  {
   "cell_type": "code",
   "execution_count": 29,
   "metadata": {},
   "outputs": [],
   "source": [
    "def compute_metrics_for_model(labels_combined, preds_combined):\n",
    "\n",
    "    # split labels and preds into list of items\n",
    "    label_items = list(map(lambda label: label.split(\" and \"), labels_combined))\n",
    "    preds_items = list(map(lambda pred: pred.split(\" and \"), preds_combined))\n",
    "\n",
    "    # count predictions\n",
    "    total_preds, total_correct, true_pos, false_pos, false_neg = 0, 0, 0, 0, 0\n",
    "    for i in range(len(label_items)):\n",
    "        labels, preds = label_items[i], preds_items[i]\n",
    "        for label in labels:\n",
    "            if (label in preds):     # correct answer that pred also has\n",
    "                total_correct += 1\n",
    "                true_pos += 1\n",
    "            else:                    # correct answer that pred does not have\n",
    "                false_neg += 1\n",
    "            total_preds += 1         # count the item into total regardless\n",
    "        for pred in preds:\n",
    "            if (pred not in labels): # item that pred has but is not in answer\n",
    "                false_pos += 1\n",
    "\n",
    "    # compute metrics\n",
    "    accuracy = total_correct / total_preds\n",
    "    precision = true_pos / (true_pos + false_pos)\n",
    "    recall = true_pos / (true_pos + false_neg)\n",
    "    f1 = (precision * recall) / (precision + recall) if (precision + recall > 0) else 0\n",
    "\n",
    "    print(f\"accuracy: {accuracy}\")\n",
    "    print(f\"precision: {precision}\")\n",
    "    print(f\"recall: {recall}\")\n",
    "    print(f\"f1 score: {f1}\")\n",
    "\n",
    "    return accuracy, precision, recall, f1"
   ]
  },
  {
   "cell_type": "markdown",
   "metadata": {},
   "source": [
    "### Actual Computation"
   ]
  },
  {
   "cell_type": "code",
   "execution_count": 27,
   "metadata": {},
   "outputs": [],
   "source": [
    "def compute_metrics(model_name=\"base\", lr=\"3e-4\", dataset_path=\"./results/eval/preds/preds_twoshot.jsonl\"):\n",
    "    dataset_test_all = load_dataset_if_not_already(dataset_path=dataset_path)\n",
    "    cln_labels = clean_labels(dataset_test_all['masked_content'])\n",
    "    metrics = compute_metrics_for_model(cln_labels, dataset_test_all[f\"model_{model_name}_{lr}_pred\"])\n",
    "    return metrics"
   ]
  },
  {
   "cell_type": "code",
   "execution_count": 24,
   "metadata": {},
   "outputs": [],
   "source": [
    "model_names = [\"general\", \"code\", \"math\", \"general_code\", \"general_math\"]\n",
    "lrs = [\"3e-3\", \"3e-4\", \"3e-5\"]"
   ]
  },
  {
   "cell_type": "code",
   "execution_count": 35,
   "metadata": {},
   "outputs": [],
   "source": [
    "acc_by_model_and_lr, pre_by_model_and_lr, rec_by_model_and_lr, f1_by_model_and_lr = dict(), dict(), dict(), dict()\n",
    "#metrics_by_model_3, metrics_by_model_4, metrics_by_model_5 = dict(), dict(), dict()"
   ]
  },
  {
   "cell_type": "code",
   "execution_count": 36,
   "metadata": {},
   "outputs": [
    {
     "name": "stdout",
     "output_type": "stream",
     "text": [
      "general, lr=3e-3:\n",
      "accuracy: 0.005714285714285714\n",
      "precision: 0.01\n",
      "recall: 0.005714285714285714\n",
      "f1 score: 0.003636363636363636\n",
      "\n",
      "general, lr=3e-4:\n",
      "accuracy: 0.4\n",
      "precision: 0.4166666666666667\n",
      "recall: 0.4\n",
      "f1 score: 0.20408163265306126\n",
      "\n",
      "general, lr=3e-5:\n",
      "accuracy: 0.38857142857142857\n",
      "precision: 0.43312101910828027\n",
      "recall: 0.38857142857142857\n",
      "f1 score: 0.20481927710843376\n",
      "\n",
      "code, lr=3e-3:\n",
      "accuracy: 0.0\n",
      "precision: 0.0\n",
      "recall: 0.0\n",
      "f1 score: 0\n",
      "\n",
      "code, lr=3e-4:\n",
      "accuracy: 0.10857142857142857\n",
      "precision: 0.10674157303370786\n",
      "recall: 0.10857142857142857\n",
      "f1 score: 0.05382436260623229\n",
      "\n",
      "code, lr=3e-5:\n",
      "accuracy: 0.44\n",
      "precision: 0.4117647058823529\n",
      "recall: 0.44\n",
      "f1 score: 0.21270718232044197\n",
      "\n",
      "math, lr=3e-3:\n",
      "accuracy: 0.011428571428571429\n",
      "precision: 0.007874015748031496\n",
      "recall: 0.011428571428571429\n",
      "f1 score: 0.004662004662004662\n",
      "\n",
      "math, lr=3e-4:\n",
      "accuracy: 0.09142857142857143\n",
      "precision: 0.08290155440414508\n",
      "recall: 0.09142857142857143\n",
      "f1 score: 0.043478260869565216\n",
      "\n",
      "math, lr=3e-5:\n",
      "accuracy: 0.3314285714285714\n",
      "precision: 0.3717948717948718\n",
      "recall: 0.3314285714285714\n",
      "f1 score: 0.17522658610271905\n",
      "\n",
      "general_code, lr=3e-3:\n",
      "accuracy: 0.017142857142857144\n",
      "precision: 0.03\n",
      "recall: 0.017142857142857144\n",
      "f1 score: 0.01090909090909091\n",
      "\n",
      "general_code, lr=3e-4:\n",
      "accuracy: 0.09142857142857143\n",
      "precision: 0.10256410256410256\n",
      "recall: 0.09142857142857143\n",
      "f1 score: 0.04833836858006042\n",
      "\n",
      "general_code, lr=3e-5:\n",
      "accuracy: 0.3942857142857143\n",
      "precision: 0.4233128834355828\n",
      "recall: 0.3942857142857143\n",
      "f1 score: 0.20414201183431951\n",
      "\n",
      "general_math, lr=3e-3:\n",
      "accuracy: 0.0\n",
      "precision: 0.0\n",
      "recall: 0.0\n",
      "f1 score: 0\n",
      "\n",
      "general_math, lr=3e-4:\n",
      "accuracy: 0.3657142857142857\n",
      "precision: 0.3404255319148936\n",
      "recall: 0.3657142857142857\n",
      "f1 score: 0.1763085399449036\n",
      "\n",
      "general_math, lr=3e-5:\n",
      "accuracy: 0.35428571428571426\n",
      "precision: 0.40789473684210525\n",
      "recall: 0.35428571428571426\n",
      "f1 score: 0.18960244648318042\n",
      "\n"
     ]
    }
   ],
   "source": [
    "for model_name in model_names:\n",
    "    for lr in lrs:\n",
    "        print(f\"{model_name}, lr={lr}:\")\n",
    "        accuracy, precision, recall, f1 = compute_metrics(\n",
    "            model_name=model_name, lr=lr,\n",
    "            dataset_path=\"./results/eval/preds/preds_twoshot_small.jsonl\"\n",
    "            )\n",
    "        print()\n",
    "        if (lr in acc_by_model_and_lr):\n",
    "            acc_by_model_and_lr[lr].append(accuracy)\n",
    "            pre_by_model_and_lr[lr].append(precision)\n",
    "            rec_by_model_and_lr[lr].append(recall)\n",
    "            f1_by_model_and_lr[lr].append(f1)\n",
    "        else:\n",
    "            acc_by_model_and_lr[lr] = [accuracy]\n",
    "            pre_by_model_and_lr[lr] = [precision]\n",
    "            rec_by_model_and_lr[lr] = [recall]\n",
    "            f1_by_model_and_lr[lr] = [f1]"
   ]
  },
  {
   "cell_type": "markdown",
   "metadata": {},
   "source": [
    "### Plotting"
   ]
  },
  {
   "cell_type": "code",
   "execution_count": 47,
   "metadata": {},
   "outputs": [],
   "source": [
    "# libraries\n",
    "import numpy as np\n",
    "import matplotlib.pyplot as plt\n",
    "\n",
    "# set width of bars\n",
    "barWidth = 0.25\n",
    "\n",
    "# Set position of bar on X axis\n",
    "r1 = np.arange(len(model_names))\n",
    "r2 = [x + barWidth for x in r1]\n",
    "r3 = [x + barWidth for x in r2]\n",
    "\n",
    "model_names_on_plot = [\"general\", \"code\", \"math\", \"general+code\", \"general+math\"]"
   ]
  },
  {
   "cell_type": "code",
   "execution_count": 79,
   "metadata": {},
   "outputs": [
    {
     "data": {
      "image/png": "[encoded data removed]",
      "text/plain": [
       "<Figure size 750x300 with 1 Axes>"
      ]
     },
     "metadata": {},
     "output_type": "display_data"
    }
   ],
   "source": [
    "fig = plt.figure(figsize=(7.5, 3))\n",
    "\n",
    "plt.bar(r1, acc_by_model_and_lr[\"3e-3\"], width=barWidth, edgecolor='white', label='3e-3')\n",
    "plt.bar(r2, acc_by_model_and_lr[\"3e-4\"], width=barWidth, edgecolor='white', label='3e-4')\n",
    "plt.bar(r3, acc_by_model_and_lr[\"3e-5\"], width=barWidth, edgecolor='white', label='3e-5')\n",
    " \n",
    "plt.ylabel('accuracy')\n",
    "plt.ylim(0, 0.52)\n",
    "plt.xlabel('')\n",
    "plt.xticks([r + barWidth for r in range(len(model_names))], model_names_on_plot)\n",
    "plt.legend(loc='upper center', ncol=3)\n",
    "\n",
    "plt.savefig(f\"./results/eval/plots/accuracy.png\")\n",
    "plt.show()"
   ]
  },
  {
   "cell_type": "code",
   "execution_count": 80,
   "metadata": {},
   "outputs": [
    {
     "data": {
      "image/png": "[encoded data removed]",
      "text/plain": [
       "<Figure size 750x300 with 1 Axes>"
      ]
     },
     "metadata": {},
     "output_type": "display_data"
    }
   ],
   "source": [
    "plt.close()\n",
    "fig = plt.figure(figsize=(7.5, 3))\n",
    "\n",
    "plt.bar(r1, pre_by_model_and_lr[\"3e-3\"], width=barWidth, edgecolor='white', label='3e-3')\n",
    "plt.bar(r2, pre_by_model_and_lr[\"3e-4\"], width=barWidth, edgecolor='white', label='3e-4')\n",
    "plt.bar(r3, pre_by_model_and_lr[\"3e-5\"], width=barWidth, edgecolor='white', label='3e-5')\n",
    " \n",
    "plt.ylabel('precision')\n",
    "plt.ylim(0, 0.52)\n",
    "plt.xlabel('')\n",
    "plt.xticks([r + barWidth for r in range(len(model_names))], model_names_on_plot)\n",
    "plt.legend(loc='upper center', ncol=3)\n",
    "\n",
    "plt.savefig(f\"./results/eval/plots/precision.png\")\n",
    "plt.show()"
   ]
  },
  {
   "cell_type": "code",
   "execution_count": 70,
   "metadata": {},
   "outputs": [
    {
     "data": {
      "image/png": "[encoded data removed]",
      "text/plain": [
       "<Figure size 750x300 with 1 Axes>"
      ]
     },
     "metadata": {},
     "output_type": "display_data"
    }
   ],
   "source": [
    "plt.close()\n",
    "fig = plt.figure(figsize=(7.5, 3))\n",
    "\n",
    "plt.bar(r1, rec_by_model_and_lr[\"3e-3\"], width=barWidth, edgecolor='white', label='3e-3')\n",
    "plt.bar(r2, rec_by_model_and_lr[\"3e-4\"], width=barWidth, edgecolor='white', label='3e-4')\n",
    "plt.bar(r3, rec_by_model_and_lr[\"3e-5\"], width=barWidth, edgecolor='white', label='3e-5')\n",
    " \n",
    "plt.ylabel('recall')\n",
    "plt.ylim(0, 0.52)\n",
    "plt.xlabel('')\n",
    "plt.xticks([r + barWidth for r in range(len(model_names))], model_names_on_plot)\n",
    "plt.legend(loc='upper center', ncol=3)\n",
    "\n",
    "plt.savefig(f\"./results/eval/plots/recall.png\")\n",
    "plt.show()"
   ]
  },
  {
   "cell_type": "code",
   "execution_count": 81,
   "metadata": {},
   "outputs": [
    {
     "data": {
      "image/png": "[encoded data removed]",
      "text/plain": [
       "<Figure size 750x300 with 1 Axes>"
      ]
     },
     "metadata": {},
     "output_type": "display_data"
    }
   ],
   "source": [
    "plt.close()\n",
    "fig = plt.figure(figsize=(7.5, 3))\n",
    "\n",
    "plt.bar(r1, f1_by_model_and_lr[\"3e-3\"], width=barWidth, edgecolor='white', label='3e-3')\n",
    "plt.bar(r2, f1_by_model_and_lr[\"3e-4\"], width=barWidth, edgecolor='white', label='3e-4')\n",
    "plt.bar(r3, f1_by_model_and_lr[\"3e-5\"], width=barWidth, edgecolor='white', label='3e-5')\n",
    " \n",
    "plt.ylabel('f1')\n",
    "plt.ylim(0, 0.26)\n",
    "plt.xlabel('')\n",
    "plt.xticks([r + barWidth for r in range(len(model_names))], model_names_on_plot)\n",
    "plt.legend(loc='upper center', ncol=3)\n",
    "\n",
    "plt.savefig(f\"./results/eval/plots/f1.png\")\n",
    "plt.show()"
   ]
  }
 ],
 "metadata": {
  "kernelspec": {
   "display_name": "Python 3 (ipykernel)",
   "language": "python",
   "name": "python3"
  },
  "language_info": {
   "codemirror_mode": {
    "name": "ipython",
    "version": 3
   },
   "file_extension": ".py",
   "mimetype": "text/x-python",
   "name": "python",
   "nbconvert_exporter": "python",
   "pygments_lexer": "ipython3",
   "version": "3.11.5"
  }
 },
 "nbformat": 4,
 "nbformat_minor": 5
}
